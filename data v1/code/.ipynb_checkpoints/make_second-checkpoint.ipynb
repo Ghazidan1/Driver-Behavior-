{
 "cells": [
  {
   "cell_type": "markdown",
   "metadata": {},
   "source": [
    "# this file is to reformat data set\n",
    "## 1) the data set each record has his time from start record data\n",
    "## 2) we need to reformat the time to be a second (each record has been recorded after how many second from the start )"
   ]
  },
  {
   "cell_type": "markdown",
   "metadata": {},
   "source": [
    "## Start"
   ]
  },
  {
   "cell_type": "markdown",
   "metadata": {},
   "source": [
    "### 1) load dataset "
   ]
  },
  {
   "cell_type": "code",
   "execution_count": null,
   "metadata": {},
   "outputs": [],
   "source": [
    "import pandas as pd\n",
    "import numpy as np\n",
    "\n",
    "aceleracaoLinear = pd.read_csv(\"aceleracaoLinear_terra.csv\")\n",
    "acelerometro_terra =pd.read_csv(\"acelerometro_terra.csv\")\n",
    "campoMagnetico_terra =pd.read_csv(\"campoMagnetico_terra.csv\")\n",
    "giroscopio_terra = pd.read_csv(\"giroscopio_terra.csv\")\n",
    "#name = pd.read_csv(\"groundTruth.csv\")\n",
    "\n",
    "\n",
    "aceleracaoLinearl_ist = aceleracaoLinear.values\n",
    "acelerometro_terra_list = acelerometro_terra.values\n",
    "campoMagnetico_terra_list = campoMagnetico_terra.values\n",
    "giroscopio_terra_list = giroscopio_terra.values\n",
    "\n",
    "aceleracaoLinear_startpoint  = list(map(int, aceleracaoLinearl_ist[0][0].split(' ')[1].split(':')  ))\n",
    "acelerometro_terra_startpoint  = list(map(int, acelerometro_terra_list[0][0].split(' ')[1].split(':')  ))\n",
    "campoMagnetico_terra_startpoint  = list(map(int, campoMagnetico_terra_list[0][0].split(' ')[1].split(':')  ))\n",
    "giroscopio_terra_startpoint  = list(map(int, giroscopio_terra_list[0][0].split(' ')[1].split(':')  ))"
   ]
  },
  {
   "cell_type": "code",
   "execution_count": 2,
   "metadata": {},
   "outputs": [],
   "source": [
    "aceleracaoLinear_startpoint = np.array(aceleracaoLinear_startpoint)\n",
    "acelerometro_terra_startpoint = np.array(acelerometro_terra_startpoint)\n",
    "campoMagnetico_terra_startpoint = np.array(campoMagnetico_terra_startpoint)\n",
    "giroscopio_terra_startpoint = np.array(giroscopio_terra_startpoint)"
   ]
  },
  {
   "cell_type": "code",
   "execution_count": 3,
   "metadata": {},
   "outputs": [],
   "source": [
    "aceleracaoLinearl_ist_size = len(aceleracaoLinearl_ist)\n",
    "acelerometro_terra_list_size = len(acelerometro_terra_list)\n",
    "campoMagnetico_terra_list_size = len(campoMagnetico_terra_list)\n",
    "giroscopio_terra_list_size = len(giroscopio_terra_list)"
   ]
  },
  {
   "cell_type": "markdown",
   "metadata": {},
   "source": [
    "## 2) convert the time to a second"
   ]
  },
  {
   "cell_type": "code",
   "execution_count": 4,
   "metadata": {},
   "outputs": [],
   "source": [
    "aceleracaoLinearl_valList =[0]\n",
    "for i in range(1 , aceleracaoLinearl_ist_size):\n",
    "    currenttime = list(map(int, aceleracaoLinearl_ist[i][0].split(' ')[1].split(':')  )) \n",
    "    currenttime = np.array(currenttime)\n",
    "    val = currenttime - aceleracaoLinear_startpoint\n",
    "    second = (val[0] * 60 * 60) + (val[1] * 60) + val[2]\n",
    "    aceleracaoLinearl_valList.append(second)\n"
   ]
  },
  {
   "cell_type": "code",
   "execution_count": 5,
   "metadata": {},
   "outputs": [],
   "source": [
    "acelerometro_terra_valList =[0]\n",
    "for i in range(1 , acelerometro_terra_list_size):\n",
    "    currenttime = list(map(int, acelerometro_terra_list[i][0].split(' ')[1].split(':')  )) \n",
    "    currenttime = np.array(currenttime)\n",
    "    val = currenttime - acelerometro_terra_startpoint\n",
    "    second = (val[0] * 60 * 60) + (val[1] * 60) + val[2]\n",
    "    acelerometro_terra_valList.append(second)"
   ]
  },
  {
   "cell_type": "code",
   "execution_count": 6,
   "metadata": {},
   "outputs": [],
   "source": [
    "campoMagnetico_terra_valList =[0]\n",
    "for i in range(1 , campoMagnetico_terra_list_size):\n",
    "    currenttime = list(map(int, campoMagnetico_terra_list[i][0].split(' ')[1].split(':')  )) \n",
    "    currenttime = np.array(currenttime)\n",
    "    val = currenttime - acelerometro_terra_startpoint\n",
    "    second = (val[0] * 60 * 60) + (val[1] * 60) + val[2]\n",
    "    campoMagnetico_terra_valList.append(second)"
   ]
  },
  {
   "cell_type": "code",
   "execution_count": 7,
   "metadata": {},
   "outputs": [],
   "source": [
    "giroscopio_terra_valList =[0]\n",
    "for i in range(1 , giroscopio_terra_list_size):\n",
    "    currenttime = list(map(int, giroscopio_terra_list[i][0].split(' ')[1].split(':')  )) \n",
    "    currenttime = np.array(currenttime)\n",
    "    val = currenttime - acelerometro_terra_startpoint\n",
    "    second = (val[0] * 60 * 60) + (val[1] * 60) + val[2]\n",
    "    giroscopio_terra_valList.append(second)"
   ]
  },
  {
   "cell_type": "markdown",
   "metadata": {},
   "source": [
    "## 3) append the second colume to the data set named \"val\" "
   ]
  },
  {
   "cell_type": "code",
   "execution_count": 8,
   "metadata": {},
   "outputs": [],
   "source": [
    "aceleracaoLinear['val'] = aceleracaoLinearl_valList\n",
    "acelerometro_terra['val'] = acelerometro_terra_valList\n",
    "campoMagnetico_terra['val'] = campoMagnetico_terra_valList\n",
    "giroscopio_terra['val'] = giroscopio_terra_valList"
   ]
  },
  {
   "cell_type": "markdown",
   "metadata": {},
   "source": [
    "## 4) save the data set "
   ]
  },
  {
   "cell_type": "code",
   "execution_count": 9,
   "metadata": {},
   "outputs": [],
   "source": [
    "aceleracaoLinear.to_csv('NEW_aceleracaoLinear_terra.csv')\n",
    "acelerometro_terra.to_csv('NEW_acelerometro_terra.csv')\n",
    "campoMagnetico_terra.to_csv('NEW_campoMagnetico_terra.csv')\n",
    "giroscopio_terra.to_csv('NEW_giroscopio_terra.csv')"
   ]
  }
 ],
 "metadata": {
  "kernelspec": {
   "display_name": "Python 3",
   "language": "python",
   "name": "python3"
  },
  "language_info": {
   "codemirror_mode": {
    "name": "ipython",
    "version": 3
   },
   "file_extension": ".py",
   "mimetype": "text/x-python",
   "name": "python",
   "nbconvert_exporter": "python",
   "pygments_lexer": "ipython3",
   "version": "3.6.10"
  }
 },
 "nbformat": 4,
 "nbformat_minor": 2
}
