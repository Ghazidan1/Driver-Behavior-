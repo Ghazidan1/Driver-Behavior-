{
 "cells": [
  {
   "cell_type": "markdown",
   "metadata": {},
   "source": [
    "# This code is to reformat data set\n",
    "* In the data set, there is for each record has his time from the starting recording data (TimeStamp).\n",
    "* We need to reformat the time to be in seconds (for each record how many seconds have been recorded from the start)."
   ]
  },
  {
   "cell_type": "markdown",
   "metadata": {},
   "source": [
    "### 1) Load dataset "
   ]
  },
  {
   "cell_type": "markdown",
   "metadata": {},
   "source": [
    "* Load .csv files and load list of it is values \n",
    "* Get start point for each sensor data to convert it to seconds \n",
    "* Convert start point to an numpy array\n",
    "* Get the length of each list to iterate over it"
   ]
  },
  {
   "cell_type": "code",
   "execution_count": null,
   "metadata": {},
   "outputs": [],
   "source": [
    "import pandas as pd\n",
    "import numpy as np\n",
    "\n",
    "# load .csv data \n",
    "aceleracaoLinear = pd.read_csv(\"aceleracaoLinear_terra.csv\")\n",
    "acelerometro_terra =pd.read_csv(\"acelerometro_terra.csv\")\n",
    "campoMagnetico_terra =pd.read_csv(\"campoMagnetico_terra.csv\")\n",
    "giroscopio_terra = pd.read_csv(\"giroscopio_terra.csv\")\n",
    "#name = pd.read_csv(\"groundTruth.csv\")\n",
    "\n",
    "# load data values\n",
    "aceleracaoLinearl_ist = aceleracaoLinear.values\n",
    "acelerometro_terra_list = acelerometro_terra.values\n",
    "campoMagnetico_terra_list = campoMagnetico_terra.values\n",
    "giroscopio_terra_list = giroscopio_terra.values\n",
    "\n",
    "# get start point for each sensor data to convert it to seconds \n",
    "aceleracaoLinear_startpoint  = list(map(int, aceleracaoLinearl_ist[0][0].split(' ')[1].split(':')  ))\n",
    "acelerometro_terra_startpoint  = list(map(int, acelerometro_terra_list[0][0].split(' ')[1].split(':')  ))\n",
    "campoMagnetico_terra_startpoint  = list(map(int, campoMagnetico_terra_list[0][0].split(' ')[1].split(':')  ))\n",
    "giroscopio_terra_startpoint  = list(map(int, giroscopio_terra_list[0][0].split(' ')[1].split(':')  ))"
   ]
  },
  {
   "cell_type": "code",
   "execution_count": 2,
   "metadata": {},
   "outputs": [],
   "source": [
    "# convert start point to an numpy array\n",
    "aceleracaoLinear_startpoint = np.array(aceleracaoLinear_startpoint)\n",
    "acelerometro_terra_startpoint = np.array(acelerometro_terra_startpoint)\n",
    "campoMagnetico_terra_startpoint = np.array(campoMagnetico_terra_startpoint)\n",
    "giroscopio_terra_startpoint = np.array(giroscopio_terra_startpoint)"
   ]
  },
  {
   "cell_type": "code",
   "execution_count": 3,
   "metadata": {},
   "outputs": [],
   "source": [
    "# get the length of each list to iterate over it\n",
    "aceleracaoLinearl_ist_size = len(aceleracaoLinearl_ist)\n",
    "acelerometro_terra_list_size = len(acelerometro_terra_list)\n",
    "campoMagnetico_terra_list_size = len(campoMagnetico_terra_list)\n",
    "giroscopio_terra_list_size = len(giroscopio_terra_list)"
   ]
  },
  {
   "cell_type": "markdown",
   "metadata": {},
   "source": [
    "## 2) Convert the time to a second"
   ]
  },
  {
   "cell_type": "markdown",
   "metadata": {},
   "source": [
    "* Get current record\n",
    "* Get current timestamp\n",
    "* Convert it to an numpy array\n",
    "* Get the difference between the start point and the current one\n",
    "* Convert this different to seconds value\n",
    "* Append current seconds value to sensor seconds value list "
   ]
  },
  {
   "cell_type": "markdown",
   "metadata": {},
   "source": [
    "* Do these steps to each sensor"
   ]
  },
  {
   "cell_type": "code",
   "execution_count": 4,
   "metadata": {},
   "outputs": [],
   "source": [
    "aceleracaoLinearl_valList =[0]\n",
    "for i in range(1 , aceleracaoLinearl_ist_size):\n",
    "    currenttime = list(map(int, aceleracaoLinearl_ist[i][0].split(' ')[1].split(':')  )) \n",
    "    currenttime = np.array(currenttime)\n",
    "    val = currenttime - aceleracaoLinear_startpoint\n",
    "    second = (val[0] * 60 * 60) + (val[1] * 60) + val[2]\n",
    "    aceleracaoLinearl_valList.append(second)\n"
   ]
  },
  {
   "cell_type": "code",
   "execution_count": 5,
   "metadata": {},
   "outputs": [],
   "source": [
    "acelerometro_terra_valList =[0]\n",
    "for i in range(1 , acelerometro_terra_list_size):\n",
    "    currenttime = list(map(int, acelerometro_terra_list[i][0].split(' ')[1].split(':')  )) \n",
    "    currenttime = np.array(currenttime)\n",
    "    val = currenttime - acelerometro_terra_startpoint\n",
    "    second = (val[0] * 60 * 60) + (val[1] * 60) + val[2]\n",
    "    acelerometro_terra_valList.append(second)"
   ]
  },
  {
   "cell_type": "code",
   "execution_count": 6,
   "metadata": {},
   "outputs": [],
   "source": [
    "campoMagnetico_terra_valList =[0]\n",
    "for i in range(1 , campoMagnetico_terra_list_size):\n",
    "    currenttime = list(map(int, campoMagnetico_terra_list[i][0].split(' ')[1].split(':')  )) \n",
    "    currenttime = np.array(currenttime)\n",
    "    val = currenttime - acelerometro_terra_startpoint\n",
    "    second = (val[0] * 60 * 60) + (val[1] * 60) + val[2]\n",
    "    campoMagnetico_terra_valList.append(second)"
   ]
  },
  {
   "cell_type": "code",
   "execution_count": 7,
   "metadata": {},
   "outputs": [],
   "source": [
    "giroscopio_terra_valList =[0]\n",
    "for i in range(1 , giroscopio_terra_list_size):\n",
    "    currenttime = list(map(int, giroscopio_terra_list[i][0].split(' ')[1].split(':')  )) \n",
    "    currenttime = np.array(currenttime)\n",
    "    val = currenttime - acelerometro_terra_startpoint\n",
    "    second = (val[0] * 60 * 60) + (val[1] * 60) + val[2]\n",
    "    giroscopio_terra_valList.append(second)"
   ]
  },
  {
   "cell_type": "markdown",
   "metadata": {},
   "source": [
    "## 3) Append the seconds column to the data set"
   ]
  },
  {
   "cell_type": "code",
   "execution_count": 8,
   "metadata": {},
   "outputs": [],
   "source": [
    "aceleracaoLinear['val'] = aceleracaoLinearl_valList\n",
    "acelerometro_terra['val'] = acelerometro_terra_valList\n",
    "campoMagnetico_terra['val'] = campoMagnetico_terra_valList\n",
    "giroscopio_terra['val'] = giroscopio_terra_valList"
   ]
  },
  {
   "cell_type": "markdown",
   "metadata": {},
   "source": [
    "## 4) Save the new data set "
   ]
  },
  {
   "cell_type": "code",
   "execution_count": 9,
   "metadata": {},
   "outputs": [],
   "source": [
    "aceleracaoLinear.to_csv('NEW_aceleracaoLinear_terra.csv')\n",
    "acelerometro_terra.to_csv('NEW_acelerometro_terra.csv')\n",
    "campoMagnetico_terra.to_csv('NEW_campoMagnetico_terra.csv')\n",
    "giroscopio_terra.to_csv('NEW_giroscopio_terra.csv')"
   ]
  }
 ],
 "metadata": {
  "kernelspec": {
   "display_name": "Python 3",
   "language": "python",
   "name": "python3"
  },
  "language_info": {
   "codemirror_mode": {
    "name": "ipython",
    "version": 3
   },
   "file_extension": ".py",
   "mimetype": "text/x-python",
   "name": "python",
   "nbconvert_exporter": "python",
   "pygments_lexer": "ipython3",
   "version": "3.6.10"
  }
 },
 "nbformat": 4,
 "nbformat_minor": 2
}
