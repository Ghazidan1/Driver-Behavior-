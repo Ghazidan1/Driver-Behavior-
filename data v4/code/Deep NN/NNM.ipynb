{
 "cells": [
  {
   "cell_type": "markdown",
   "metadata": {},
   "source": [
    "# Neural Network Model\n",
    "- A neural network is a series of algorithms that endeavors to recognize underlying relationships in a set of data through a process that mimics the way the human brain operates."
   ]
  },
  {
   "cell_type": "markdown",
   "metadata": {},
   "source": [
    "- load dataset"
   ]
  },
  {
   "cell_type": "code",
   "execution_count": 1,
   "metadata": {},
   "outputs": [],
   "source": [
    "# import library\n",
    "import tensorflow as tf\n",
    "import keras\n",
    "import pandas as pd # data processing, CSV file I/O (e.g. pd.read_csv)\n",
    "import numpy as np # linear algebra\n",
    "import matplotlib.pyplot as plt\n",
    "\n",
    "from sklearn.preprocessing import PolynomialFeatures\n",
    "from sklearn.model_selection import train_test_split\n",
    "from sklearn.metrics import classification_report\n",
    "\n",
    "# load data\n",
    "data = pd.read_csv(\"../../data.csv\")\n",
    "# Get valuse from data (datafram)\n",
    "data = data.values\n",
    "X = data[:,0:6] # all rows, no Lebal\n",
    "y = data[:,6] # all rows, label only"
   ]
  },
  {
   "cell_type": "markdown",
   "metadata": {},
   "source": [
    "- expand dataset features"
   ]
  },
  {
   "cell_type": "code",
   "execution_count": 2,
   "metadata": {},
   "outputs": [
    {
     "data": {
      "text/plain": [
       "(11077, 27)"
      ]
     },
     "execution_count": 2,
     "metadata": {},
     "output_type": "execute_result"
    }
   ],
   "source": [
    "# Define PolynomialFeatures variable with degree 5 and without bias\n",
    "poly = PolynomialFeatures(degree=2 , include_bias=False)\n",
    "X=poly.fit_transform(X)\n",
    "X.shape"
   ]
  },
  {
   "cell_type": "markdown",
   "metadata": {},
   "source": [
    "- split dataset to train and test dataset\n",
    "    - with ratio 75% to train the dataset and 20% to the test dataset"
   ]
  },
  {
   "cell_type": "code",
   "execution_count": 3,
   "metadata": {},
   "outputs": [
    {
     "data": {
      "text/plain": [
       "(8861, 27)"
      ]
     },
     "execution_count": 3,
     "metadata": {},
     "output_type": "execute_result"
    }
   ],
   "source": [
    "X_train, X_test, y_train, y_test = train_test_split(X, y, test_size=0.20, random_state=42)\n",
    "X_train.shape"
   ]
  },
  {
   "cell_type": "markdown",
   "metadata": {},
   "source": [
    "#### Neural Network Model\n",
    "- create the Neural Network Model\n",
    "- compile the Neural Network Model\n",
    "- train(Fit) the model\n",
    "- print the model summary\n",
    "- Predict the output of X_test using Neural Network Model"
   ]
  },
  {
   "cell_type": "markdown",
   "metadata": {},
   "source": [
    "##### create a model\n",
    "- Flatten layer\n",
    "- fully-connected layer (dense) with 64 nodes and swish activation function\n",
    "- fully-connected layer (dense) with 128 nodes and swish activation function\n",
    "- fully-connected layer (dense) with 128 nodes and sigmoid activation function\n",
    "- fully-connected layer (dense) with 64 nodes and tanh activation function\n",
    "- fully-connected layer (dense) with 16 nodes and tanh activation function\n",
    "- fully-connected layer (dense) with 7 nodes and softmax activation function"
   ]
  },
  {
   "cell_type": "code",
   "execution_count": 4,
   "metadata": {},
   "outputs": [],
   "source": [
    "model = keras.models.Sequential([tf.keras.layers.Flatten(),\n",
    "                                tf.keras.layers.Dense(64, activation=tf.nn.swish),\n",
    "                                tf.keras.layers.Dense(128, activation=tf.nn.swish),\n",
    "                                tf.keras.layers.Dense(128, activation=tf.nn.sigmoid),\n",
    "                                tf.keras.layers.Dense(64, activation=tf.nn.tanh),\n",
    "                                tf.keras.layers.Dense(16, activation=tf.nn.tanh),\n",
    "                                tf.keras.layers.Dense(7, activation=tf.nn.softmax)\n",
    "                                   ])\n"
   ]
  },
  {
   "cell_type": "markdown",
   "metadata": {},
   "source": [
    "##### compile the Neural Network Model\n",
    "- optimizer = adam\n",
    "- sparse_categorical_crossentropy loss function "
   ]
  },
  {
   "cell_type": "code",
   "execution_count": 5,
   "metadata": {},
   "outputs": [],
   "source": [
    "model.compile(optimizer='adam', loss='sparse_categorical_crossentropy', metrics=['accuracy'])"
   ]
  },
  {
   "cell_type": "markdown",
   "metadata": {},
   "source": [
    "##### train(Fit) the model with (epoch = 80)"
   ]
  },
  {
   "cell_type": "code",
   "execution_count": 6,
   "metadata": {},
   "outputs": [
    {
     "name": "stdout",
     "output_type": "stream",
     "text": [
      "Epoch 1/80\n",
      "277/277 [==============================] - 0s 1ms/step - loss: 1.3294 - accuracy: 0.4821\n",
      "Epoch 2/80\n",
      "277/277 [==============================] - 0s 1ms/step - loss: 1.0241 - accuracy: 0.6029\n",
      "Epoch 3/80\n",
      "277/277 [==============================] - 0s 1ms/step - loss: 0.9494 - accuracy: 0.6344\n",
      "Epoch 4/80\n",
      "277/277 [==============================] - 0s 1ms/step - loss: 0.9051 - accuracy: 0.6530: 0s - loss: 0.8894 - accu\n",
      "Epoch 5/80\n",
      "277/277 [==============================] - 0s 1ms/step - loss: 0.8767 - accuracy: 0.6585\n",
      "Epoch 6/80\n",
      "277/277 [==============================] - ETA: 0s - loss: 0.8584 - accuracy: 0.66 - 0s 1ms/step - loss: 0.8574 - accuracy: 0.6675\n",
      "Epoch 7/80\n",
      "277/277 [==============================] - ETA: 0s - loss: 0.8345 - accuracy: 0.67 - 0s 1ms/step - loss: 0.8266 - accuracy: 0.6811\n",
      "Epoch 8/80\n",
      "277/277 [==============================] - 0s 1ms/step - loss: 0.8220 - accuracy: 0.6858: 0s - loss: 0.8244 - accuracy\n",
      "Epoch 9/80\n",
      "277/277 [==============================] - 0s 1ms/step - loss: 0.7892 - accuracy: 0.7014\n",
      "Epoch 10/80\n",
      "277/277 [==============================] - 1s 2ms/step - loss: 0.7686 - accuracy: 0.7077\n",
      "Epoch 11/80\n",
      "277/277 [==============================] - 1s 2ms/step - loss: 0.7498 - accuracy: 0.7153\n",
      "Epoch 12/80\n",
      "277/277 [==============================] - 1s 2ms/step - loss: 0.7325 - accuracy: 0.7247\n",
      "Epoch 13/80\n",
      "277/277 [==============================] - 1s 2ms/step - loss: 0.7115 - accuracy: 0.7357\n",
      "Epoch 14/80\n",
      "277/277 [==============================] - 0s 1ms/step - loss: 0.7052 - accuracy: 0.7433\n",
      "Epoch 15/80\n",
      "277/277 [==============================] - 0s 1ms/step - loss: 0.6797 - accuracy: 0.7483\n",
      "Epoch 16/80\n",
      "277/277 [==============================] - 0s 1ms/step - loss: 0.6701 - accuracy: 0.7521\n",
      "Epoch 17/80\n",
      "277/277 [==============================] - 0s 1ms/step - loss: 0.6596 - accuracy: 0.7533\n",
      "Epoch 18/80\n",
      "277/277 [==============================] - 0s 1ms/step - loss: 0.6441 - accuracy: 0.7637\n",
      "Epoch 19/80\n",
      "277/277 [==============================] - 0s 1ms/step - loss: 0.6291 - accuracy: 0.7657\n",
      "Epoch 20/80\n",
      "277/277 [==============================] - 0s 1ms/step - loss: 0.6214 - accuracy: 0.7703\n",
      "Epoch 21/80\n",
      "277/277 [==============================] - 0s 1ms/step - loss: 0.6173 - accuracy: 0.7694\n",
      "Epoch 22/80\n",
      "277/277 [==============================] - 0s 1ms/step - loss: 0.6070 - accuracy: 0.7754: 0s - loss: 0.6030 - accuracy\n",
      "Epoch 23/80\n",
      "277/277 [==============================] - 0s 1ms/step - loss: 0.5934 - accuracy: 0.7791\n",
      "Epoch 24/80\n",
      "277/277 [==============================] - 1s 2ms/step - loss: 0.5858 - accuracy: 0.7829\n",
      "Epoch 25/80\n",
      "277/277 [==============================] - 1s 2ms/step - loss: 0.5710 - accuracy: 0.7886\n",
      "Epoch 26/80\n",
      "277/277 [==============================] - 1s 2ms/step - loss: 0.5693 - accuracy: 0.7917\n",
      "Epoch 27/80\n",
      "277/277 [==============================] - 1s 2ms/step - loss: 0.5562 - accuracy: 0.7954\n",
      "Epoch 28/80\n",
      "277/277 [==============================] - 1s 2ms/step - loss: 0.5532 - accuracy: 0.7980\n",
      "Epoch 29/80\n",
      "277/277 [==============================] - 1s 2ms/step - loss: 0.5381 - accuracy: 0.8018\n",
      "Epoch 30/80\n",
      "277/277 [==============================] - 0s 1ms/step - loss: 0.5292 - accuracy: 0.8053\n",
      "Epoch 31/80\n",
      "277/277 [==============================] - 0s 954us/step - loss: 0.5173 - accuracy: 0.8104\n",
      "Epoch 32/80\n",
      "277/277 [==============================] - 0s 911us/step - loss: 0.5167 - accuracy: 0.8122\n",
      "Epoch 33/80\n",
      "277/277 [==============================] - 0s 934us/step - loss: 0.5148 - accuracy: 0.8122\n",
      "Epoch 34/80\n",
      "277/277 [==============================] - 0s 930us/step - loss: 0.5059 - accuracy: 0.8144\n",
      "Epoch 35/80\n",
      "277/277 [==============================] - 0s 911us/step - loss: 0.4906 - accuracy: 0.8184\n",
      "Epoch 36/80\n",
      "277/277 [==============================] - 0s 933us/step - loss: 0.4862 - accuracy: 0.8229\n",
      "Epoch 37/80\n",
      "277/277 [==============================] - 0s 940us/step - loss: 0.4838 - accuracy: 0.8228\n",
      "Epoch 38/80\n",
      "277/277 [==============================] - 0s 900us/step - loss: 0.4788 - accuracy: 0.8227\n",
      "Epoch 39/80\n",
      "277/277 [==============================] - 0s 2ms/step - loss: 0.4648 - accuracy: 0.8286\n",
      "Epoch 40/80\n",
      "277/277 [==============================] - 1s 2ms/step - loss: 0.4631 - accuracy: 0.8317\n",
      "Epoch 41/80\n",
      "277/277 [==============================] - 1s 2ms/step - loss: 0.4562 - accuracy: 0.8295\n",
      "Epoch 42/80\n",
      "277/277 [==============================] - 1s 2ms/step - loss: 0.4491 - accuracy: 0.8346\n",
      "Epoch 43/80\n",
      "277/277 [==============================] - 1s 2ms/step - loss: 0.4469 - accuracy: 0.8368\n",
      "Epoch 44/80\n",
      "277/277 [==============================] - 1s 2ms/step - loss: 0.4356 - accuracy: 0.8403\n",
      "Epoch 45/80\n",
      "277/277 [==============================] - 0s 2ms/step - loss: 0.4293 - accuracy: 0.8439\n",
      "Epoch 46/80\n",
      "277/277 [==============================] - 0s 1ms/step - loss: 0.4188 - accuracy: 0.8493\n",
      "Epoch 47/80\n",
      "277/277 [==============================] - 0s 1ms/step - loss: 0.4192 - accuracy: 0.8440\n",
      "Epoch 48/80\n",
      "277/277 [==============================] - 0s 1ms/step - loss: 0.4167 - accuracy: 0.8467\n",
      "Epoch 49/80\n",
      "277/277 [==============================] - 0s 1ms/step - loss: 0.4000 - accuracy: 0.8537\n",
      "Epoch 50/80\n",
      "277/277 [==============================] - 0s 1ms/step - loss: 0.3983 - accuracy: 0.8552\n",
      "Epoch 51/80\n",
      "277/277 [==============================] - 0s 1ms/step - loss: 0.3997 - accuracy: 0.8567\n",
      "Epoch 52/80\n",
      "277/277 [==============================] - 0s 1ms/step - loss: 0.3936 - accuracy: 0.8553\n",
      "Epoch 53/80\n",
      "277/277 [==============================] - 0s 2ms/step - loss: 0.3835 - accuracy: 0.8611\n",
      "Epoch 54/80\n",
      "277/277 [==============================] - 1s 2ms/step - loss: 0.3755 - accuracy: 0.8628\n",
      "Epoch 55/80\n",
      "277/277 [==============================] - 1s 2ms/step - loss: 0.3696 - accuracy: 0.8636\n",
      "Epoch 56/80\n",
      "277/277 [==============================] - 1s 2ms/step - loss: 0.3581 - accuracy: 0.8683\n",
      "Epoch 57/80\n",
      "277/277 [==============================] - 1s 2ms/step - loss: 0.3574 - accuracy: 0.8662\n",
      "Epoch 58/80\n",
      "277/277 [==============================] - 1s 2ms/step - loss: 0.3730 - accuracy: 0.8660\n",
      "Epoch 59/80\n",
      "277/277 [==============================] - 1s 2ms/step - loss: 0.3567 - accuracy: 0.8676\n",
      "Epoch 60/80\n",
      "277/277 [==============================] - 1s 2ms/step - loss: 0.3459 - accuracy: 0.8737\n",
      "Epoch 61/80\n",
      "277/277 [==============================] - 1s 2ms/step - loss: 0.3523 - accuracy: 0.8684\n",
      "Epoch 62/80\n",
      "277/277 [==============================] - 1s 2ms/step - loss: 0.3393 - accuracy: 0.8737\n",
      "Epoch 63/80\n",
      "277/277 [==============================] - 1s 2ms/step - loss: 0.3309 - accuracy: 0.8794\n",
      "Epoch 64/80\n",
      "277/277 [==============================] - 1s 2ms/step - loss: 0.3289 - accuracy: 0.8788\n",
      "Epoch 65/80\n",
      "277/277 [==============================] - 0s 2ms/step - loss: 0.3415 - accuracy: 0.8745\n",
      "Epoch 66/80\n",
      "277/277 [==============================] - 1s 2ms/step - loss: 0.3108 - accuracy: 0.8887\n",
      "Epoch 67/80\n",
      "277/277 [==============================] - 1s 2ms/step - loss: 0.3079 - accuracy: 0.8885\n",
      "Epoch 68/80\n",
      "277/277 [==============================] - 1s 2ms/step - loss: 0.3181 - accuracy: 0.8825\n",
      "Epoch 69/80\n",
      "277/277 [==============================] - 1s 2ms/step - loss: 0.3110 - accuracy: 0.8827\n",
      "Epoch 70/80\n",
      "277/277 [==============================] - 1s 2ms/step - loss: 0.2912 - accuracy: 0.8952\n",
      "Epoch 71/80\n",
      "277/277 [==============================] - 1s 2ms/step - loss: 0.3056 - accuracy: 0.8900\n",
      "Epoch 72/80\n",
      "277/277 [==============================] - 1s 2ms/step - loss: 0.3013 - accuracy: 0.8878\n",
      "Epoch 73/80\n",
      "277/277 [==============================] - 1s 2ms/step - loss: 0.2824 - accuracy: 0.8941\n",
      "Epoch 74/80\n",
      "277/277 [==============================] - 1s 2ms/step - loss: 0.2855 - accuracy: 0.8945\n",
      "Epoch 75/80\n",
      "277/277 [==============================] - 1s 2ms/step - loss: 0.2909 - accuracy: 0.8926\n",
      "Epoch 76/80\n",
      "277/277 [==============================] - 1s 2ms/step - loss: 0.2873 - accuracy: 0.8946\n",
      "Epoch 77/80\n",
      "277/277 [==============================] - 1s 2ms/step - loss: 0.2747 - accuracy: 0.8993\n",
      "Epoch 78/80\n",
      "277/277 [==============================] - 1s 2ms/step - loss: 0.2610 - accuracy: 0.9054\n",
      "Epoch 79/80\n",
      "277/277 [==============================] - 1s 2ms/step - loss: 0.2590 - accuracy: 0.9025\n",
      "Epoch 80/80\n"
     ]
    },
    {
     "name": "stdout",
     "output_type": "stream",
     "text": [
      "277/277 [==============================] - 1s 2ms/step - loss: 0.2763 - accuracy: 0.8976\n"
     ]
    }
   ],
   "source": [
    "hist=model.fit(X_train, y_train, epochs=80)"
   ]
  },
  {
   "cell_type": "markdown",
   "metadata": {},
   "source": [
    "##### print the model summary"
   ]
  },
  {
   "cell_type": "code",
   "execution_count": 7,
   "metadata": {},
   "outputs": [
    {
     "name": "stdout",
     "output_type": "stream",
     "text": [
      "Model: \"sequential\"\n",
      "_________________________________________________________________\n",
      "Layer (type)                 Output Shape              Param #   \n",
      "=================================================================\n",
      "flatten (Flatten)            (None, 27)                0         \n",
      "_________________________________________________________________\n",
      "dense (Dense)                (None, 64)                1792      \n",
      "_________________________________________________________________\n",
      "dense_1 (Dense)              (None, 128)               8320      \n",
      "_________________________________________________________________\n",
      "dense_2 (Dense)              (None, 128)               16512     \n",
      "_________________________________________________________________\n",
      "dense_3 (Dense)              (None, 64)                8256      \n",
      "_________________________________________________________________\n",
      "dense_4 (Dense)              (None, 16)                1040      \n",
      "_________________________________________________________________\n",
      "dense_5 (Dense)              (None, 7)                 119       \n",
      "=================================================================\n",
      "Total params: 36,039\n",
      "Trainable params: 36,039\n",
      "Non-trainable params: 0\n",
      "_________________________________________________________________\n"
     ]
    }
   ],
   "source": [
    "model.summary()"
   ]
  },
  {
   "cell_type": "markdown",
   "metadata": {},
   "source": [
    "##### Predict the output of X_test using Neural Network Model"
   ]
  },
  {
   "cell_type": "code",
   "execution_count": 8,
   "metadata": {},
   "outputs": [
    {
     "name": "stdout",
     "output_type": "stream",
     "text": [
      "WARNING:tensorflow:From <ipython-input-8-787f8cb08328>:1: Sequential.predict_classes (from tensorflow.python.keras.engine.sequential) is deprecated and will be removed after 2021-01-01.\n",
      "Instructions for updating:\n",
      "Please use instead:* `np.argmax(model.predict(x), axis=-1)`,   if your model does multi-class classification   (e.g. if it uses a `softmax` last-layer activation).* `(model.predict(x) > 0.5).astype(\"int32\")`,   if your model does binary classification   (e.g. if it uses a `sigmoid` last-layer activation).\n",
      "predicted value =  3\n",
      "actual value =  3.0\n"
     ]
    }
   ],
   "source": [
    "y_predict=model.predict_classes(X_test)\n",
    "print('predicted value = ',y_predict[0])\n",
    "print('actual value = ', y_test[0])"
   ]
  },
  {
   "cell_type": "markdown",
   "metadata": {},
   "source": [
    "#### Evaluate Model \n",
    "- calculate the evaluate model accuracy and loss (accuracy = 0.7658 , loss = 0.8492 ) \n",
    "- plot the training loss matrix\n",
    "- plot the training accuracy matrix\n",
    "- clasification report "
   ]
  },
  {
   "cell_type": "code",
   "execution_count": 9,
   "metadata": {},
   "outputs": [
    {
     "name": "stdout",
     "output_type": "stream",
     "text": [
      "70/70 [==============================] - 0s 663us/step - loss: 0.8687 - accuracy: 0.7622\n"
     ]
    }
   ],
   "source": [
    "# calculate the evaluate model accuracy and loss \n",
    "# (accuracy = 0.7658 , loss = 0.8492 )\n",
    "val_loss, val_acc = model.evaluate(X_test, y_test)"
   ]
  },
  {
   "cell_type": "code",
   "execution_count": 10,
   "metadata": {},
   "outputs": [
    {
     "data": {
      "text/plain": [
       "[<matplotlib.lines.Line2D at 0x2140d4ab630>]"
      ]
     },
     "execution_count": 10,
     "metadata": {},
     "output_type": "execute_result"
    },
    {
     "data": {
      "image/png": "[encoded data removed]",
      "text/plain": [
       "<Figure size 432x288 with 1 Axes>"
      ]
     },
     "metadata": {
      "needs_background": "light"
     },
     "output_type": "display_data"
    }
   ],
   "source": [
    "# plot the training loss matrix\n",
    "plt.plot(hist.history['loss'])"
   ]
  },
  {
   "cell_type": "code",
   "execution_count": 11,
   "metadata": {},
   "outputs": [
    {
     "data": {
      "text/plain": [
       "[<matplotlib.lines.Line2D at 0x2140e7607f0>]"
      ]
     },
     "execution_count": 11,
     "metadata": {},
     "output_type": "execute_result"
    },
    {
     "data": {
      "image/png": "[encoded data removed]",
      "text/plain": [
       "<Figure size 432x288 with 1 Axes>"
      ]
     },
     "metadata": {
      "needs_background": "light"
     },
     "output_type": "display_data"
    }
   ],
   "source": [
    "# plot the training accuracy matrix\n",
    "plt.plot(hist.history['accuracy'])"
   ]
  },
  {
   "cell_type": "code",
   "execution_count": 12,
   "metadata": {
    "scrolled": true
   },
   "outputs": [
    {
     "name": "stdout",
     "output_type": "stream",
     "text": [
      "              precision    recall  f1-score   support\n",
      "\n",
      "         1.0       0.86      0.85      0.85       404\n",
      "         2.0       0.87      0.89      0.88       377\n",
      "         3.0       0.74      0.72      0.73       530\n",
      "         4.0       0.53      0.53      0.53       164\n",
      "         5.0       0.77      0.81      0.79       302\n",
      "         6.0       0.69      0.68      0.69       439\n",
      "\n",
      "    accuracy                           0.76      2216\n",
      "   macro avg       0.74      0.75      0.74      2216\n",
      "weighted avg       0.76      0.76      0.76      2216\n",
      "\n"
     ]
    }
   ],
   "source": [
    "# clasification report\n",
    "print(classification_report(y_test, y_predict))"
   ]
  },
  {
   "cell_type": "markdown",
   "metadata": {},
   "source": [
    "#### save the model after training.\n",
    "- so we can load it and run without the need to train anymore"
   ]
  },
  {
   "cell_type": "code",
   "execution_count": 13,
   "metadata": {},
   "outputs": [],
   "source": [
    "keras.models.save_model(model,'NNM.h5')\n",
    "# model.save(\n",
    "#     'saved_model',\n",
    "#     overwrite=True,\n",
    "#     include_optimizer=True,\n",
    "#     save_format=None,\n",
    "#     signatures=None,\n",
    "#     options=None,\n",
    "# )"
   ]
  },
  {
   "cell_type": "markdown",
   "metadata": {},
   "source": [
    "#### load the model and predict the result"
   ]
  },
  {
   "cell_type": "code",
   "execution_count": 14,
   "metadata": {},
   "outputs": [
    {
     "data": {
      "text/plain": [
       "3"
      ]
     },
     "execution_count": 14,
     "metadata": {},
     "output_type": "execute_result"
    }
   ],
   "source": [
    "#load_model = keras.models.load_model('saved_model')\n",
    "load_model = keras.models.load_model('NNM.h5')\n",
    "load_y_predict=load_model.predict_classes(X_test)\n",
    "load_y_predict[0]"
   ]
  },
  {
   "cell_type": "markdown",
   "metadata": {},
   "source": [
    "- Evaluate the loaded model with classification_report"
   ]
  },
  {
   "cell_type": "code",
   "execution_count": 15,
   "metadata": {},
   "outputs": [
    {
     "name": "stdout",
     "output_type": "stream",
     "text": [
      "              precision    recall  f1-score   support\n",
      "\n",
      "         1.0       0.86      0.85      0.85       404\n",
      "         2.0       0.87      0.89      0.88       377\n",
      "         3.0       0.74      0.72      0.73       530\n",
      "         4.0       0.53      0.53      0.53       164\n",
      "         5.0       0.77      0.81      0.79       302\n",
      "         6.0       0.69      0.68      0.69       439\n",
      "\n",
      "    accuracy                           0.76      2216\n",
      "   macro avg       0.74      0.75      0.74      2216\n",
      "weighted avg       0.76      0.76      0.76      2216\n",
      "\n"
     ]
    }
   ],
   "source": [
    "print(classification_report(y_test, load_y_predict))"
   ]
  }
 ],
 "metadata": {
  "kernelspec": {
   "display_name": "Python 3",
   "language": "python",
   "name": "python3"
  },
  "language_info": {
   "codemirror_mode": {
    "name": "ipython",
    "version": 3
   },
   "file_extension": ".py",
   "mimetype": "text/x-python",
   "name": "python",
   "nbconvert_exporter": "python",
   "pygments_lexer": "ipython3",
   "version": "3.6.10"
  }
 },
 "nbformat": 4,
 "nbformat_minor": 4
}
