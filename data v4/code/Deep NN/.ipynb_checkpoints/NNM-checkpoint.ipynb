{
 "cells": [
  {
   "cell_type": "markdown",
   "metadata": {},
   "source": [
    "# Neural Network Model\n",
    "- A neural network is a series of algorithms that endeavors to recognize underlying relationships in a set of data through a process that mimics the way the human brain operates."
   ]
  },
  {
   "cell_type": "markdown",
   "metadata": {},
   "source": [
    "- load dataset"
   ]
  },
  {
   "cell_type": "code",
   "execution_count": 1,
   "metadata": {},
   "outputs": [],
   "source": [
    "# import library\n",
    "import tensorflow as tf\n",
    "import keras\n",
    "import pandas as pd # data processing, CSV file I/O (e.g. pd.read_csv)\n",
    "import numpy as np # linear algebra\n",
    "import matplotlib.pyplot as plt\n",
    "\n",
    "from sklearn.preprocessing import PolynomialFeatures\n",
    "from sklearn.model_selection import train_test_split\n",
    "from sklearn.metrics import classification_report\n",
    "\n",
    "# load data\n",
    "data = pd.read_csv(\"../../data.csv\")\n",
    "# Get valuse from data (datafram)\n",
    "data = data.values\n",
    "X = data[:,0:6] # all rows, no Lebal\n",
    "y = data[:,6] # all rows, label only"
   ]
  },
  {
   "cell_type": "markdown",
   "metadata": {},
   "source": [
    "- expand dataset features"
   ]
  },
  {
   "cell_type": "code",
   "execution_count": 2,
   "metadata": {},
   "outputs": [
    {
     "data": {
      "text/plain": [
       "(11077, 27)"
      ]
     },
     "execution_count": 2,
     "metadata": {},
     "output_type": "execute_result"
    }
   ],
   "source": [
    "# Define PolynomialFeatures variable with degree 5 and without bias\n",
    "poly = PolynomialFeatures(degree=2 , include_bias=False)\n",
    "X=poly.fit_transform(X)\n",
    "X.shape"
   ]
  },
  {
   "cell_type": "markdown",
   "metadata": {},
   "source": [
    "- split dataset to train and test dataset\n",
    "    - with ratio 75% to train the dataset and 25% to the test dataset"
   ]
  },
  {
   "cell_type": "code",
   "execution_count": 3,
   "metadata": {},
   "outputs": [
    {
     "data": {
      "text/plain": [
       "(8861, 27)"
      ]
     },
     "execution_count": 3,
     "metadata": {},
     "output_type": "execute_result"
    }
   ],
   "source": [
    "X_train, X_test, y_train, y_test = train_test_split(X, y, test_size=0.20, random_state=42)\n",
    "X_train.shape"
   ]
  },
  {
   "cell_type": "markdown",
   "metadata": {},
   "source": [
    "#### Neural Network Model\n",
    "- create the Neural Network Model\n",
    "- compile the Neural Network Model\n",
    "- train(Fit) the model\n",
    "- print the model summary\n",
    "- Predict the output of X_test using Neural Network Model"
   ]
  },
  {
   "cell_type": "markdown",
   "metadata": {},
   "source": [
    "##### create a model\n",
    "- Flatten layer\n",
    "- fully-connected layer (dense) with 64 nodes and swish activation function\n",
    "- fully-connected layer (dense) with 128 nodes and swish activation function\n",
    "- fully-connected layer (dense) with 128 nodes and sigmoid activation function\n",
    "- fully-connected layer (dense) with 64 nodes and tanh activation function\n",
    "- fully-connected layer (dense) with 16 nodes and tanh activation function\n",
    "- fully-connected layer (dense) with 7 nodes and softmax activation function"
   ]
  },
  {
   "cell_type": "code",
   "execution_count": 4,
   "metadata": {},
   "outputs": [],
   "source": [
    "model = keras.models.Sequential([tf.keras.layers.Flatten(),\n",
    "                                  tf.keras.layers.Dense(64, activation=tf.nn.swish),\n",
    "                                    tf.keras.layers.Dense(128, activation=tf.nn.swish),\n",
    "                                     tf.keras.layers.Dense(128, activation=tf.nn.sigmoid),\n",
    "                                    tf.keras.layers.Dense(64, activation=tf.nn.tanh),\n",
    "                                    tf.keras.layers.Dense(16, activation=tf.nn.tanh),\n",
    "                                    tf.keras.layers.Dense(7, activation=tf.nn.softmax)\n",
    "                                   ])\n"
   ]
  },
  {
   "cell_type": "markdown",
   "metadata": {},
   "source": [
    "##### compile the Neural Network Model\n",
    "- optimizer = adam\n",
    "- sparse_categorical_crossentropy loss function "
   ]
  },
  {
   "cell_type": "code",
   "execution_count": 5,
   "metadata": {},
   "outputs": [],
   "source": [
    "model.compile(optimizer='adam', loss='sparse_categorical_crossentropy', metrics=['accuracy'])"
   ]
  },
  {
   "cell_type": "markdown",
   "metadata": {},
   "source": [
    "##### train(Fit) the model with (epoch = 80)"
   ]
  },
  {
   "cell_type": "code",
   "execution_count": 6,
   "metadata": {},
   "outputs": [
    {
     "name": "stdout",
     "output_type": "stream",
     "text": [
      "Epoch 1/80\n",
      "277/277 [==============================] - 0s 1ms/step - loss: 1.4046 - accuracy: 0.4504\n",
      "Epoch 2/80\n",
      "277/277 [==============================] - 0s 1ms/step - loss: 1.0487 - accuracy: 0.5815\n",
      "Epoch 3/80\n",
      "277/277 [==============================] - 0s 1ms/step - loss: 0.9737 - accuracy: 0.6151\n",
      "Epoch 4/80\n",
      "277/277 [==============================] - 0s 1ms/step - loss: 0.9186 - accuracy: 0.6425\n",
      "Epoch 5/80\n",
      "277/277 [==============================] - 0s 1ms/step - loss: 0.8862 - accuracy: 0.6566\n",
      "Epoch 6/80\n",
      "277/277 [==============================] - 0s 1ms/step - loss: 0.8511 - accuracy: 0.6796\n",
      "Epoch 7/80\n",
      "277/277 [==============================] - 0s 1ms/step - loss: 0.8276 - accuracy: 0.6881\n",
      "Epoch 8/80\n",
      "277/277 [==============================] - 0s 1ms/step - loss: 0.8063 - accuracy: 0.6951\n",
      "Epoch 9/80\n",
      "277/277 [==============================] - 0s 1ms/step - loss: 0.7739 - accuracy: 0.7127\n",
      "Epoch 10/80\n",
      "277/277 [==============================] - 0s 1ms/step - loss: 0.7562 - accuracy: 0.7225\n",
      "Epoch 11/80\n",
      "277/277 [==============================] - 0s 1ms/step - loss: 0.7295 - accuracy: 0.7336\n",
      "Epoch 12/80\n",
      "277/277 [==============================] - 0s 1ms/step - loss: 0.7156 - accuracy: 0.7315\n",
      "Epoch 13/80\n",
      "277/277 [==============================] - 0s 1ms/step - loss: 0.6975 - accuracy: 0.7429\n",
      "Epoch 14/80\n",
      "277/277 [==============================] - 0s 1ms/step - loss: 0.6773 - accuracy: 0.7494\n",
      "Epoch 15/80\n",
      "277/277 [==============================] - 0s 1ms/step - loss: 0.6578 - accuracy: 0.7578\n",
      "Epoch 16/80\n",
      "277/277 [==============================] - 0s 1ms/step - loss: 0.6499 - accuracy: 0.7598\n",
      "Epoch 17/80\n",
      "277/277 [==============================] - 0s 1ms/step - loss: 0.6267 - accuracy: 0.7745\n",
      "Epoch 18/80\n",
      "277/277 [==============================] - 0s 1ms/step - loss: 0.6088 - accuracy: 0.7819\n",
      "Epoch 19/80\n",
      "277/277 [==============================] - 0s 1ms/step - loss: 0.6038 - accuracy: 0.7810\n",
      "Epoch 20/80\n",
      "277/277 [==============================] - 0s 1ms/step - loss: 0.5966 - accuracy: 0.7800\n",
      "Epoch 21/80\n",
      "277/277 [==============================] - 0s 1ms/step - loss: 0.5846 - accuracy: 0.7892\n",
      "Epoch 22/80\n",
      "277/277 [==============================] - 0s 1ms/step - loss: 0.5684 - accuracy: 0.7935\n",
      "Epoch 23/80\n",
      "277/277 [==============================] - 0s 1ms/step - loss: 0.5706 - accuracy: 0.7937\n",
      "Epoch 24/80\n",
      "277/277 [==============================] - 0s 1ms/step - loss: 0.5583 - accuracy: 0.7988\n",
      "Epoch 25/80\n",
      "277/277 [==============================] - 0s 1ms/step - loss: 0.5427 - accuracy: 0.8028\n",
      "Epoch 26/80\n",
      "277/277 [==============================] - 0s 1ms/step - loss: 0.5373 - accuracy: 0.8056\n",
      "Epoch 27/80\n",
      "277/277 [==============================] - 0s 1ms/step - loss: 0.5211 - accuracy: 0.8103\n",
      "Epoch 28/80\n",
      "277/277 [==============================] - 0s 1ms/step - loss: 0.5215 - accuracy: 0.8125\n",
      "Epoch 29/80\n",
      "277/277 [==============================] - 0s 1ms/step - loss: 0.5139 - accuracy: 0.8103\n",
      "Epoch 30/80\n",
      "277/277 [==============================] - 0s 2ms/step - loss: 0.4955 - accuracy: 0.8192\n",
      "Epoch 31/80\n",
      "277/277 [==============================] - 0s 1ms/step - loss: 0.5005 - accuracy: 0.8171\n",
      "Epoch 32/80\n",
      "277/277 [==============================] - 0s 1ms/step - loss: 0.4884 - accuracy: 0.8218\n",
      "Epoch 33/80\n",
      "277/277 [==============================] - 0s 1ms/step - loss: 0.4865 - accuracy: 0.8252\n",
      "Epoch 34/80\n",
      "277/277 [==============================] - 0s 1ms/step - loss: 0.4635 - accuracy: 0.8328\n",
      "Epoch 35/80\n",
      "277/277 [==============================] - 0s 1ms/step - loss: 0.4605 - accuracy: 0.8376\n",
      "Epoch 36/80\n",
      "277/277 [==============================] - 0s 2ms/step - loss: 0.4710 - accuracy: 0.8322\n",
      "Epoch 37/80\n",
      "277/277 [==============================] - 0s 1ms/step - loss: 0.4517 - accuracy: 0.8358\n",
      "Epoch 38/80\n",
      "277/277 [==============================] - 0s 1ms/step - loss: 0.4422 - accuracy: 0.8369\n",
      "Epoch 39/80\n",
      "277/277 [==============================] - 0s 1ms/step - loss: 0.4383 - accuracy: 0.8428\n",
      "Epoch 40/80\n",
      "277/277 [==============================] - 0s 1ms/step - loss: 0.4379 - accuracy: 0.8348\n",
      "Epoch 41/80\n",
      "277/277 [==============================] - 0s 1ms/step - loss: 0.4218 - accuracy: 0.8483\n",
      "Epoch 42/80\n",
      "277/277 [==============================] - 0s 1ms/step - loss: 0.4249 - accuracy: 0.8454\n",
      "Epoch 43/80\n",
      "277/277 [==============================] - 0s 1ms/step - loss: 0.4249 - accuracy: 0.8447\n",
      "Epoch 44/80\n",
      "277/277 [==============================] - 0s 1ms/step - loss: 0.4098 - accuracy: 0.8452\n",
      "Epoch 45/80\n",
      "277/277 [==============================] - 0s 1ms/step - loss: 0.4088 - accuracy: 0.8519\n",
      "Epoch 46/80\n",
      "277/277 [==============================] - 0s 1ms/step - loss: 0.4052 - accuracy: 0.8506\n",
      "Epoch 47/80\n",
      "277/277 [==============================] - 0s 1ms/step - loss: 0.3947 - accuracy: 0.8550\n",
      "Epoch 48/80\n",
      "277/277 [==============================] - 0s 1ms/step - loss: 0.3822 - accuracy: 0.8613\n",
      "Epoch 49/80\n",
      "277/277 [==============================] - 0s 1ms/step - loss: 0.3835 - accuracy: 0.8605\n",
      "Epoch 50/80\n",
      "277/277 [==============================] - 0s 1ms/step - loss: 0.3743 - accuracy: 0.8580\n",
      "Epoch 51/80\n",
      "277/277 [==============================] - 0s 1ms/step - loss: 0.3706 - accuracy: 0.8636\n",
      "Epoch 52/80\n",
      "277/277 [==============================] - 0s 1ms/step - loss: 0.3647 - accuracy: 0.8665\n",
      "Epoch 53/80\n",
      "277/277 [==============================] - 0s 1ms/step - loss: 0.3534 - accuracy: 0.8700\n",
      "Epoch 54/80\n",
      "277/277 [==============================] - 0s 1ms/step - loss: 0.3628 - accuracy: 0.8681\n",
      "Epoch 55/80\n",
      "277/277 [==============================] - 0s 1ms/step - loss: 0.3571 - accuracy: 0.8688\n",
      "Epoch 56/80\n",
      "277/277 [==============================] - 0s 1ms/step - loss: 0.3560 - accuracy: 0.8658\n",
      "Epoch 57/80\n",
      "277/277 [==============================] - 0s 1ms/step - loss: 0.3300 - accuracy: 0.8756\n",
      "Epoch 58/80\n",
      "277/277 [==============================] - 0s 1ms/step - loss: 0.3289 - accuracy: 0.8803\n",
      "Epoch 59/80\n",
      "277/277 [==============================] - 0s 1ms/step - loss: 0.3339 - accuracy: 0.8779\n",
      "Epoch 60/80\n",
      "277/277 [==============================] - 0s 1ms/step - loss: 0.3305 - accuracy: 0.8763\n",
      "Epoch 61/80\n",
      "277/277 [==============================] - 0s 1ms/step - loss: 0.3099 - accuracy: 0.8860\n",
      "Epoch 62/80\n",
      "277/277 [==============================] - 0s 1ms/step - loss: 0.3160 - accuracy: 0.8800\n",
      "Epoch 63/80\n",
      "277/277 [==============================] - 0s 1ms/step - loss: 0.3147 - accuracy: 0.8866\n",
      "Epoch 64/80\n",
      "277/277 [==============================] - 0s 1ms/step - loss: 0.3077 - accuracy: 0.8865\n",
      "Epoch 65/80\n",
      "277/277 [==============================] - 0s 1ms/step - loss: 0.3044 - accuracy: 0.8858\n",
      "Epoch 66/80\n",
      "277/277 [==============================] - 0s 1ms/step - loss: 0.3162 - accuracy: 0.8852\n",
      "Epoch 67/80\n",
      "277/277 [==============================] - 0s 1ms/step - loss: 0.2925 - accuracy: 0.8915\n",
      "Epoch 68/80\n",
      "277/277 [==============================] - 0s 1ms/step - loss: 0.2928 - accuracy: 0.8910\n",
      "Epoch 69/80\n",
      "277/277 [==============================] - 0s 1ms/step - loss: 0.2911 - accuracy: 0.8936\n",
      "Epoch 70/80\n",
      "277/277 [==============================] - 0s 1ms/step - loss: 0.2847 - accuracy: 0.8956\n",
      "Epoch 71/80\n",
      "277/277 [==============================] - 0s 1ms/step - loss: 0.2823 - accuracy: 0.8987\n",
      "Epoch 72/80\n",
      "277/277 [==============================] - 0s 1ms/step - loss: 0.2726 - accuracy: 0.9010\n",
      "Epoch 73/80\n",
      "277/277 [==============================] - 0s 1ms/step - loss: 0.2708 - accuracy: 0.8994\n",
      "Epoch 74/80\n",
      "277/277 [==============================] - 0s 1ms/step - loss: 0.2928 - accuracy: 0.8927\n",
      "Epoch 75/80\n",
      "277/277 [==============================] - 0s 1ms/step - loss: 0.2581 - accuracy: 0.9041\n",
      "Epoch 76/80\n",
      "277/277 [==============================] - 0s 1ms/step - loss: 0.2584 - accuracy: 0.9057\n",
      "Epoch 77/80\n",
      "277/277 [==============================] - 0s 1ms/step - loss: 0.2580 - accuracy: 0.9037\n",
      "Epoch 78/80\n",
      "277/277 [==============================] - 0s 1ms/step - loss: 0.2523 - accuracy: 0.9084\n",
      "Epoch 79/80\n",
      "277/277 [==============================] - 0s 1ms/step - loss: 0.2582 - accuracy: 0.9042\n",
      "Epoch 80/80\n",
      "277/277 [==============================] - 0s 1ms/step - loss: 0.2706 - accuracy: 0.8972\n"
     ]
    }
   ],
   "source": [
    "hist=model.fit(X_train, y_train, epochs=80)"
   ]
  },
  {
   "cell_type": "markdown",
   "metadata": {},
   "source": [
    "##### print the model summary"
   ]
  },
  {
   "cell_type": "code",
   "execution_count": 7,
   "metadata": {},
   "outputs": [
    {
     "name": "stdout",
     "output_type": "stream",
     "text": [
      "Model: \"sequential\"\n",
      "_________________________________________________________________\n",
      "Layer (type)                 Output Shape              Param #   \n",
      "=================================================================\n",
      "flatten (Flatten)            (None, 27)                0         \n",
      "_________________________________________________________________\n",
      "dense (Dense)                (None, 64)                1792      \n",
      "_________________________________________________________________\n",
      "dense_1 (Dense)              (None, 128)               8320      \n",
      "_________________________________________________________________\n",
      "dense_2 (Dense)              (None, 128)               16512     \n",
      "_________________________________________________________________\n",
      "dense_3 (Dense)              (None, 64)                8256      \n",
      "_________________________________________________________________\n",
      "dense_4 (Dense)              (None, 16)                1040      \n",
      "_________________________________________________________________\n",
      "dense_5 (Dense)              (None, 7)                 119       \n",
      "=================================================================\n",
      "Total params: 36,039\n",
      "Trainable params: 36,039\n",
      "Non-trainable params: 0\n",
      "_________________________________________________________________\n"
     ]
    }
   ],
   "source": [
    "model.summary()"
   ]
  },
  {
   "cell_type": "markdown",
   "metadata": {},
   "source": [
    "##### Predict the output of X_test using Neural Network Model"
   ]
  },
  {
   "cell_type": "code",
   "execution_count": 8,
   "metadata": {},
   "outputs": [
    {
     "name": "stdout",
     "output_type": "stream",
     "text": [
      "WARNING:tensorflow:From <ipython-input-8-432a267681e1>:1: Sequential.predict_classes (from tensorflow.python.keras.engine.sequential) is deprecated and will be removed after 2021-01-01.\n",
      "Instructions for updating:\n",
      "Please use instead:* `np.argmax(model.predict(x), axis=-1)`,   if your model does multi-class classification   (e.g. if it uses a `softmax` last-layer activation).* `(model.predict(x) > 0.5).astype(\"int32\")`,   if your model does binary classification   (e.g. if it uses a `sigmoid` last-layer activation).\n"
     ]
    },
    {
     "data": {
      "text/plain": [
       "3"
      ]
     },
     "execution_count": 8,
     "metadata": {},
     "output_type": "execute_result"
    }
   ],
   "source": [
    "y_predict=model.predict_classes(X_test)\n",
    "y_predict[0]"
   ]
  },
  {
   "cell_type": "markdown",
   "metadata": {},
   "source": [
    "#### Evaluate Model \n",
    "- calculate the evaluate model accuracy and loss (accuracy = 0.7658 , loss = 0.8492 ) \n",
    "- plot the training loss matrix\n",
    "- plot the training accuracy matrix\n",
    "- clasification report "
   ]
  },
  {
   "cell_type": "code",
   "execution_count": 16,
   "metadata": {},
   "outputs": [
    {
     "name": "stdout",
     "output_type": "stream",
     "text": [
      "70/70 [==============================] - 0s 826us/step - loss: 0.8492 - accuracy: 0.7658\n"
     ]
    }
   ],
   "source": [
    "# calculate the evaluate model accuracy and loss \n",
    "# (accuracy = 0.7658 , loss = 0.8492 )\n",
    "val_loss, val_acc = model.evaluate(X_test, y_test)"
   ]
  },
  {
   "cell_type": "code",
   "execution_count": 10,
   "metadata": {},
   "outputs": [
    {
     "data": {
      "text/plain": [
       "[<matplotlib.lines.Line2D at 0x1f74b5cd7b8>]"
      ]
     },
     "execution_count": 10,
     "metadata": {},
     "output_type": "execute_result"
    },
    {
     "data": {
      "image/png": "[encoded data removed]",
      "text/plain": [
       "<Figure size 432x288 with 1 Axes>"
      ]
     },
     "metadata": {
      "needs_background": "light"
     },
     "output_type": "display_data"
    }
   ],
   "source": [
    "# plot the training loss matrix\n",
    "plt.plot(hist.history['loss'])"
   ]
  },
  {
   "cell_type": "code",
   "execution_count": 11,
   "metadata": {},
   "outputs": [
    {
     "data": {
      "text/plain": [
       "[<matplotlib.lines.Line2D at 0x1f74c88b550>]"
      ]
     },
     "execution_count": 11,
     "metadata": {},
     "output_type": "execute_result"
    },
    {
     "data": {
      "image/png": "[encoded data removed]",
      "text/plain": [
       "<Figure size 432x288 with 1 Axes>"
      ]
     },
     "metadata": {
      "needs_background": "light"
     },
     "output_type": "display_data"
    }
   ],
   "source": [
    "# plot the training accuracy matrix\n",
    "plt.plot(hist.history['accuracy'])"
   ]
  },
  {
   "cell_type": "code",
   "execution_count": 12,
   "metadata": {},
   "outputs": [
    {
     "name": "stdout",
     "output_type": "stream",
     "text": [
      "              precision    recall  f1-score   support\n",
      "\n",
      "         1.0       0.86      0.83      0.85       397\n",
      "         2.0       0.84      0.86      0.85       366\n",
      "         3.0       0.72      0.76      0.74       537\n",
      "         4.0       0.57      0.57      0.57       204\n",
      "         5.0       0.89      0.77      0.83       281\n",
      "         6.0       0.70      0.72      0.71       431\n",
      "\n",
      "    accuracy                           0.77      2216\n",
      "   macro avg       0.76      0.75      0.76      2216\n",
      "weighted avg       0.77      0.77      0.77      2216\n",
      "\n"
     ]
    }
   ],
   "source": [
    "# clasification report\n",
    "print(classification_report(y_test, y_predict))"
   ]
  },
  {
   "cell_type": "markdown",
   "metadata": {},
   "source": [
    "#### save the model after training.\n",
    "- so we can load it and run without the need to train anymore"
   ]
  },
  {
   "cell_type": "code",
   "execution_count": 13,
   "metadata": {},
   "outputs": [],
   "source": [
    "keras.models.save_model(model,'Keras.h5')\n",
    "# model.save(\n",
    "#     'saved_model',\n",
    "#     overwrite=True,\n",
    "#     include_optimizer=True,\n",
    "#     save_format=None,\n",
    "#     signatures=None,\n",
    "#     options=None,\n",
    "# )"
   ]
  },
  {
   "cell_type": "markdown",
   "metadata": {},
   "source": [
    "#### load the model and predict the result"
   ]
  },
  {
   "cell_type": "code",
   "execution_count": 14,
   "metadata": {},
   "outputs": [
    {
     "data": {
      "text/plain": [
       "3"
      ]
     },
     "execution_count": 14,
     "metadata": {},
     "output_type": "execute_result"
    }
   ],
   "source": [
    "#load_model = keras.models.load_model('saved_model')\n",
    "load_model = keras.models.load_model('Keras.h5')\n",
    "load_y_predict=load_model.predict_classes(X_test)\n",
    "load_y_predict[0]"
   ]
  },
  {
   "cell_type": "markdown",
   "metadata": {},
   "source": [
    "- Evaluate the loaded model with classification_report"
   ]
  },
  {
   "cell_type": "code",
   "execution_count": 15,
   "metadata": {},
   "outputs": [
    {
     "name": "stdout",
     "output_type": "stream",
     "text": [
      "              precision    recall  f1-score   support\n",
      "\n",
      "         1.0       0.86      0.83      0.85       397\n",
      "         2.0       0.84      0.86      0.85       366\n",
      "         3.0       0.72      0.76      0.74       537\n",
      "         4.0       0.57      0.57      0.57       204\n",
      "         5.0       0.89      0.77      0.83       281\n",
      "         6.0       0.70      0.72      0.71       431\n",
      "\n",
      "    accuracy                           0.77      2216\n",
      "   macro avg       0.76      0.75      0.76      2216\n",
      "weighted avg       0.77      0.77      0.77      2216\n",
      "\n"
     ]
    }
   ],
   "source": [
    "print(classification_report(y_test, load_y_predict))"
   ]
  }
 ],
 "metadata": {
  "kernelspec": {
   "display_name": "Python 3",
   "language": "python",
   "name": "python3"
  },
  "language_info": {
   "codemirror_mode": {
    "name": "ipython",
    "version": 3
   },
   "file_extension": ".py",
   "mimetype": "text/x-python",
   "name": "python",
   "nbconvert_exporter": "python",
   "pygments_lexer": "ipython3",
   "version": "3.6.10"
  }
 },
 "nbformat": 4,
 "nbformat_minor": 4
}
