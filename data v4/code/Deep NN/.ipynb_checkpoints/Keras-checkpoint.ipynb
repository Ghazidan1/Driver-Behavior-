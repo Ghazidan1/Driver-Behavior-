{
 "cells": [
  {
   "cell_type": "code",
   "execution_count": 1,
   "metadata": {},
   "outputs": [],
   "source": [
    "import tensorflow as tf\n",
    "import keras"
   ]
  },
  {
   "cell_type": "code",
   "execution_count": 2,
   "metadata": {},
   "outputs": [],
   "source": [
    "import pandas as pd\n",
    "import numpy as np\n",
    "import matplotlib.pyplot as plt"
   ]
  },
  {
   "cell_type": "code",
   "execution_count": 3,
   "metadata": {},
   "outputs": [],
   "source": [
    "data = pd.read_csv(\"../../data.csv\")"
   ]
  },
  {
   "cell_type": "code",
   "execution_count": 4,
   "metadata": {},
   "outputs": [],
   "source": [
    "data = data.values\n",
    "X = data[:,0:6]\n",
    "y = data[:,6]"
   ]
  },
  {
   "cell_type": "code",
   "execution_count": 5,
   "metadata": {},
   "outputs": [],
   "source": [
    "from sklearn.preprocessing import PolynomialFeatures\n",
    "poly = PolynomialFeatures(degree=2 , include_bias=False)"
   ]
  },
  {
   "cell_type": "code",
   "execution_count": 6,
   "metadata": {},
   "outputs": [
    {
     "data": {
      "text/plain": [
       "(11077, 27)"
      ]
     },
     "execution_count": 6,
     "metadata": {},
     "output_type": "execute_result"
    }
   ],
   "source": [
    "X=poly.fit_transform(X)\n",
    "X.shape"
   ]
  },
  {
   "cell_type": "code",
   "execution_count": 7,
   "metadata": {},
   "outputs": [],
   "source": [
    "from sklearn.model_selection import train_test_split\n",
    "X_train, X_test, y_train, y_test = train_test_split(X, y, test_size=0.20, random_state=42)"
   ]
  },
  {
   "cell_type": "code",
   "execution_count": 8,
   "metadata": {},
   "outputs": [
    {
     "data": {
      "text/plain": [
       "(8861, 27)"
      ]
     },
     "execution_count": 8,
     "metadata": {},
     "output_type": "execute_result"
    }
   ],
   "source": [
    "X_train.shape"
   ]
  },
  {
   "cell_type": "code",
   "execution_count": 9,
   "metadata": {},
   "outputs": [],
   "source": [
    "model = keras.models.Sequential([tf.keras.layers.Flatten(),\n",
    "                                  tf.keras.layers.Dense(64, activation=tf.nn.swish),\n",
    "                                    tf.keras.layers.Dense(128, activation=tf.nn.swish),\n",
    "                                     tf.keras.layers.Dense(128, activation=tf.nn.sigmoid),\n",
    "                                    tf.keras.layers.Dense(64, activation=tf.nn.tanh),\n",
    "                                    tf.keras.layers.Dense(16, activation=tf.nn.tanh),\n",
    "                                    tf.keras.layers.Dense(7, activation=tf.nn.softmax)\n",
    "                                   ])\n"
   ]
  },
  {
   "cell_type": "code",
   "execution_count": 10,
   "metadata": {},
   "outputs": [],
   "source": [
    "model.compile(optimizer='adam', loss='sparse_categorical_crossentropy', metrics=['accuracy'])"
   ]
  },
  {
   "cell_type": "code",
   "execution_count": 11,
   "metadata": {},
   "outputs": [
    {
     "name": "stdout",
     "output_type": "stream",
     "text": [
      "Epoch 1/80\n",
      "277/277 [==============================] - 0s 1ms/step - loss: 1.3140 - accuracy: 0.4829\n",
      "Epoch 2/80\n",
      "277/277 [==============================] - 0s 1ms/step - loss: 1.0054 - accuracy: 0.5967\n",
      "Epoch 3/80\n",
      "277/277 [==============================] - 0s 1ms/step - loss: 0.9458 - accuracy: 0.6271\n",
      "Epoch 4/80\n",
      "277/277 [==============================] - 0s 1ms/step - loss: 0.8944 - accuracy: 0.6525\n",
      "Epoch 5/80\n",
      "277/277 [==============================] - 0s 1ms/step - loss: 0.8647 - accuracy: 0.6655\n",
      "Epoch 6/80\n",
      "277/277 [==============================] - 0s 1ms/step - loss: 0.8322 - accuracy: 0.6836\n",
      "Epoch 7/80\n",
      "277/277 [==============================] - 0s 1ms/step - loss: 0.8110 - accuracy: 0.6901\n",
      "Epoch 8/80\n",
      "277/277 [==============================] - 0s 1ms/step - loss: 0.8061 - accuracy: 0.6955\n",
      "Epoch 9/80\n",
      "277/277 [==============================] - 0s 1ms/step - loss: 0.7709 - accuracy: 0.7104\n",
      "Epoch 10/80\n",
      "277/277 [==============================] - 0s 1ms/step - loss: 0.7476 - accuracy: 0.7210\n",
      "Epoch 11/80\n",
      "277/277 [==============================] - 0s 1ms/step - loss: 0.7300 - accuracy: 0.7305\n",
      "Epoch 12/80\n",
      "277/277 [==============================] - 0s 1ms/step - loss: 0.7061 - accuracy: 0.7399\n",
      "Epoch 13/80\n",
      "277/277 [==============================] - 0s 1ms/step - loss: 0.6855 - accuracy: 0.7490\n",
      "Epoch 14/80\n",
      "277/277 [==============================] - 0s 1ms/step - loss: 0.6707 - accuracy: 0.7539\n",
      "Epoch 15/80\n",
      "277/277 [==============================] - 0s 1ms/step - loss: 0.6437 - accuracy: 0.7649\n",
      "Epoch 16/80\n",
      "277/277 [==============================] - 0s 1ms/step - loss: 0.6346 - accuracy: 0.7688\n",
      "Epoch 17/80\n",
      "277/277 [==============================] - 0s 1ms/step - loss: 0.6179 - accuracy: 0.7703\n",
      "Epoch 18/80\n",
      "277/277 [==============================] - 0s 1ms/step - loss: 0.6177 - accuracy: 0.7744\n",
      "Epoch 19/80\n",
      "277/277 [==============================] - 0s 1ms/step - loss: 0.6068 - accuracy: 0.7778\n",
      "Epoch 20/80\n",
      "277/277 [==============================] - 0s 1ms/step - loss: 0.5868 - accuracy: 0.7883\n",
      "Epoch 21/80\n",
      "277/277 [==============================] - 0s 1ms/step - loss: 0.5784 - accuracy: 0.7901\n",
      "Epoch 22/80\n",
      "277/277 [==============================] - 0s 1ms/step - loss: 0.5651 - accuracy: 0.7970\n",
      "Epoch 23/80\n",
      "277/277 [==============================] - 0s 1ms/step - loss: 0.5587 - accuracy: 0.7972\n",
      "Epoch 24/80\n",
      "277/277 [==============================] - 0s 1ms/step - loss: 0.5435 - accuracy: 0.8030\n",
      "Epoch 25/80\n",
      "277/277 [==============================] - 0s 1ms/step - loss: 0.5441 - accuracy: 0.8035\n",
      "Epoch 26/80\n",
      "277/277 [==============================] - 0s 1ms/step - loss: 0.5360 - accuracy: 0.8048\n",
      "Epoch 27/80\n",
      "277/277 [==============================] - 0s 1ms/step - loss: 0.5248 - accuracy: 0.8103\n",
      "Epoch 28/80\n",
      "277/277 [==============================] - 0s 1ms/step - loss: 0.5080 - accuracy: 0.8131\n",
      "Epoch 29/80\n",
      "277/277 [==============================] - 0s 1ms/step - loss: 0.5056 - accuracy: 0.8146\n",
      "Epoch 30/80\n",
      "277/277 [==============================] - 0s 1ms/step - loss: 0.4988 - accuracy: 0.8174\n",
      "Epoch 31/80\n",
      "277/277 [==============================] - 0s 1ms/step - loss: 0.4946 - accuracy: 0.8184\n",
      "Epoch 32/80\n",
      "277/277 [==============================] - 0s 1ms/step - loss: 0.4852 - accuracy: 0.8239\n",
      "Epoch 33/80\n",
      "277/277 [==============================] - 0s 1ms/step - loss: 0.4853 - accuracy: 0.8237\n",
      "Epoch 34/80\n",
      "277/277 [==============================] - 0s 1ms/step - loss: 0.4751 - accuracy: 0.8249\n",
      "Epoch 35/80\n",
      "277/277 [==============================] - 0s 1ms/step - loss: 0.4621 - accuracy: 0.8306\n",
      "Epoch 36/80\n",
      "277/277 [==============================] - 0s 1ms/step - loss: 0.4545 - accuracy: 0.8317\n",
      "Epoch 37/80\n",
      "277/277 [==============================] - 0s 1ms/step - loss: 0.4624 - accuracy: 0.8305\n",
      "Epoch 38/80\n",
      "277/277 [==============================] - 0s 1ms/step - loss: 0.4485 - accuracy: 0.8356\n",
      "Epoch 39/80\n",
      "277/277 [==============================] - 0s 1ms/step - loss: 0.4455 - accuracy: 0.8329\n",
      "Epoch 40/80\n",
      "277/277 [==============================] - 0s 1ms/step - loss: 0.4369 - accuracy: 0.8396\n",
      "Epoch 41/80\n",
      "277/277 [==============================] - 0s 1ms/step - loss: 0.4217 - accuracy: 0.8430\n",
      "Epoch 42/80\n",
      "277/277 [==============================] - 0s 1ms/step - loss: 0.4220 - accuracy: 0.8501\n",
      "Epoch 43/80\n",
      "277/277 [==============================] - 0s 1ms/step - loss: 0.4195 - accuracy: 0.8467\n",
      "Epoch 44/80\n",
      "277/277 [==============================] - 0s 1ms/step - loss: 0.4045 - accuracy: 0.8524\n",
      "Epoch 45/80\n",
      "277/277 [==============================] - 0s 1ms/step - loss: 0.4094 - accuracy: 0.8474\n",
      "Epoch 46/80\n",
      "277/277 [==============================] - 0s 1ms/step - loss: 0.4103 - accuracy: 0.8504\n",
      "Epoch 47/80\n",
      "277/277 [==============================] - 0s 1ms/step - loss: 0.3933 - accuracy: 0.8566\n",
      "Epoch 48/80\n",
      "277/277 [==============================] - 0s 1ms/step - loss: 0.3861 - accuracy: 0.8592\n",
      "Epoch 49/80\n",
      "277/277 [==============================] - 0s 1ms/step - loss: 0.3799 - accuracy: 0.8611\n",
      "Epoch 50/80\n",
      "277/277 [==============================] - 0s 1ms/step - loss: 0.3787 - accuracy: 0.8631\n",
      "Epoch 51/80\n",
      "277/277 [==============================] - 0s 1ms/step - loss: 0.3738 - accuracy: 0.8625\n",
      "Epoch 52/80\n",
      "277/277 [==============================] - 0s 1ms/step - loss: 0.3680 - accuracy: 0.8660\n",
      "Epoch 53/80\n",
      "277/277 [==============================] - 0s 1ms/step - loss: 0.3642 - accuracy: 0.8691\n",
      "Epoch 54/80\n",
      "277/277 [==============================] - 0s 1ms/step - loss: 0.3632 - accuracy: 0.8678\n",
      "Epoch 55/80\n",
      "277/277 [==============================] - 0s 1ms/step - loss: 0.3478 - accuracy: 0.8739: 0s - loss: 0.3485 - accuracy\n",
      "Epoch 56/80\n",
      "277/277 [==============================] - 0s 1ms/step - loss: 0.3458 - accuracy: 0.8739\n",
      "Epoch 57/80\n",
      "277/277 [==============================] - 0s 1ms/step - loss: 0.3424 - accuracy: 0.8747\n",
      "Epoch 58/80\n",
      "277/277 [==============================] - 0s 1ms/step - loss: 0.3392 - accuracy: 0.8771\n",
      "Epoch 59/80\n",
      "277/277 [==============================] - 0s 1ms/step - loss: 0.3435 - accuracy: 0.8732\n",
      "Epoch 60/80\n",
      "277/277 [==============================] - 0s 1ms/step - loss: 0.3268 - accuracy: 0.8803\n",
      "Epoch 61/80\n",
      "277/277 [==============================] - 0s 1ms/step - loss: 0.3332 - accuracy: 0.8767\n",
      "Epoch 62/80\n",
      "277/277 [==============================] - 0s 1ms/step - loss: 0.3267 - accuracy: 0.8831\n",
      "Epoch 63/80\n",
      "277/277 [==============================] - 0s 1ms/step - loss: 0.3187 - accuracy: 0.8840\n",
      "Epoch 64/80\n",
      "277/277 [==============================] - 0s 1ms/step - loss: 0.3145 - accuracy: 0.8874\n",
      "Epoch 65/80\n",
      "277/277 [==============================] - 0s 1ms/step - loss: 0.3057 - accuracy: 0.8891\n",
      "Epoch 66/80\n",
      "277/277 [==============================] - 0s 1ms/step - loss: 0.2959 - accuracy: 0.8950\n",
      "Epoch 67/80\n",
      "277/277 [==============================] - 0s 1ms/step - loss: 0.2980 - accuracy: 0.8910\n",
      "Epoch 68/80\n",
      "277/277 [==============================] - 0s 1ms/step - loss: 0.3072 - accuracy: 0.8894\n",
      "Epoch 69/80\n",
      "277/277 [==============================] - 0s 1ms/step - loss: 0.2928 - accuracy: 0.8938\n",
      "Epoch 70/80\n",
      "277/277 [==============================] - 0s 1ms/step - loss: 0.2873 - accuracy: 0.8961\n",
      "Epoch 71/80\n",
      "277/277 [==============================] - 0s 1ms/step - loss: 0.2985 - accuracy: 0.8871\n",
      "Epoch 72/80\n",
      "277/277 [==============================] - 0s 1ms/step - loss: 0.2876 - accuracy: 0.8972\n",
      "Epoch 73/80\n",
      "277/277 [==============================] - 0s 1ms/step - loss: 0.2806 - accuracy: 0.8959\n",
      "Epoch 74/80\n",
      "277/277 [==============================] - 0s 1ms/step - loss: 0.2685 - accuracy: 0.9033\n",
      "Epoch 75/80\n",
      "277/277 [==============================] - 0s 1ms/step - loss: 0.2644 - accuracy: 0.9069\n",
      "Epoch 76/80\n",
      "277/277 [==============================] - 0s 1ms/step - loss: 0.2802 - accuracy: 0.9001\n",
      "Epoch 77/80\n",
      "277/277 [==============================] - 0s 1ms/step - loss: 0.2739 - accuracy: 0.8984\n",
      "Epoch 78/80\n",
      "277/277 [==============================] - 0s 1ms/step - loss: 0.2553 - accuracy: 0.9110\n",
      "Epoch 79/80\n",
      "277/277 [==============================] - 0s 1ms/step - loss: 0.2591 - accuracy: 0.9072\n",
      "Epoch 80/80\n",
      "277/277 [==============================] - 0s 1ms/step - loss: 0.2502 - accuracy: 0.9121\n"
     ]
    }
   ],
   "source": [
    "hist=model.fit(X_train, y_train, epochs=80)"
   ]
  },
  {
   "cell_type": "code",
   "execution_count": 12,
   "metadata": {},
   "outputs": [
    {
     "name": "stdout",
     "output_type": "stream",
     "text": [
      "WARNING:tensorflow:From <ipython-input-12-432a267681e1>:1: Sequential.predict_classes (from tensorflow.python.keras.engine.sequential) is deprecated and will be removed after 2021-01-01.\n",
      "Instructions for updating:\n",
      "Please use instead:* `np.argmax(model.predict(x), axis=-1)`,   if your model does multi-class classification   (e.g. if it uses a `softmax` last-layer activation).* `(model.predict(x) > 0.5).astype(\"int32\")`,   if your model does binary classification   (e.g. if it uses a `sigmoid` last-layer activation).\n"
     ]
    },
    {
     "data": {
      "text/plain": [
       "3"
      ]
     },
     "execution_count": 12,
     "metadata": {},
     "output_type": "execute_result"
    }
   ],
   "source": [
    "y_predict=model.predict_classes(X_test)\n",
    "y_predict[0]"
   ]
  },
  {
   "cell_type": "code",
   "execution_count": 13,
   "metadata": {},
   "outputs": [
    {
     "name": "stdout",
     "output_type": "stream",
     "text": [
      "70/70 [==============================] - 0s 742us/step - loss: 0.8785 - accuracy: 0.7518\n"
     ]
    }
   ],
   "source": [
    "val_loss, val_acc = model.evaluate(X_test, y_test)"
   ]
  },
  {
   "cell_type": "code",
   "execution_count": 14,
   "metadata": {},
   "outputs": [
    {
     "name": "stdout",
     "output_type": "stream",
     "text": [
      "Model: \"sequential\"\n",
      "_________________________________________________________________\n",
      "Layer (type)                 Output Shape              Param #   \n",
      "=================================================================\n",
      "flatten (Flatten)            (None, 27)                0         \n",
      "_________________________________________________________________\n",
      "dense (Dense)                (None, 64)                1792      \n",
      "_________________________________________________________________\n",
      "dense_1 (Dense)              (None, 128)               8320      \n",
      "_________________________________________________________________\n",
      "dense_2 (Dense)              (None, 128)               16512     \n",
      "_________________________________________________________________\n",
      "dense_3 (Dense)              (None, 64)                8256      \n",
      "_________________________________________________________________\n",
      "dense_4 (Dense)              (None, 16)                1040      \n",
      "_________________________________________________________________\n",
      "dense_5 (Dense)              (None, 7)                 119       \n",
      "=================================================================\n",
      "Total params: 36,039\n",
      "Trainable params: 36,039\n",
      "Non-trainable params: 0\n",
      "_________________________________________________________________\n"
     ]
    }
   ],
   "source": [
    "model.summary()"
   ]
  },
  {
   "cell_type": "code",
   "execution_count": 15,
   "metadata": {},
   "outputs": [],
   "source": [
    "import matplotlib.pyplot as plt"
   ]
  },
  {
   "cell_type": "code",
   "execution_count": 16,
   "metadata": {},
   "outputs": [
    {
     "data": {
      "text/plain": [
       "[<matplotlib.lines.Line2D at 0x1f93f5626a0>]"
      ]
     },
     "execution_count": 16,
     "metadata": {},
     "output_type": "execute_result"
    },
    {
     "data": {
      "image/png": "[encoded data removed]",
      "text/plain": [
       "<Figure size 432x288 with 1 Axes>"
      ]
     },
     "metadata": {
      "needs_background": "light"
     },
     "output_type": "display_data"
    }
   ],
   "source": [
    "plt.plot(hist.history['loss'])"
   ]
  },
  {
   "cell_type": "code",
   "execution_count": 17,
   "metadata": {},
   "outputs": [
    {
     "data": {
      "text/plain": [
       "[<matplotlib.lines.Line2D at 0x1f93f5f9d30>]"
      ]
     },
     "execution_count": 17,
     "metadata": {},
     "output_type": "execute_result"
    },
    {
     "data": {
      "image/png": "[encoded data removed]",
      "text/plain": [
       "<Figure size 432x288 with 1 Axes>"
      ]
     },
     "metadata": {
      "needs_background": "light"
     },
     "output_type": "display_data"
    }
   ],
   "source": [
    "plt.plot(hist.history['accuracy'])"
   ]
  },
  {
   "cell_type": "code",
   "execution_count": 18,
   "metadata": {},
   "outputs": [
    {
     "name": "stdout",
     "output_type": "stream",
     "text": [
      "loss\n",
      "accuracy\n"
     ]
    }
   ],
   "source": [
    "for key in hist.history.keys():\n",
    "    print(key)"
   ]
  },
  {
   "cell_type": "code",
   "execution_count": 19,
   "metadata": {},
   "outputs": [
    {
     "name": "stdout",
     "output_type": "stream",
     "text": [
      "              precision    recall  f1-score   support\n",
      "\n",
      "         1.0       0.84      0.89      0.86       397\n",
      "         2.0       0.85      0.82      0.83       366\n",
      "         3.0       0.73      0.70      0.72       537\n",
      "         4.0       0.58      0.50      0.54       204\n",
      "         5.0       0.78      0.82      0.80       281\n",
      "         6.0       0.67      0.71      0.69       431\n",
      "\n",
      "    accuracy                           0.75      2216\n",
      "   macro avg       0.74      0.74      0.74      2216\n",
      "weighted avg       0.75      0.75      0.75      2216\n",
      "\n"
     ]
    }
   ],
   "source": [
    "from sklearn.metrics import classification_report\n",
    "print(classification_report(y_test, y_predict))"
   ]
  },
  {
   "cell_type": "code",
   "execution_count": 20,
   "metadata": {},
   "outputs": [],
   "source": [
    "keras.models.save_model(model,'Keras.h5')\n",
    "# model.save(\n",
    "#     'saved_model',\n",
    "#     overwrite=True,\n",
    "#     include_optimizer=True,\n",
    "#     save_format=None,\n",
    "#     signatures=None,\n",
    "#     options=None,\n",
    "# )"
   ]
  },
  {
   "cell_type": "code",
   "execution_count": 21,
   "metadata": {},
   "outputs": [
    {
     "data": {
      "text/plain": [
       "3"
      ]
     },
     "execution_count": 21,
     "metadata": {},
     "output_type": "execute_result"
    }
   ],
   "source": [
    "#load_model = keras.models.load_model('saved_model')\n",
    "load_model = keras.models.load_model('Keras.h5')\n",
    "load_y_predict=load_model.predict_classes(X_test)\n",
    "load_y_predict[0]"
   ]
  },
  {
   "cell_type": "code",
   "execution_count": 22,
   "metadata": {},
   "outputs": [
    {
     "name": "stdout",
     "output_type": "stream",
     "text": [
      "              precision    recall  f1-score   support\n",
      "\n",
      "         1.0       0.84      0.89      0.86       397\n",
      "         2.0       0.85      0.82      0.83       366\n",
      "         3.0       0.73      0.70      0.72       537\n",
      "         4.0       0.58      0.50      0.54       204\n",
      "         5.0       0.78      0.82      0.80       281\n",
      "         6.0       0.67      0.71      0.69       431\n",
      "\n",
      "    accuracy                           0.75      2216\n",
      "   macro avg       0.74      0.74      0.74      2216\n",
      "weighted avg       0.75      0.75      0.75      2216\n",
      "\n"
     ]
    }
   ],
   "source": [
    "from sklearn.metrics import classification_report\n",
    "print(classification_report(y_test, load_y_predict))"
   ]
  }
 ],
 "metadata": {
  "kernelspec": {
   "display_name": "Python 3",
   "language": "python",
   "name": "python3"
  },
  "language_info": {
   "codemirror_mode": {
    "name": "ipython",
    "version": 3
   },
   "file_extension": ".py",
   "mimetype": "text/x-python",
   "name": "python",
   "nbconvert_exporter": "python",
   "pygments_lexer": "ipython3",
   "version": "3.6.10"
  }
 },
 "nbformat": 4,
 "nbformat_minor": 4
}
