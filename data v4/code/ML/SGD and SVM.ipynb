{
 "cells": [
  {
   "cell_type": "markdown",
   "metadata": {},
   "source": [
    "# Different models with the different parameter to find the best one"
   ]
  },
  {
   "cell_type": "markdown",
   "metadata": {},
   "source": [
    "- one of the problems we have is that the dataset is small so we use Polynomial Features to increase the number of features from 6 feature to 27 feature.\n",
    "- Polynomial Features with degree = 2"
   ]
  },
  {
   "cell_type": "markdown",
   "metadata": {},
   "source": [
    "#### Models\n",
    "- 1) Stochastic Gradient Descent\n",
    "- 2) Support vector machine"
   ]
  },
  {
   "cell_type": "markdown",
   "metadata": {},
   "source": [
    "- load dataset"
   ]
  },
  {
   "cell_type": "code",
   "execution_count": 1,
   "metadata": {},
   "outputs": [],
   "source": [
    "# import library\n",
    "import numpy as np # linear algebra\n",
    "import pandas as pd # data processing, CSV file I/O (e.g. pd.read_csv)\n",
    "import matplotlib.pyplot as plt\n",
    "\n",
    "from sklearn.model_selection import train_test_split\n",
    "from sklearn.preprocessing import StandardScaler\n",
    "\n",
    "from sklearn.preprocessing import PolynomialFeatures\n",
    "\n",
    "from sklearn.ensemble import RandomForestClassifier\n",
    "from sklearn.linear_model import SGDClassifier\n",
    "from sklearn.svm import SVC\n",
    "\n",
    "from sklearn.metrics import classification_report\n",
    "import joblib\n",
    "\n",
    "from subprocess import check_output\n",
    "from datetime import time\n",
    "\n",
    "# load data\n",
    "data = pd.read_csv(\"../../data.csv\")\n",
    "\n",
    "# Get valuse from data (datafram)\n",
    "data = data.values\n",
    "X = data[:,0:6] # all rows, no Lebal\n",
    "y = data[:,6] # all rows, label only\n"
   ]
  },
  {
   "cell_type": "markdown",
   "metadata": {},
   "source": [
    "- expand dataset features"
   ]
  },
  {
   "cell_type": "code",
   "execution_count": 2,
   "metadata": {},
   "outputs": [
    {
     "data": {
      "text/plain": [
       "(11077, 27)"
      ]
     },
     "execution_count": 2,
     "metadata": {},
     "output_type": "execute_result"
    }
   ],
   "source": [
    "# Define PolynomialFeatures variable with degree 2 and without bias\n",
    "poly = PolynomialFeatures(degree=2 , include_bias=False)\n",
    "X=poly.fit_transform(X)\n",
    "X.shape"
   ]
  },
  {
   "cell_type": "markdown",
   "metadata": {},
   "source": [
    "- split dataset to train and test dataset\n",
    "    - with ratio 75% to train the dataset and 25% to the test dataset"
   ]
  },
  {
   "cell_type": "code",
   "execution_count": 3,
   "metadata": {},
   "outputs": [],
   "source": [
    "X_train, X_test, y_train, y_test = train_test_split(X, y, test_size=0.25, random_state=42)"
   ]
  },
  {
   "cell_type": "markdown",
   "metadata": {},
   "source": [
    "### Train Stochastic Gradient Descent Model\n",
    "\n",
    " It can be regarded as a stochastic approximation of gradient descent optimization since it replaces the actual gradient (calculated from the entire data set) by an estimate thereof (calculated from a randomly selected subset of the data)\n",
    "\n",
    "- Define the Stochastic Gradient Descent model\n",
    "- Train(fit) the Stochastic Gradient Descent model\n",
    "- Predict the output of X_test using Stochastic Gradient Descent model\n",
    "- Calculate the accuracy of Stochastic Gradient Descent model\n",
    "- Evaluate Model with classification report "
   ]
  },
  {
   "cell_type": "code",
   "execution_count": 4,
   "metadata": {},
   "outputs": [],
   "source": [
    "# Stochastic Gradient Descent\n",
    "SGD = SGDClassifier(loss=\"hinge\", penalty=\"l2\")\n",
    "SGD.fit(X_train, y_train)\n",
    "ypred3=SGD.predict(X_test)\n",
    "m3accurcy = SGD.score(X_test, y_test)"
   ]
  },
  {
   "cell_type": "code",
   "execution_count": 5,
   "metadata": {},
   "outputs": [
    {
     "name": "stdout",
     "output_type": "stream",
     "text": [
      "model3_accuracy =  0.4660649819494585\n"
     ]
    }
   ],
   "source": [
    "# print Stochastic Gradient Descent accuracy\n",
    "print(\"model3_accuracy = \" , m3accurcy)"
   ]
  },
  {
   "cell_type": "code",
   "execution_count": 6,
   "metadata": {},
   "outputs": [
    {
     "name": "stdout",
     "output_type": "stream",
     "text": [
      "              precision    recall  f1-score   support\n",
      "\n",
      "         1.0       0.97      0.41      0.57       498\n",
      "         2.0       0.67      0.82      0.74       480\n",
      "         3.0       0.38      0.01      0.02       654\n",
      "         4.0       0.67      0.07      0.13       223\n",
      "         5.0       0.36      0.66      0.46       382\n",
      "         6.0       0.34      0.78      0.48       533\n",
      "\n",
      "    accuracy                           0.47      2770\n",
      "   macro avg       0.56      0.46      0.40      2770\n",
      "weighted avg       0.55      0.47      0.40      2770\n",
      "\n"
     ]
    }
   ],
   "source": [
    "# classification report of Stochastic Gradient Descent\n",
    "print(classification_report(y_test, ypred3))"
   ]
  },
  {
   "cell_type": "markdown",
   "metadata": {},
   "source": [
    "### Train Support vector machine Model\n",
    "\n",
    "is supervised learning model with associated learning algorithms that analyze data used for classification and regression analysis based on the statistical learning framework.\n",
    "\n",
    "An SVM model is a representation of the examples as points in space, mapped so that the examples of the separate categories are divided by a clear gap that is as wide as possible. New examples are then mapped into that same space and predicted to belong to a category based on the side of the gap on which they fall.\n",
    "\n",
    "\n",
    "- Define the Support vector machine model with parameter\n",
    "    - kernel = radial basis function(RBF kernel)\n",
    "    - max_iter = 2000\n",
    "    - c = 1.0 (how much you want to avoid misclassifying each training)\n",
    "    - gamma = auto\n",
    "- Train(fit) the Support vector machine model\n",
    "- Predict the output of X_test using Support vector machine model\n",
    "- Calculate the accuracy of Support vector machine model\n",
    "- Evaluate Model with classification report "
   ]
  },
  {
   "cell_type": "code",
   "execution_count": 7,
   "metadata": {},
   "outputs": [
    {
     "name": "stderr",
     "output_type": "stream",
     "text": [
      "c:\\users\\hoomo\\anaconda3\\envs\\tf2\\lib\\site-packages\\sklearn\\svm\\_base.py:249: ConvergenceWarning: Solver terminated early (max_iter=2000).  Consider pre-processing your data with StandardScaler or MinMaxScaler.\n",
      "  % self.max_iter, ConvergenceWarning)\n"
     ]
    }
   ],
   "source": [
    "# Support vector machine\n",
    "svcmodel = SVC(kernel='rbf',\n",
    "               max_iter=2000,\n",
    "               C=1.0,\n",
    "              gamma='auto')\n",
    "svcmodel.fit(X_train, y_train)\n",
    "ypred4=SGD.predict(X_test)\n",
    "m4accurcy = svcmodel.score(X_test, y_test)"
   ]
  },
  {
   "cell_type": "code",
   "execution_count": 8,
   "metadata": {},
   "outputs": [
    {
     "name": "stdout",
     "output_type": "stream",
     "text": [
      "model4_accuracy =  0.6379061371841155\n"
     ]
    }
   ],
   "source": [
    "# print Support vector machine accuracy\n",
    "print(\"model4_accuracy = \" , m4accurcy) "
   ]
  },
  {
   "cell_type": "code",
   "execution_count": 9,
   "metadata": {},
   "outputs": [
    {
     "name": "stdout",
     "output_type": "stream",
     "text": [
      "              precision    recall  f1-score   support\n",
      "\n",
      "         1.0       0.97      0.41      0.57       498\n",
      "         2.0       0.67      0.82      0.74       480\n",
      "         3.0       0.38      0.01      0.02       654\n",
      "         4.0       0.67      0.07      0.13       223\n",
      "         5.0       0.36      0.66      0.46       382\n",
      "         6.0       0.34      0.78      0.48       533\n",
      "\n",
      "    accuracy                           0.47      2770\n",
      "   macro avg       0.56      0.46      0.40      2770\n",
      "weighted avg       0.55      0.47      0.40      2770\n",
      "\n"
     ]
    }
   ],
   "source": [
    "# classification report of Support vector machine\n",
    "print(classification_report(y_test, ypred4))"
   ]
  },
  {
   "cell_type": "markdown",
   "metadata": {},
   "source": [
    "### save the model after training.\n",
    "- so we can load it and run without the need to train anymore"
   ]
  },
  {
   "cell_type": "code",
   "execution_count": 10,
   "metadata": {},
   "outputs": [
    {
     "data": {
      "text/plain": [
       "['svcmodel.scav']"
      ]
     },
     "execution_count": 10,
     "metadata": {},
     "output_type": "execute_result"
    }
   ],
   "source": [
    "# save the model to disk\n",
    "joblib.dump(SGD, 'SGDC.sav')\n",
    "joblib.dump(svcmodel,'svcmodel.sav')"
   ]
  },
  {
   "cell_type": "markdown",
   "metadata": {},
   "source": [
    "## Train Support vector machine models with different parameters\n",
    "- Define the Support vector machine model \n",
    "- Train(fit) the Support vector machine model\n",
    "- Calculate the accuracy of Support vector machine model"
   ]
  },
  {
   "cell_type": "markdown",
   "metadata": {},
   "source": [
    "####  Support vector machine parameters\n",
    "- kernel = radial basis function(RBF kernel)\n",
    "- max_iter = 1000\n",
    "- gamma = auto"
   ]
  },
  {
   "cell_type": "code",
   "execution_count": 11,
   "metadata": {},
   "outputs": [
    {
     "name": "stderr",
     "output_type": "stream",
     "text": [
      "c:\\users\\hoomo\\anaconda3\\envs\\tf2\\lib\\site-packages\\sklearn\\svm\\_base.py:249: ConvergenceWarning: Solver terminated early (max_iter=1000).  Consider pre-processing your data with StandardScaler or MinMaxScaler.\n",
      "  % self.max_iter, ConvergenceWarning)\n"
     ]
    },
    {
     "name": "stdout",
     "output_type": "stream",
     "text": [
      "test_model_accuracy =  0.6375451263537906\n"
     ]
    }
   ],
   "source": [
    "test_model = SVC(kernel='rbf',\n",
    "               max_iter=1000,\n",
    "              gamma='auto')\n",
    "\n",
    "test_model.fit(X_train, y_train)\n",
    "accurcy = test_model.score(X_test, y_test)\n",
    "\n",
    "print(\"test_model_accuracy = \" , accurcy) \n"
   ]
  },
  {
   "cell_type": "markdown",
   "metadata": {},
   "source": [
    "#### Support vector machine parameters\n",
    "- kernel = sigmoid\n",
    "- max_iter = 1000\n",
    "- gamma = auto"
   ]
  },
  {
   "cell_type": "code",
   "execution_count": 12,
   "metadata": {},
   "outputs": [
    {
     "name": "stderr",
     "output_type": "stream",
     "text": [
      "c:\\users\\hoomo\\anaconda3\\envs\\tf2\\lib\\site-packages\\sklearn\\svm\\_base.py:249: ConvergenceWarning: Solver terminated early (max_iter=1000).  Consider pre-processing your data with StandardScaler or MinMaxScaler.\n",
      "  % self.max_iter, ConvergenceWarning)\n"
     ]
    },
    {
     "name": "stdout",
     "output_type": "stream",
     "text": [
      "test_model_accuracy =  0.19241877256317688\n"
     ]
    }
   ],
   "source": [
    "test_model = SVC(kernel='sigmoid',\n",
    "               max_iter=1000,\n",
    "              gamma='auto')\n",
    "\n",
    "test_model.fit(X_train, y_train)\n",
    "accurcy = test_model.score(X_test, y_test)\n",
    "\n",
    "print(\"test_model_accuracy = \" , accurcy) "
   ]
  },
  {
   "cell_type": "markdown",
   "metadata": {},
   "source": [
    "#### Support vector machine parameters\n",
    "- kernel = sigmoid\n",
    "- max_iter = 2000\n",
    "- gamma = auto"
   ]
  },
  {
   "cell_type": "code",
   "execution_count": 13,
   "metadata": {},
   "outputs": [
    {
     "name": "stdout",
     "output_type": "stream",
     "text": [
      "test_model_accuracy =  0.23610108303249097\n"
     ]
    }
   ],
   "source": [
    "test_model = SVC(kernel='sigmoid',\n",
    "                        max_iter=2000,\n",
    "                        gamma='auto')\n",
    "\n",
    "test_model.fit(X_train, y_train)\n",
    "accurcy = test_model.score(X_test, y_test)\n",
    "\n",
    "print(\"test_model_accuracy = \" , accurcy)  "
   ]
  },
  {
   "cell_type": "markdown",
   "metadata": {},
   "source": [
    "####  Support vector machine parameters\n",
    "- kernel = radial basis function(RBF kernel)\n",
    "- max_iter = 2000\n",
    "- gamma = auto"
   ]
  },
  {
   "cell_type": "code",
   "execution_count": 14,
   "metadata": {},
   "outputs": [
    {
     "name": "stderr",
     "output_type": "stream",
     "text": [
      "c:\\users\\hoomo\\anaconda3\\envs\\tf2\\lib\\site-packages\\sklearn\\svm\\_base.py:249: ConvergenceWarning: Solver terminated early (max_iter=2000).  Consider pre-processing your data with StandardScaler or MinMaxScaler.\n",
      "  % self.max_iter, ConvergenceWarning)\n"
     ]
    },
    {
     "name": "stdout",
     "output_type": "stream",
     "text": [
      "test_model_accuracy =  0.6379061371841155\n"
     ]
    }
   ],
   "source": [
    "test_model = SVC(kernel='rbf',\n",
    "                 max_iter=2000,\n",
    "                 gamma='auto')\n",
    "\n",
    "test_model.fit(X_train, y_train)\n",
    "accurcy = test_model.score(X_test, y_test)\n",
    "\n",
    "print(\"test_model_accuracy = \" , accurcy)   "
   ]
  },
  {
   "cell_type": "markdown",
   "metadata": {},
   "source": [
    "####  Support vector machine parameters\n",
    "- kernel = radial basis function(RBF kernel)\n",
    "- max_iter = 3000\n",
    "- gamma = auto"
   ]
  },
  {
   "cell_type": "code",
   "execution_count": 15,
   "metadata": {},
   "outputs": [
    {
     "name": "stderr",
     "output_type": "stream",
     "text": [
      "c:\\users\\hoomo\\anaconda3\\envs\\tf2\\lib\\site-packages\\sklearn\\svm\\_base.py:249: ConvergenceWarning: Solver terminated early (max_iter=3000).  Consider pre-processing your data with StandardScaler or MinMaxScaler.\n",
      "  % self.max_iter, ConvergenceWarning)\n"
     ]
    },
    {
     "name": "stdout",
     "output_type": "stream",
     "text": [
      "test_model_accuracy =  0.6393501805054151\n"
     ]
    }
   ],
   "source": [
    "test_model = SVC(kernel='rbf',\n",
    "                 max_iter=3000,\n",
    "                 gamma='auto')\n",
    " \n",
    "test_model.fit(X_train, y_train)\n",
    "accurcy = test_model.score(X_test, y_test)\n",
    "\n",
    "print(\"test_model_accuracy = \" , accurcy)   "
   ]
  },
  {
   "cell_type": "markdown",
   "metadata": {},
   "source": [
    "####  Support vector machine parameters\n",
    "- kernel = linear\n",
    "- max_iter = 2500\n",
    "- c = 0.1 (how much you want to avoid misclassifying each training)\n",
    "- gamma = auto"
   ]
  },
  {
   "cell_type": "code",
   "execution_count": 16,
   "metadata": {},
   "outputs": [
    {
     "name": "stderr",
     "output_type": "stream",
     "text": [
      "c:\\users\\hoomo\\anaconda3\\envs\\tf2\\lib\\site-packages\\sklearn\\svm\\_base.py:249: ConvergenceWarning: Solver terminated early (max_iter=2500).  Consider pre-processing your data with StandardScaler or MinMaxScaler.\n",
      "  % self.max_iter, ConvergenceWarning)\n"
     ]
    },
    {
     "name": "stdout",
     "output_type": "stream",
     "text": [
      "test_model_accuracy =  0.3931407942238267\n"
     ]
    }
   ],
   "source": [
    "# svc\n",
    "test_model = SVC(kernel='linear',\n",
    "                 max_iter=2500,\n",
    "                 C=0.1,\n",
    "                 gamma='auto')\n",
    " \n",
    "test_model.fit(X_train, y_train)\n",
    "accurcy = test_model.score(X_test, y_test)\n",
    "\n",
    "print(\"test_model_accuracy = \" , accurcy)  "
   ]
  },
  {
   "cell_type": "markdown",
   "metadata": {},
   "source": [
    "#### Support vector machine parameters\n",
    "- kernel = radial basis function(RBF kernel)\n",
    "- max_iter = 10000\n",
    "- c = 10 (how much you want to avoid misclassifying each training)\n",
    "- gamma = auto"
   ]
  },
  {
   "cell_type": "code",
   "execution_count": 17,
   "metadata": {},
   "outputs": [
    {
     "name": "stderr",
     "output_type": "stream",
     "text": [
      "c:\\users\\hoomo\\anaconda3\\envs\\tf2\\lib\\site-packages\\sklearn\\svm\\_base.py:249: ConvergenceWarning: Solver terminated early (max_iter=10000).  Consider pre-processing your data with StandardScaler or MinMaxScaler.\n",
      "  % self.max_iter, ConvergenceWarning)\n"
     ]
    },
    {
     "name": "stdout",
     "output_type": "stream",
     "text": [
      "test_model_accuracy =  0.6274368231046932\n"
     ]
    }
   ],
   "source": [
    "# svc\n",
    "test_model = SVC(kernel='rbf',\n",
    "               max_iter=10000,\n",
    "               C=10,\n",
    "              gamma='auto')\n",
    " \n",
    "test_model.fit(X_train, y_train)\n",
    "accurcy = test_model.score(X_test, y_test)\n",
    "\n",
    "print(\"test_model_accuracy = \" , accurcy)  "
   ]
  },
  {
   "cell_type": "markdown",
   "metadata": {},
   "source": [
    "####  Support vector machine parameters\n",
    "- kernel = poly\n",
    "- max_iter = 10000\n",
    "- c = 10 (how much you want to avoid misclassifying each training)\n",
    "- gamma = auto"
   ]
  },
  {
   "cell_type": "code",
   "execution_count": 18,
   "metadata": {},
   "outputs": [
    {
     "name": "stderr",
     "output_type": "stream",
     "text": [
      "c:\\users\\hoomo\\anaconda3\\envs\\tf2\\lib\\site-packages\\sklearn\\svm\\_base.py:249: ConvergenceWarning: Solver terminated early (max_iter=10000).  Consider pre-processing your data with StandardScaler or MinMaxScaler.\n",
      "  % self.max_iter, ConvergenceWarning)\n"
     ]
    },
    {
     "name": "stdout",
     "output_type": "stream",
     "text": [
      "test_model_accuracy =  0.2884476534296029\n"
     ]
    }
   ],
   "source": [
    "# svc\n",
    "test_model = SVC(kernel='poly',\n",
    "               max_iter=10000,\n",
    "               C=10,\n",
    "              gamma='auto')\n",
    " \n",
    "test_model.fit(X_train, y_train)\n",
    "accurcy = test_model.score(X_test, y_test)\n",
    "\n",
    "print(\"test_model_accuracy = \" , accurcy)  "
   ]
  },
  {
   "cell_type": "markdown",
   "metadata": {},
   "source": [
    "####  Support vector machine parameters\n",
    "- kernel = sigmoid\n",
    "- max_iter = 10000\n",
    "- c = 10 (how much you want to avoid misclassifying each training)\n",
    "- gamma = auto"
   ]
  },
  {
   "cell_type": "code",
   "execution_count": 19,
   "metadata": {},
   "outputs": [
    {
     "name": "stdout",
     "output_type": "stream",
     "text": [
      "test_model_accuracy =  0.23610108303249097\n"
     ]
    }
   ],
   "source": [
    "# svc\n",
    "test_model = SVC(kernel='sigmoid',\n",
    "               max_iter=10000,\n",
    "               C=10,\n",
    "              gamma='auto')\n",
    " \n",
    "test_model.fit(X_train, y_train)\n",
    "accurcy = test_model.score(X_test, y_test)\n",
    "\n",
    "print(\"test_model_accuracy = \" , accurcy)  "
   ]
  }
 ],
 "metadata": {
  "kernelspec": {
   "display_name": "Python 3",
   "language": "python",
   "name": "python3"
  },
  "language_info": {
   "codemirror_mode": {
    "name": "ipython",
    "version": 3
   },
   "file_extension": ".py",
   "mimetype": "text/x-python",
   "name": "python",
   "nbconvert_exporter": "python",
   "pygments_lexer": "ipython3",
   "version": "3.6.10"
  }
 },
 "nbformat": 4,
 "nbformat_minor": 2
}
