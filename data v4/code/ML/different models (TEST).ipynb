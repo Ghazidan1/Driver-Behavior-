{
 "cells": [
  {
   "cell_type": "markdown",
   "metadata": {},
   "source": [
    "# In this file we try different models with different parameter to find the best one"
   ]
  },
  {
   "cell_type": "markdown",
   "metadata": {},
   "source": [
    "# => one of the problems we have is that the dataset is small so we use Polynomial Features to increase number of features from 6 -> 27 (degree = 2)"
   ]
  },
  {
   "cell_type": "markdown",
   "metadata": {},
   "source": [
    "# => models\n",
    "## 1) random forest\n",
    "## 2) Stochastic Gradient Descent\n",
    "## 3) SVC "
   ]
  },
  {
   "cell_type": "code",
   "execution_count": 1,
   "metadata": {},
   "outputs": [],
   "source": [
    "import pandas as pd\n",
    "import numpy as np\n",
    "import matplotlib.pyplot as plt"
   ]
  },
  {
   "cell_type": "code",
   "execution_count": 2,
   "metadata": {},
   "outputs": [],
   "source": [
    "data = pd.read_csv(\"../../data.csv\")"
   ]
  },
  {
   "cell_type": "code",
   "execution_count": 3,
   "metadata": {},
   "outputs": [
    {
     "data": {
      "text/plain": [
       "(11077, 7)"
      ]
     },
     "execution_count": 3,
     "metadata": {},
     "output_type": "execute_result"
    }
   ],
   "source": [
    "data.shape"
   ]
  },
  {
   "cell_type": "code",
   "execution_count": 4,
   "metadata": {},
   "outputs": [
    {
     "data": {
      "text/html": [
       "<div>\n",
       "<style scoped>\n",
       "    .dataframe tbody tr th:only-of-type {\n",
       "        vertical-align: middle;\n",
       "    }\n",
       "\n",
       "    .dataframe tbody tr th {\n",
       "        vertical-align: top;\n",
       "    }\n",
       "\n",
       "    .dataframe thead th {\n",
       "        text-align: right;\n",
       "    }\n",
       "</style>\n",
       "<table border=\"1\" class=\"dataframe\">\n",
       "  <thead>\n",
       "    <tr style=\"text-align: right;\">\n",
       "      <th></th>\n",
       "      <th>ax</th>\n",
       "      <th>ay</th>\n",
       "      <th>az</th>\n",
       "      <th>gx</th>\n",
       "      <th>gy</th>\n",
       "      <th>gz</th>\n",
       "      <th>Lebal</th>\n",
       "    </tr>\n",
       "  </thead>\n",
       "  <tbody>\n",
       "    <tr>\n",
       "      <th>0</th>\n",
       "      <td>-0.552422</td>\n",
       "      <td>-2.775592</td>\n",
       "      <td>9.883001</td>\n",
       "      <td>0.019121</td>\n",
       "      <td>-0.120906</td>\n",
       "      <td>0.057919</td>\n",
       "      <td>1</td>\n",
       "    </tr>\n",
       "    <tr>\n",
       "      <th>1</th>\n",
       "      <td>-0.802668</td>\n",
       "      <td>-1.945555</td>\n",
       "      <td>9.899163</td>\n",
       "      <td>-0.013447</td>\n",
       "      <td>-0.165272</td>\n",
       "      <td>0.049958</td>\n",
       "      <td>1</td>\n",
       "    </tr>\n",
       "    <tr>\n",
       "      <th>2</th>\n",
       "      <td>0.507736</td>\n",
       "      <td>-1.337563</td>\n",
       "      <td>9.762761</td>\n",
       "      <td>-0.064541</td>\n",
       "      <td>0.016221</td>\n",
       "      <td>-0.055773</td>\n",
       "      <td>1</td>\n",
       "    </tr>\n",
       "    <tr>\n",
       "      <th>3</th>\n",
       "      <td>2.236898</td>\n",
       "      <td>-1.880742</td>\n",
       "      <td>9.804428</td>\n",
       "      <td>0.042296</td>\n",
       "      <td>0.110618</td>\n",
       "      <td>-0.183632</td>\n",
       "      <td>1</td>\n",
       "    </tr>\n",
       "    <tr>\n",
       "      <th>4</th>\n",
       "      <td>1.425971</td>\n",
       "      <td>-3.012127</td>\n",
       "      <td>9.893697</td>\n",
       "      <td>0.146983</td>\n",
       "      <td>-0.030932</td>\n",
       "      <td>-0.132298</td>\n",
       "      <td>1</td>\n",
       "    </tr>\n",
       "  </tbody>\n",
       "</table>\n",
       "</div>"
      ],
      "text/plain": [
       "         ax        ay        az        gx        gy        gz  Lebal\n",
       "0 -0.552422 -2.775592  9.883001  0.019121 -0.120906  0.057919      1\n",
       "1 -0.802668 -1.945555  9.899163 -0.013447 -0.165272  0.049958      1\n",
       "2  0.507736 -1.337563  9.762761 -0.064541  0.016221 -0.055773      1\n",
       "3  2.236898 -1.880742  9.804428  0.042296  0.110618 -0.183632      1\n",
       "4  1.425971 -3.012127  9.893697  0.146983 -0.030932 -0.132298      1"
      ]
     },
     "execution_count": 4,
     "metadata": {},
     "output_type": "execute_result"
    }
   ],
   "source": [
    "data.head(5)"
   ]
  },
  {
   "cell_type": "code",
   "execution_count": 5,
   "metadata": {},
   "outputs": [
    {
     "name": "stdout",
     "output_type": "stream",
     "text": [
      "11077\n"
     ]
    }
   ],
   "source": [
    "al = data['Lebal']\n",
    "print (al.size)"
   ]
  },
  {
   "cell_type": "code",
   "execution_count": 6,
   "metadata": {},
   "outputs": [],
   "source": [
    "data = data.values\n",
    "X = data[:,0:6]\n",
    "y = data[:,6]"
   ]
  },
  {
   "cell_type": "code",
   "execution_count": 7,
   "metadata": {},
   "outputs": [],
   "source": [
    "# X=np.array(X)\n",
    "# y=np.array(y)"
   ]
  },
  {
   "cell_type": "code",
   "execution_count": 8,
   "metadata": {},
   "outputs": [],
   "source": [
    "from sklearn.preprocessing import PolynomialFeatures\n",
    "poly = PolynomialFeatures(degree=2 , include_bias=False)"
   ]
  },
  {
   "cell_type": "code",
   "execution_count": 9,
   "metadata": {},
   "outputs": [
    {
     "data": {
      "text/plain": [
       "(11077, 6)"
      ]
     },
     "execution_count": 9,
     "metadata": {},
     "output_type": "execute_result"
    }
   ],
   "source": [
    "X.shape"
   ]
  },
  {
   "cell_type": "code",
   "execution_count": 10,
   "metadata": {},
   "outputs": [
    {
     "data": {
      "text/plain": [
       "(11077, 27)"
      ]
     },
     "execution_count": 10,
     "metadata": {},
     "output_type": "execute_result"
    }
   ],
   "source": [
    "X=poly.fit_transform(X)\n",
    "X.shape"
   ]
  },
  {
   "cell_type": "code",
   "execution_count": 11,
   "metadata": {},
   "outputs": [
    {
     "data": {
      "text/html": [
       "<div>\n",
       "<style scoped>\n",
       "    .dataframe tbody tr th:only-of-type {\n",
       "        vertical-align: middle;\n",
       "    }\n",
       "\n",
       "    .dataframe tbody tr th {\n",
       "        vertical-align: top;\n",
       "    }\n",
       "\n",
       "    .dataframe thead th {\n",
       "        text-align: right;\n",
       "    }\n",
       "</style>\n",
       "<table border=\"1\" class=\"dataframe\">\n",
       "  <thead>\n",
       "    <tr style=\"text-align: right;\">\n",
       "      <th></th>\n",
       "      <th>0</th>\n",
       "      <th>1</th>\n",
       "      <th>2</th>\n",
       "      <th>3</th>\n",
       "      <th>4</th>\n",
       "      <th>5</th>\n",
       "      <th>6</th>\n",
       "      <th>7</th>\n",
       "      <th>8</th>\n",
       "      <th>9</th>\n",
       "      <th>...</th>\n",
       "      <th>17</th>\n",
       "      <th>18</th>\n",
       "      <th>19</th>\n",
       "      <th>20</th>\n",
       "      <th>21</th>\n",
       "      <th>22</th>\n",
       "      <th>23</th>\n",
       "      <th>24</th>\n",
       "      <th>25</th>\n",
       "      <th>26</th>\n",
       "    </tr>\n",
       "  </thead>\n",
       "  <tbody>\n",
       "    <tr>\n",
       "      <th>0</th>\n",
       "      <td>-0.552422</td>\n",
       "      <td>-2.775592</td>\n",
       "      <td>9.883001</td>\n",
       "      <td>0.019121</td>\n",
       "      <td>-0.120906</td>\n",
       "      <td>0.057919</td>\n",
       "      <td>0.305170</td>\n",
       "      <td>1.533299</td>\n",
       "      <td>-5.459589</td>\n",
       "      <td>-0.010563</td>\n",
       "      <td>...</td>\n",
       "      <td>97.673716</td>\n",
       "      <td>0.188968</td>\n",
       "      <td>-1.194910</td>\n",
       "      <td>0.572417</td>\n",
       "      <td>0.000366</td>\n",
       "      <td>-0.002312</td>\n",
       "      <td>0.001107</td>\n",
       "      <td>0.014618</td>\n",
       "      <td>-0.007003</td>\n",
       "      <td>0.003355</td>\n",
       "    </tr>\n",
       "    <tr>\n",
       "      <th>1</th>\n",
       "      <td>-0.802668</td>\n",
       "      <td>-1.945555</td>\n",
       "      <td>9.899163</td>\n",
       "      <td>-0.013447</td>\n",
       "      <td>-0.165272</td>\n",
       "      <td>0.049958</td>\n",
       "      <td>0.644276</td>\n",
       "      <td>1.561635</td>\n",
       "      <td>-7.945742</td>\n",
       "      <td>0.010794</td>\n",
       "      <td>...</td>\n",
       "      <td>97.993428</td>\n",
       "      <td>-0.133116</td>\n",
       "      <td>-1.636050</td>\n",
       "      <td>0.494543</td>\n",
       "      <td>0.000181</td>\n",
       "      <td>0.002222</td>\n",
       "      <td>-0.000672</td>\n",
       "      <td>0.027315</td>\n",
       "      <td>-0.008257</td>\n",
       "      <td>0.002496</td>\n",
       "    </tr>\n",
       "    <tr>\n",
       "      <th>2</th>\n",
       "      <td>0.507736</td>\n",
       "      <td>-1.337563</td>\n",
       "      <td>9.762761</td>\n",
       "      <td>-0.064541</td>\n",
       "      <td>0.016221</td>\n",
       "      <td>-0.055773</td>\n",
       "      <td>0.257796</td>\n",
       "      <td>-0.679129</td>\n",
       "      <td>4.956910</td>\n",
       "      <td>-0.032770</td>\n",
       "      <td>...</td>\n",
       "      <td>95.311499</td>\n",
       "      <td>-0.630096</td>\n",
       "      <td>0.158362</td>\n",
       "      <td>-0.544498</td>\n",
       "      <td>0.004166</td>\n",
       "      <td>-0.001047</td>\n",
       "      <td>0.003600</td>\n",
       "      <td>0.000263</td>\n",
       "      <td>-0.000905</td>\n",
       "      <td>0.003111</td>\n",
       "    </tr>\n",
       "    <tr>\n",
       "      <th>3</th>\n",
       "      <td>2.236898</td>\n",
       "      <td>-1.880742</td>\n",
       "      <td>9.804428</td>\n",
       "      <td>0.042296</td>\n",
       "      <td>0.110618</td>\n",
       "      <td>-0.183632</td>\n",
       "      <td>5.003714</td>\n",
       "      <td>-4.207029</td>\n",
       "      <td>21.931507</td>\n",
       "      <td>0.094611</td>\n",
       "      <td>...</td>\n",
       "      <td>96.126802</td>\n",
       "      <td>0.414684</td>\n",
       "      <td>1.084544</td>\n",
       "      <td>-1.800411</td>\n",
       "      <td>0.001789</td>\n",
       "      <td>0.004679</td>\n",
       "      <td>-0.007767</td>\n",
       "      <td>0.012236</td>\n",
       "      <td>-0.020313</td>\n",
       "      <td>0.033721</td>\n",
       "    </tr>\n",
       "    <tr>\n",
       "      <th>4</th>\n",
       "      <td>1.425971</td>\n",
       "      <td>-3.012127</td>\n",
       "      <td>9.893697</td>\n",
       "      <td>0.146983</td>\n",
       "      <td>-0.030932</td>\n",
       "      <td>-0.132298</td>\n",
       "      <td>2.033393</td>\n",
       "      <td>-4.295206</td>\n",
       "      <td>14.108124</td>\n",
       "      <td>0.209594</td>\n",
       "      <td>...</td>\n",
       "      <td>97.885246</td>\n",
       "      <td>1.454209</td>\n",
       "      <td>-0.306031</td>\n",
       "      <td>-1.308913</td>\n",
       "      <td>0.021604</td>\n",
       "      <td>-0.004546</td>\n",
       "      <td>-0.019446</td>\n",
       "      <td>0.000957</td>\n",
       "      <td>0.004092</td>\n",
       "      <td>0.017503</td>\n",
       "    </tr>\n",
       "  </tbody>\n",
       "</table>\n",
       "<p>5 rows × 27 columns</p>\n",
       "</div>"
      ],
      "text/plain": [
       "         0         1         2         3         4         5         6   \\\n",
       "0 -0.552422 -2.775592  9.883001  0.019121 -0.120906  0.057919  0.305170   \n",
       "1 -0.802668 -1.945555  9.899163 -0.013447 -0.165272  0.049958  0.644276   \n",
       "2  0.507736 -1.337563  9.762761 -0.064541  0.016221 -0.055773  0.257796   \n",
       "3  2.236898 -1.880742  9.804428  0.042296  0.110618 -0.183632  5.003714   \n",
       "4  1.425971 -3.012127  9.893697  0.146983 -0.030932 -0.132298  2.033393   \n",
       "\n",
       "         7          8         9   ...         17        18        19  \\\n",
       "0  1.533299  -5.459589 -0.010563  ...  97.673716  0.188968 -1.194910   \n",
       "1  1.561635  -7.945742  0.010794  ...  97.993428 -0.133116 -1.636050   \n",
       "2 -0.679129   4.956910 -0.032770  ...  95.311499 -0.630096  0.158362   \n",
       "3 -4.207029  21.931507  0.094611  ...  96.126802  0.414684  1.084544   \n",
       "4 -4.295206  14.108124  0.209594  ...  97.885246  1.454209 -0.306031   \n",
       "\n",
       "         20        21        22        23        24        25        26  \n",
       "0  0.572417  0.000366 -0.002312  0.001107  0.014618 -0.007003  0.003355  \n",
       "1  0.494543  0.000181  0.002222 -0.000672  0.027315 -0.008257  0.002496  \n",
       "2 -0.544498  0.004166 -0.001047  0.003600  0.000263 -0.000905  0.003111  \n",
       "3 -1.800411  0.001789  0.004679 -0.007767  0.012236 -0.020313  0.033721  \n",
       "4 -1.308913  0.021604 -0.004546 -0.019446  0.000957  0.004092  0.017503  \n",
       "\n",
       "[5 rows x 27 columns]"
      ]
     },
     "execution_count": 11,
     "metadata": {},
     "output_type": "execute_result"
    }
   ],
   "source": [
    "pd.DataFrame(X).head(5)"
   ]
  },
  {
   "cell_type": "code",
   "execution_count": 12,
   "metadata": {},
   "outputs": [
    {
     "data": {
      "text/plain": [
       "array([1., 1.])"
      ]
     },
     "execution_count": 12,
     "metadata": {},
     "output_type": "execute_result"
    }
   ],
   "source": [
    "y[0:2]"
   ]
  },
  {
   "cell_type": "code",
   "execution_count": 13,
   "metadata": {},
   "outputs": [],
   "source": [
    "import numpy as np # linear algebra\n",
    "import pandas as pd # data processing, CSV file I/O (e.g. pd.read_csv)\n",
    "\n",
    "from sklearn.model_selection import train_test_split\n",
    "from sklearn.preprocessing import StandardScaler\n",
    "\n",
    "import matplotlib.pyplot as plt\n",
    "\n",
    "from subprocess import check_output\n",
    "from datetime import time"
   ]
  },
  {
   "cell_type": "code",
   "execution_count": 14,
   "metadata": {},
   "outputs": [],
   "source": [
    "X_train, X_test, y_train, y_test = train_test_split(X, y, test_size=0.25, random_state=42)"
   ]
  },
  {
   "cell_type": "code",
   "execution_count": 15,
   "metadata": {},
   "outputs": [],
   "source": [
    "# scaler = StandardScaler()\n",
    "# #scaler.fit(X_train)\n",
    "# X_train = scaler.fit_transform(X_train)\n",
    "# X_test = scaler.fit_transform(X_test)"
   ]
  },
  {
   "cell_type": "code",
   "execution_count": 16,
   "metadata": {},
   "outputs": [
    {
     "data": {
      "text/html": [
       "<div>\n",
       "<style scoped>\n",
       "    .dataframe tbody tr th:only-of-type {\n",
       "        vertical-align: middle;\n",
       "    }\n",
       "\n",
       "    .dataframe tbody tr th {\n",
       "        vertical-align: top;\n",
       "    }\n",
       "\n",
       "    .dataframe thead th {\n",
       "        text-align: right;\n",
       "    }\n",
       "</style>\n",
       "<table border=\"1\" class=\"dataframe\">\n",
       "  <thead>\n",
       "    <tr style=\"text-align: right;\">\n",
       "      <th></th>\n",
       "      <th>0</th>\n",
       "      <th>1</th>\n",
       "      <th>2</th>\n",
       "      <th>3</th>\n",
       "      <th>4</th>\n",
       "      <th>5</th>\n",
       "      <th>6</th>\n",
       "      <th>7</th>\n",
       "      <th>8</th>\n",
       "      <th>9</th>\n",
       "      <th>...</th>\n",
       "      <th>17</th>\n",
       "      <th>18</th>\n",
       "      <th>19</th>\n",
       "      <th>20</th>\n",
       "      <th>21</th>\n",
       "      <th>22</th>\n",
       "      <th>23</th>\n",
       "      <th>24</th>\n",
       "      <th>25</th>\n",
       "      <th>26</th>\n",
       "    </tr>\n",
       "  </thead>\n",
       "  <tbody>\n",
       "    <tr>\n",
       "      <th>0</th>\n",
       "      <td>-2.999416</td>\n",
       "      <td>-2.837558</td>\n",
       "      <td>8.328533</td>\n",
       "      <td>-0.150382</td>\n",
       "      <td>-0.007934</td>\n",
       "      <td>-0.070817</td>\n",
       "      <td>8.996498</td>\n",
       "      <td>8.511019</td>\n",
       "      <td>-24.980738</td>\n",
       "      <td>0.451058</td>\n",
       "      <td>...</td>\n",
       "      <td>69.364466</td>\n",
       "      <td>-1.252462</td>\n",
       "      <td>-0.066077</td>\n",
       "      <td>-0.589798</td>\n",
       "      <td>0.022615</td>\n",
       "      <td>0.001193</td>\n",
       "      <td>0.010650</td>\n",
       "      <td>0.000063</td>\n",
       "      <td>0.000562</td>\n",
       "      <td>0.005015</td>\n",
       "    </tr>\n",
       "    <tr>\n",
       "      <th>1</th>\n",
       "      <td>0.771530</td>\n",
       "      <td>1.744706</td>\n",
       "      <td>11.023003</td>\n",
       "      <td>-0.005049</td>\n",
       "      <td>0.257496</td>\n",
       "      <td>-0.694313</td>\n",
       "      <td>0.595259</td>\n",
       "      <td>1.346094</td>\n",
       "      <td>8.504582</td>\n",
       "      <td>-0.003896</td>\n",
       "      <td>...</td>\n",
       "      <td>121.506606</td>\n",
       "      <td>-0.055660</td>\n",
       "      <td>2.838379</td>\n",
       "      <td>-7.653409</td>\n",
       "      <td>0.000025</td>\n",
       "      <td>-0.001300</td>\n",
       "      <td>0.003506</td>\n",
       "      <td>0.066304</td>\n",
       "      <td>-0.178783</td>\n",
       "      <td>0.482070</td>\n",
       "    </tr>\n",
       "    <tr>\n",
       "      <th>2</th>\n",
       "      <td>1.757881</td>\n",
       "      <td>-0.169717</td>\n",
       "      <td>9.788013</td>\n",
       "      <td>-0.130378</td>\n",
       "      <td>0.122479</td>\n",
       "      <td>-0.465113</td>\n",
       "      <td>3.090147</td>\n",
       "      <td>-0.298342</td>\n",
       "      <td>17.206165</td>\n",
       "      <td>-0.229190</td>\n",
       "      <td>...</td>\n",
       "      <td>95.805195</td>\n",
       "      <td>-1.276145</td>\n",
       "      <td>1.198829</td>\n",
       "      <td>-4.552530</td>\n",
       "      <td>0.016999</td>\n",
       "      <td>-0.015969</td>\n",
       "      <td>0.060641</td>\n",
       "      <td>0.015001</td>\n",
       "      <td>-0.056967</td>\n",
       "      <td>0.216330</td>\n",
       "    </tr>\n",
       "    <tr>\n",
       "      <th>3</th>\n",
       "      <td>0.184921</td>\n",
       "      <td>0.519520</td>\n",
       "      <td>9.446564</td>\n",
       "      <td>-0.022414</td>\n",
       "      <td>0.034046</td>\n",
       "      <td>0.035406</td>\n",
       "      <td>0.034196</td>\n",
       "      <td>0.096070</td>\n",
       "      <td>1.746871</td>\n",
       "      <td>-0.004145</td>\n",
       "      <td>...</td>\n",
       "      <td>89.237580</td>\n",
       "      <td>-0.211732</td>\n",
       "      <td>0.321621</td>\n",
       "      <td>0.334463</td>\n",
       "      <td>0.000502</td>\n",
       "      <td>-0.000763</td>\n",
       "      <td>-0.000794</td>\n",
       "      <td>0.001159</td>\n",
       "      <td>0.001205</td>\n",
       "      <td>0.001254</td>\n",
       "    </tr>\n",
       "    <tr>\n",
       "      <th>4</th>\n",
       "      <td>-1.491705</td>\n",
       "      <td>-1.971804</td>\n",
       "      <td>10.244260</td>\n",
       "      <td>-0.131709</td>\n",
       "      <td>-0.230972</td>\n",
       "      <td>0.331289</td>\n",
       "      <td>2.225185</td>\n",
       "      <td>2.941350</td>\n",
       "      <td>-15.281418</td>\n",
       "      <td>0.196471</td>\n",
       "      <td>...</td>\n",
       "      <td>104.944861</td>\n",
       "      <td>-1.349263</td>\n",
       "      <td>-2.366141</td>\n",
       "      <td>3.393811</td>\n",
       "      <td>0.017347</td>\n",
       "      <td>0.030421</td>\n",
       "      <td>-0.043634</td>\n",
       "      <td>0.053348</td>\n",
       "      <td>-0.076519</td>\n",
       "      <td>0.109752</td>\n",
       "    </tr>\n",
       "  </tbody>\n",
       "</table>\n",
       "<p>5 rows × 27 columns</p>\n",
       "</div>"
      ],
      "text/plain": [
       "         0         1          2         3         4         5         6   \\\n",
       "0 -2.999416 -2.837558   8.328533 -0.150382 -0.007934 -0.070817  8.996498   \n",
       "1  0.771530  1.744706  11.023003 -0.005049  0.257496 -0.694313  0.595259   \n",
       "2  1.757881 -0.169717   9.788013 -0.130378  0.122479 -0.465113  3.090147   \n",
       "3  0.184921  0.519520   9.446564 -0.022414  0.034046  0.035406  0.034196   \n",
       "4 -1.491705 -1.971804  10.244260 -0.131709 -0.230972  0.331289  2.225185   \n",
       "\n",
       "         7          8         9   ...          17        18        19  \\\n",
       "0  8.511019 -24.980738  0.451058  ...   69.364466 -1.252462 -0.066077   \n",
       "1  1.346094   8.504582 -0.003896  ...  121.506606 -0.055660  2.838379   \n",
       "2 -0.298342  17.206165 -0.229190  ...   95.805195 -1.276145  1.198829   \n",
       "3  0.096070   1.746871 -0.004145  ...   89.237580 -0.211732  0.321621   \n",
       "4  2.941350 -15.281418  0.196471  ...  104.944861 -1.349263 -2.366141   \n",
       "\n",
       "         20        21        22        23        24        25        26  \n",
       "0 -0.589798  0.022615  0.001193  0.010650  0.000063  0.000562  0.005015  \n",
       "1 -7.653409  0.000025 -0.001300  0.003506  0.066304 -0.178783  0.482070  \n",
       "2 -4.552530  0.016999 -0.015969  0.060641  0.015001 -0.056967  0.216330  \n",
       "3  0.334463  0.000502 -0.000763 -0.000794  0.001159  0.001205  0.001254  \n",
       "4  3.393811  0.017347  0.030421 -0.043634  0.053348 -0.076519  0.109752  \n",
       "\n",
       "[5 rows x 27 columns]"
      ]
     },
     "execution_count": 16,
     "metadata": {},
     "output_type": "execute_result"
    }
   ],
   "source": [
    "pd.DataFrame(X_train).head(5)"
   ]
  },
  {
   "cell_type": "code",
   "execution_count": 17,
   "metadata": {},
   "outputs": [],
   "source": [
    "from sklearn.ensemble import RandomForestClassifier\n",
    "rfc=RandomForestClassifier()\n",
    "rfc.fit(X_train,y_train)\n",
    "ypred=rfc.predict(X_test)\n",
    "m1accurcy = rfc.score(X_test, y_test)"
   ]
  },
  {
   "cell_type": "code",
   "execution_count": 20,
   "metadata": {},
   "outputs": [
    {
     "name": "stdout",
     "output_type": "stream",
     "text": [
      "model1_accuracy =  0.7747292418772563\n"
     ]
    }
   ],
   "source": [
    "print(\"model1_accuracy = \" , m1accurcy)"
   ]
  },
  {
   "cell_type": "code",
   "execution_count": 21,
   "metadata": {},
   "outputs": [
    {
     "name": "stdout",
     "output_type": "stream",
     "text": [
      "              precision    recall  f1-score   support\n",
      "\n",
      "         1.0       0.87      0.89      0.88       496\n",
      "         2.0       0.84      0.89      0.86       482\n",
      "         3.0       0.74      0.71      0.73       657\n",
      "         4.0       0.74      0.46      0.57       247\n",
      "         5.0       0.85      0.78      0.81       359\n",
      "         6.0       0.65      0.79      0.71       529\n",
      "\n",
      "    accuracy                           0.77      2770\n",
      "   macro avg       0.78      0.75      0.76      2770\n",
      "weighted avg       0.78      0.77      0.77      2770\n",
      "\n"
     ]
    }
   ],
   "source": [
    "# clasification report \n",
    "from sklearn.metrics import classification_report\n",
    "print(classification_report(y_test, ypred))"
   ]
  },
  {
   "cell_type": "code",
   "execution_count": 22,
   "metadata": {},
   "outputs": [],
   "source": [
    "from sklearn.ensemble import RandomForestClassifier\n",
    "rfc2=RandomForestClassifier(n_estimators=100)\n",
    "rfc2.fit(X_train,y_train)\n",
    "ypred2=rfc2.predict(X_test)\n",
    "m2accurcy = rfc2.score(X_test, y_test)"
   ]
  },
  {
   "cell_type": "code",
   "execution_count": 23,
   "metadata": {},
   "outputs": [
    {
     "name": "stdout",
     "output_type": "stream",
     "text": [
      "model1_accuracy =  0.7747292418772563\n"
     ]
    }
   ],
   "source": [
    "print(\"model2_accuracy = \" , m2accurcy)"
   ]
  },
  {
   "cell_type": "code",
   "execution_count": 24,
   "metadata": {},
   "outputs": [
    {
     "name": "stdout",
     "output_type": "stream",
     "text": [
      "              precision    recall  f1-score   support\n",
      "\n",
      "         1.0       0.86      0.90      0.88       496\n",
      "         2.0       0.83      0.88      0.85       482\n",
      "         3.0       0.73      0.70      0.72       657\n",
      "         4.0       0.72      0.42      0.53       247\n",
      "         5.0       0.87      0.78      0.82       359\n",
      "         6.0       0.65      0.79      0.71       529\n",
      "\n",
      "    accuracy                           0.77      2770\n",
      "   macro avg       0.78      0.74      0.75      2770\n",
      "weighted avg       0.77      0.77      0.77      2770\n",
      "\n"
     ]
    }
   ],
   "source": [
    "# clasification report \n",
    "from sklearn.metrics import classification_report\n",
    "print(classification_report(y_test, ypred2))"
   ]
  },
  {
   "cell_type": "code",
   "execution_count": 26,
   "metadata": {},
   "outputs": [],
   "source": [
    "# Stochastic Gradient Descent\n",
    "from sklearn.linear_model import SGDClassifier\n",
    "SGD = SGDClassifier(loss=\"hinge\", penalty=\"l2\")\n",
    "SGD.fit(X_train, y_train)\n",
    "ypred3=SGD.predict(X_test)\n",
    "m3accurcy = SGD.score(X_test, y_test)"
   ]
  },
  {
   "cell_type": "code",
   "execution_count": 27,
   "metadata": {},
   "outputs": [
    {
     "name": "stdout",
     "output_type": "stream",
     "text": [
      "model3_accuracy =  0.3115523465703971\n"
     ]
    }
   ],
   "source": [
    "print(\"model3_accuracy = \" , m3accurcy)"
   ]
  },
  {
   "cell_type": "code",
   "execution_count": 28,
   "metadata": {},
   "outputs": [
    {
     "name": "stdout",
     "output_type": "stream",
     "text": [
      "              precision    recall  f1-score   support\n",
      "\n",
      "         1.0       0.91      0.54      0.68       496\n",
      "         2.0       0.80      0.40      0.53       482\n",
      "         3.0       0.29      0.01      0.01       657\n",
      "         4.0       0.48      0.19      0.27       247\n",
      "         5.0       0.16      0.94      0.27       359\n",
      "         6.0       0.55      0.03      0.06       529\n",
      "\n",
      "    accuracy                           0.31      2770\n",
      "   macro avg       0.53      0.35      0.30      2770\n",
      "weighted avg       0.54      0.31      0.29      2770\n",
      "\n"
     ]
    }
   ],
   "source": [
    "from sklearn.metrics import classification_report\n",
    "print(classification_report(y_test, ypred3))"
   ]
  },
  {
   "cell_type": "code",
   "execution_count": 44,
   "metadata": {},
   "outputs": [
    {
     "name": "stderr",
     "output_type": "stream",
     "text": [
      "c:\\users\\hoomo\\anaconda3\\envs\\tf2\\lib\\site-packages\\sklearn\\svm\\_base.py:249: ConvergenceWarning: Solver terminated early (max_iter=2000).  Consider pre-processing your data with StandardScaler or MinMaxScaler.\n",
      "  % self.max_iter, ConvergenceWarning)\n"
     ]
    }
   ],
   "source": [
    "# svc\n",
    "from sklearn.svm import SVC\n",
    "svcmodel = SVC(kernel='rbf',\n",
    "               max_iter=2000,\n",
    "               C=1.0,\n",
    "              gamma='auto')\n",
    "svcmodel.fit(X_train, y_train)\n",
    "ypred4=SGD.predict(X_test)\n",
    "m4accurcy = svcmodel.score(X_test, y_test)"
   ]
  },
  {
   "cell_type": "code",
   "execution_count": 45,
   "metadata": {},
   "outputs": [
    {
     "name": "stdout",
     "output_type": "stream",
     "text": [
      "model4_accuracy =  0.6671480144404333\n"
     ]
    }
   ],
   "source": [
    "print(\"model4_accuracy = \" , m4accurcy) "
   ]
  },
  {
   "cell_type": "code",
   "execution_count": 35,
   "metadata": {},
   "outputs": [
    {
     "name": "stdout",
     "output_type": "stream",
     "text": [
      "              precision    recall  f1-score   support\n",
      "\n",
      "         1.0       0.91      0.54      0.68       496\n",
      "         2.0       0.80      0.40      0.53       482\n",
      "         3.0       0.29      0.01      0.01       657\n",
      "         4.0       0.48      0.19      0.27       247\n",
      "         5.0       0.16      0.94      0.27       359\n",
      "         6.0       0.55      0.03      0.06       529\n",
      "\n",
      "    accuracy                           0.31      2770\n",
      "   macro avg       0.53      0.35      0.30      2770\n",
      "weighted avg       0.54      0.31      0.29      2770\n",
      "\n"
     ]
    }
   ],
   "source": [
    "from sklearn.metrics import classification_report\n",
    "print(classification_report(y_test, ypred4))"
   ]
  },
  {
   "cell_type": "markdown",
   "metadata": {},
   "source": [
    "#  save model"
   ]
  },
  {
   "cell_type": "code",
   "execution_count": 21,
   "metadata": {},
   "outputs": [
    {
     "data": {
      "text/plain": [
       "['svcmodel.scav']"
      ]
     },
     "execution_count": 21,
     "metadata": {},
     "output_type": "execute_result"
    }
   ],
   "source": [
    "import joblib\n",
    "# save the model to disk\n",
    "joblib.dump(SGD, 'SGDC.sav')\n",
    "joblib.dump(svcmodel,'svcmodel.scav')\n"
   ]
  },
  {
   "cell_type": "markdown",
   "metadata": {},
   "source": [
    "# try models with different parameter"
   ]
  },
  {
   "cell_type": "code",
   "execution_count": 39,
   "metadata": {},
   "outputs": [
    {
     "name": "stderr",
     "output_type": "stream",
     "text": [
      "c:\\users\\hoomo\\anaconda3\\envs\\tf2\\lib\\site-packages\\sklearn\\svm\\_base.py:249: ConvergenceWarning: Solver terminated early (max_iter=1000).  Consider pre-processing your data with StandardScaler or MinMaxScaler.\n",
      "  % self.max_iter, ConvergenceWarning)\n"
     ]
    },
    {
     "name": "stdout",
     "output_type": "stream",
     "text": [
      "test_model_accuracy =  0.6657039711191336\n"
     ]
    }
   ],
   "source": [
    "test_model = SVC(kernel='rbf',\n",
    "               max_iter=1000,\n",
    "              gamma='auto')\n",
    "\n",
    "test_model.fit(X_train, y_train)\n",
    "accurcy = test_model.score(X_test, y_test)\n",
    "\n",
    "print(\"test_model_accuracy = \" , accurcy) \n"
   ]
  },
  {
   "cell_type": "code",
   "execution_count": 40,
   "metadata": {},
   "outputs": [
    {
     "name": "stderr",
     "output_type": "stream",
     "text": [
      "c:\\users\\hoomo\\anaconda3\\envs\\tf2\\lib\\site-packages\\sklearn\\svm\\_base.py:249: ConvergenceWarning: Solver terminated early (max_iter=1000).  Consider pre-processing your data with StandardScaler or MinMaxScaler.\n",
      "  % self.max_iter, ConvergenceWarning)\n"
     ]
    },
    {
     "name": "stdout",
     "output_type": "stream",
     "text": [
      "test_model_accuracy =  0.19097472924187725\n"
     ]
    }
   ],
   "source": [
    "test_model = SVC(kernel='sigmoid',\n",
    "               max_iter=1000,\n",
    "              gamma='auto')\n",
    "\n",
    "test_model.fit(X_train, y_train)\n",
    "accurcy = test_model.score(X_test, y_test)\n",
    "\n",
    "print(\"test_model_accuracy = \" , accurcy) "
   ]
  },
  {
   "cell_type": "code",
   "execution_count": 43,
   "metadata": {},
   "outputs": [
    {
     "name": "stdout",
     "output_type": "stream",
     "text": [
      "test_model_accuracy =  0.23718411552346572\n"
     ]
    }
   ],
   "source": [
    "test_model = SVC(kernel='sigmoid',\n",
    "                        max_iter=2000,\n",
    "                        gamma='auto')\n",
    "\n",
    "test_model.fit(X_train, y_train)\n",
    "accurcy = test_model.score(X_test, y_test)\n",
    "\n",
    "print(\"test_model_accuracy = \" , accurcy)  "
   ]
  },
  {
   "cell_type": "code",
   "execution_count": 46,
   "metadata": {},
   "outputs": [
    {
     "name": "stderr",
     "output_type": "stream",
     "text": [
      "c:\\users\\hoomo\\anaconda3\\envs\\tf2\\lib\\site-packages\\sklearn\\svm\\_base.py:249: ConvergenceWarning: Solver terminated early (max_iter=2000).  Consider pre-processing your data with StandardScaler or MinMaxScaler.\n",
      "  % self.max_iter, ConvergenceWarning)\n"
     ]
    },
    {
     "name": "stdout",
     "output_type": "stream",
     "text": [
      "test_model_accuracy =  0.6671480144404333\n"
     ]
    }
   ],
   "source": [
    "test_model = SVC(kernel='rbf',\n",
    "                 max_iter=2000,\n",
    "                 gamma='auto')\n",
    "\n",
    "test_model.fit(X_train, y_train)\n",
    "accurcy = test_model.score(X_test, y_test)\n",
    "\n",
    "print(\"test_model_accuracy = \" , accurcy)   "
   ]
  },
  {
   "cell_type": "code",
   "execution_count": 47,
   "metadata": {},
   "outputs": [
    {
     "name": "stderr",
     "output_type": "stream",
     "text": [
      "c:\\users\\hoomo\\anaconda3\\envs\\tf2\\lib\\site-packages\\sklearn\\svm\\_base.py:249: ConvergenceWarning: Solver terminated early (max_iter=3000).  Consider pre-processing your data with StandardScaler or MinMaxScaler.\n",
      "  % self.max_iter, ConvergenceWarning)\n"
     ]
    },
    {
     "name": "stdout",
     "output_type": "stream",
     "text": [
      "test_model_accuracy =  0.6678700361010831\n"
     ]
    }
   ],
   "source": [
    "test_model = SVC(kernel='rbf',\n",
    "                 max_iter=3000,\n",
    "                 gamma='auto')\n",
    " \n",
    "test_model.fit(X_train, y_train)\n",
    "accurcy = test_model.score(X_test, y_test)\n",
    "\n",
    "print(\"test_model_accuracy = \" , accurcy)   "
   ]
  },
  {
   "cell_type": "code",
   "execution_count": 48,
   "metadata": {},
   "outputs": [
    {
     "name": "stderr",
     "output_type": "stream",
     "text": [
      "c:\\users\\hoomo\\anaconda3\\envs\\tf2\\lib\\site-packages\\sklearn\\svm\\_base.py:249: ConvergenceWarning: Solver terminated early (max_iter=3000).  Consider pre-processing your data with StandardScaler or MinMaxScaler.\n",
      "  % self.max_iter, ConvergenceWarning)\n"
     ]
    },
    {
     "name": "stdout",
     "output_type": "stream",
     "text": [
      "test_model_accuracy =  0.6678700361010831\n"
     ]
    }
   ],
   "source": [
    "test_model = SVC(kernel='rbf',\n",
    "                 max_iter=3000,\n",
    "                 gamma='auto')\n",
    " \n",
    "test_model.fit(X_train, y_train)\n",
    "accurcy = test_model.score(X_test, y_test)\n",
    "\n",
    "print(\"test_model_accuracy = \" , accurcy)  "
   ]
  },
  {
   "cell_type": "code",
   "execution_count": 49,
   "metadata": {},
   "outputs": [
    {
     "name": "stderr",
     "output_type": "stream",
     "text": [
      "c:\\users\\hoomo\\anaconda3\\envs\\tf2\\lib\\site-packages\\sklearn\\svm\\_base.py:249: ConvergenceWarning: Solver terminated early (max_iter=2500).  Consider pre-processing your data with StandardScaler or MinMaxScaler.\n",
      "  % self.max_iter, ConvergenceWarning)\n"
     ]
    },
    {
     "name": "stdout",
     "output_type": "stream",
     "text": [
      "test_model_accuracy =  0.39097472924187726\n"
     ]
    }
   ],
   "source": [
    "# svc\n",
    "test_model = SVC(kernel='linear',\n",
    "                 max_iter=2500,\n",
    "                 C=0.1,\n",
    "                 gamma='auto')\n",
    " \n",
    "test_model.fit(X_train, y_train)\n",
    "accurcy = test_model.score(X_test, y_test)\n",
    "\n",
    "print(\"test_model_accuracy = \" , accurcy)  "
   ]
  },
  {
   "cell_type": "code",
   "execution_count": 50,
   "metadata": {},
   "outputs": [
    {
     "name": "stderr",
     "output_type": "stream",
     "text": [
      "c:\\users\\hoomo\\anaconda3\\envs\\tf2\\lib\\site-packages\\sklearn\\svm\\_base.py:249: ConvergenceWarning: Solver terminated early (max_iter=10000).  Consider pre-processing your data with StandardScaler or MinMaxScaler.\n",
      "  % self.max_iter, ConvergenceWarning)\n"
     ]
    },
    {
     "name": "stdout",
     "output_type": "stream",
     "text": [
      "test_model_accuracy =  0.6501805054151625\n"
     ]
    }
   ],
   "source": [
    "# svc\n",
    "test_model = SVC(kernel='rbf',\n",
    "               max_iter=10000,\n",
    "               C=10,\n",
    "              gamma='auto')\n",
    " \n",
    "test_model.fit(X_train, y_train)\n",
    "accurcy = test_model.score(X_test, y_test)\n",
    "\n",
    "print(\"test_model_accuracy = \" , accurcy)  "
   ]
  },
  {
   "cell_type": "code",
   "execution_count": 51,
   "metadata": {},
   "outputs": [
    {
     "name": "stderr",
     "output_type": "stream",
     "text": [
      "c:\\users\\hoomo\\anaconda3\\envs\\tf2\\lib\\site-packages\\sklearn\\svm\\_base.py:249: ConvergenceWarning: Solver terminated early (max_iter=10000).  Consider pre-processing your data with StandardScaler or MinMaxScaler.\n",
      "  % self.max_iter, ConvergenceWarning)\n"
     ]
    },
    {
     "name": "stdout",
     "output_type": "stream",
     "text": [
      "test_model_accuracy =  0.36064981949458486\n"
     ]
    }
   ],
   "source": [
    "# svc\n",
    "test_model = SVC(kernel='poly',\n",
    "               max_iter=10000,\n",
    "               C=10,\n",
    "              gamma='auto')\n",
    " \n",
    "test_model.fit(X_train, y_train)\n",
    "accurcy = test_model.score(X_test, y_test)\n",
    "\n",
    "print(\"test_model_accuracy = \" , accurcy)  "
   ]
  },
  {
   "cell_type": "code",
   "execution_count": 52,
   "metadata": {},
   "outputs": [
    {
     "name": "stdout",
     "output_type": "stream",
     "text": [
      "test_model_accuracy =  0.23718411552346572\n"
     ]
    }
   ],
   "source": [
    "# svc\n",
    "test_model = SVC(kernel='sigmoid',\n",
    "               max_iter=10000,\n",
    "               C=10,\n",
    "              gamma='auto')\n",
    " \n",
    "test_model.fit(X_train, y_train)\n",
    "accurcy = test_model.score(X_test, y_test)\n",
    "\n",
    "print(\"test_model_accuracy = \" , accurcy)  "
   ]
  }
 ],
 "metadata": {
  "kernelspec": {
   "display_name": "Python 3",
   "language": "python",
   "name": "python3"
  },
  "language_info": {
   "codemirror_mode": {
    "name": "ipython",
    "version": 3
   },
   "file_extension": ".py",
   "mimetype": "text/x-python",
   "name": "python",
   "nbconvert_exporter": "python",
   "pygments_lexer": "ipython3",
   "version": "3.6.10"
  }
 },
 "nbformat": 4,
 "nbformat_minor": 2
}
