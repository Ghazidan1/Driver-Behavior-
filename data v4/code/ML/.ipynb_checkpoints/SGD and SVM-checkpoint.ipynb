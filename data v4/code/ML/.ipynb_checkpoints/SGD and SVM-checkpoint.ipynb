{
 "cells": [
  {
   "cell_type": "markdown",
   "metadata": {},
   "source": [
    "# Different models with the different parameter to find the best one"
   ]
  },
  {
   "cell_type": "markdown",
   "metadata": {},
   "source": [
    "- one of the problems we have is that the dataset is small so we use Polynomial Features to increase the number of features from 6 feature to 27 feature.\n",
    "- Polynomial Features with degree = 2"
   ]
  },
  {
   "cell_type": "markdown",
   "metadata": {},
   "source": [
    "#### Models\n",
    "- 1) Stochastic Gradient Descent\n",
    "- 2) Support vector machine"
   ]
  },
  {
   "cell_type": "markdown",
   "metadata": {},
   "source": [
    "- load dataset"
   ]
  },
  {
   "cell_type": "code",
   "execution_count": 1,
   "metadata": {},
   "outputs": [],
   "source": [
    "# import library\n",
    "import numpy as np # linear algebra\n",
    "import pandas as pd # data processing, CSV file I/O (e.g. pd.read_csv)\n",
    "import matplotlib.pyplot as plt\n",
    "\n",
    "from sklearn.model_selection import train_test_split\n",
    "from sklearn.preprocessing import StandardScaler\n",
    "\n",
    "from sklearn.preprocessing import PolynomialFeatures\n",
    "\n",
    "from sklearn.ensemble import RandomForestClassifier\n",
    "from sklearn.linear_model import SGDClassifier\n",
    "from sklearn.svm import SVC\n",
    "\n",
    "from sklearn.metrics import classification_report\n",
    "import joblib\n",
    "\n",
    "from subprocess import check_output\n",
    "from datetime import time\n",
    "\n",
    "# load data\n",
    "data = pd.read_csv(\"../../data.csv\")\n",
    "\n",
    "# Get valuse from data (datafram)\n",
    "data = data.values\n",
    "X = data[:,0:6] # all rows, no Lebal\n",
    "y = data[:,6] # all rows, label only\n"
   ]
  },
  {
   "cell_type": "markdown",
   "metadata": {},
   "source": [
    "- expand dataset features"
   ]
  },
  {
   "cell_type": "code",
   "execution_count": 10,
   "metadata": {},
   "outputs": [
    {
     "data": {
      "text/plain": [
       "(11077, 27)"
      ]
     },
     "execution_count": 10,
     "metadata": {},
     "output_type": "execute_result"
    }
   ],
   "source": [
    "# Define PolynomialFeatures variable with degree 2 and without bias\n",
    "poly = PolynomialFeatures(degree=2 , include_bias=False)\n",
    "X=poly.fit_transform(X)\n",
    "X.shape"
   ]
  },
  {
   "cell_type": "markdown",
   "metadata": {},
   "source": [
    "- split dataset to train and test dataset\n",
    "    - with ratio 75% to train the dataset and 25% to the test dataset"
   ]
  },
  {
   "cell_type": "code",
   "execution_count": 14,
   "metadata": {},
   "outputs": [],
   "source": [
    "X_train, X_test, y_train, y_test = train_test_split(X, y, test_size=0.25, random_state=42)"
   ]
  },
  {
   "cell_type": "markdown",
   "metadata": {},
   "source": [
    "### Train Stochastic Gradient Descent Model\n",
    "\n",
    " It can be regarded as a stochastic approximation of gradient descent optimization since it replaces the actual gradient (calculated from the entire data set) by an estimate thereof (calculated from a randomly selected subset of the data)\n",
    "\n",
    "- Define the Stochastic Gradient Descent model\n",
    "- Train(fit) the Stochastic Gradient Descent model\n",
    "- Predict the output of X_test using Stochastic Gradient Descent model\n",
    "- Calculate the accuracy of Stochastic Gradient Descent model\n",
    "- Evaluate Model with clasification report "
   ]
  },
  {
   "cell_type": "code",
   "execution_count": 26,
   "metadata": {},
   "outputs": [],
   "source": [
    "# Stochastic Gradient Descent\n",
    "SGD = SGDClassifier(loss=\"hinge\", penalty=\"l2\")\n",
    "SGD.fit(X_train, y_train)\n",
    "ypred3=SGD.predict(X_test)\n",
    "m3accurcy = SGD.score(X_test, y_test)"
   ]
  },
  {
   "cell_type": "code",
   "execution_count": 27,
   "metadata": {},
   "outputs": [
    {
     "name": "stdout",
     "output_type": "stream",
     "text": [
      "model3_accuracy =  0.3115523465703971\n"
     ]
    }
   ],
   "source": [
    "# print Stochastic Gradient Descent accuracy\n",
    "print(\"model3_accuracy = \" , m3accurcy)"
   ]
  },
  {
   "cell_type": "code",
   "execution_count": 28,
   "metadata": {},
   "outputs": [
    {
     "name": "stdout",
     "output_type": "stream",
     "text": [
      "              precision    recall  f1-score   support\n",
      "\n",
      "         1.0       0.91      0.54      0.68       496\n",
      "         2.0       0.80      0.40      0.53       482\n",
      "         3.0       0.29      0.01      0.01       657\n",
      "         4.0       0.48      0.19      0.27       247\n",
      "         5.0       0.16      0.94      0.27       359\n",
      "         6.0       0.55      0.03      0.06       529\n",
      "\n",
      "    accuracy                           0.31      2770\n",
      "   macro avg       0.53      0.35      0.30      2770\n",
      "weighted avg       0.54      0.31      0.29      2770\n",
      "\n"
     ]
    }
   ],
   "source": [
    "# clasification report of Stochastic Gradient Descent\n",
    "print(classification_report(y_test, ypred3))"
   ]
  },
  {
   "cell_type": "markdown",
   "metadata": {},
   "source": [
    "### Train Support vector machine Model\n",
    "- Define the Support vector machine model with parameter\n",
    "    - kernel = radial basis function(RBF kernel)\n",
    "    - max_iter = 2000\n",
    "    - c = 1.0 (how much you want to avoid misclassifying each training)\n",
    "    - gamma = auto\n",
    "- Train(fit) the Support vector machine model\n",
    "- Predict the output of X_test using Support vector machine model\n",
    "- Calculate the accuracy of Support vector machine model\n",
    "- Evaluate Model with clasification report "
   ]
  },
  {
   "cell_type": "code",
   "execution_count": 44,
   "metadata": {},
   "outputs": [
    {
     "name": "stderr",
     "output_type": "stream",
     "text": [
      "c:\\users\\hoomo\\anaconda3\\envs\\tf2\\lib\\site-packages\\sklearn\\svm\\_base.py:249: ConvergenceWarning: Solver terminated early (max_iter=2000).  Consider pre-processing your data with StandardScaler or MinMaxScaler.\n",
      "  % self.max_iter, ConvergenceWarning)\n"
     ]
    }
   ],
   "source": [
    "# Support vector machine\n",
    "svcmodel = SVC(kernel='rbf',\n",
    "               max_iter=2000,\n",
    "               C=1.0,\n",
    "              gamma='auto')\n",
    "svcmodel.fit(X_train, y_train)\n",
    "ypred4=SGD.predict(X_test)\n",
    "m4accurcy = svcmodel.score(X_test, y_test)"
   ]
  },
  {
   "cell_type": "code",
   "execution_count": 45,
   "metadata": {},
   "outputs": [
    {
     "name": "stdout",
     "output_type": "stream",
     "text": [
      "model4_accuracy =  0.6671480144404333\n"
     ]
    }
   ],
   "source": [
    "# print Support vector machine accuracy\n",
    "print(\"model4_accuracy = \" , m4accurcy) "
   ]
  },
  {
   "cell_type": "code",
   "execution_count": 35,
   "metadata": {},
   "outputs": [
    {
     "name": "stdout",
     "output_type": "stream",
     "text": [
      "              precision    recall  f1-score   support\n",
      "\n",
      "         1.0       0.91      0.54      0.68       496\n",
      "         2.0       0.80      0.40      0.53       482\n",
      "         3.0       0.29      0.01      0.01       657\n",
      "         4.0       0.48      0.19      0.27       247\n",
      "         5.0       0.16      0.94      0.27       359\n",
      "         6.0       0.55      0.03      0.06       529\n",
      "\n",
      "    accuracy                           0.31      2770\n",
      "   macro avg       0.53      0.35      0.30      2770\n",
      "weighted avg       0.54      0.31      0.29      2770\n",
      "\n"
     ]
    }
   ],
   "source": [
    "# clasification report of Support vector machine\n",
    "print(classification_report(y_test, ypred4))"
   ]
  },
  {
   "cell_type": "markdown",
   "metadata": {},
   "source": [
    "### save the model after training.\n",
    "- so we can load it and run without the need to train anymore"
   ]
  },
  {
   "cell_type": "code",
   "execution_count": 21,
   "metadata": {},
   "outputs": [
    {
     "data": {
      "text/plain": [
       "['svcmodel.scav']"
      ]
     },
     "execution_count": 21,
     "metadata": {},
     "output_type": "execute_result"
    }
   ],
   "source": [
    "# save the model to disk\n",
    "joblib.dump(SGD, 'SGDC.sav')\n",
    "joblib.dump(svcmodel,'svcmodel.scav')"
   ]
  },
  {
   "cell_type": "markdown",
   "metadata": {},
   "source": [
    "## Train Support vector machine models with different parameters\n",
    "- Define the Support vector machine model \n",
    "- Train(fit) the Support vector machine model\n",
    "- Calculate the accuracy of Support vector machine model"
   ]
  },
  {
   "cell_type": "markdown",
   "metadata": {},
   "source": [
    "####  Support vector machine parameters\n",
    "- kernel = radial basis function(RBF kernel)\n",
    "- max_iter = 1000\n",
    "- gamma = auto"
   ]
  },
  {
   "cell_type": "code",
   "execution_count": 39,
   "metadata": {},
   "outputs": [
    {
     "name": "stderr",
     "output_type": "stream",
     "text": [
      "c:\\users\\hoomo\\anaconda3\\envs\\tf2\\lib\\site-packages\\sklearn\\svm\\_base.py:249: ConvergenceWarning: Solver terminated early (max_iter=1000).  Consider pre-processing your data with StandardScaler or MinMaxScaler.\n",
      "  % self.max_iter, ConvergenceWarning)\n"
     ]
    },
    {
     "name": "stdout",
     "output_type": "stream",
     "text": [
      "test_model_accuracy =  0.6657039711191336\n"
     ]
    }
   ],
   "source": [
    "test_model = SVC(kernel='rbf',\n",
    "               max_iter=1000,\n",
    "              gamma='auto')\n",
    "\n",
    "test_model.fit(X_train, y_train)\n",
    "accurcy = test_model.score(X_test, y_test)\n",
    "\n",
    "print(\"test_model_accuracy = \" , accurcy) \n"
   ]
  },
  {
   "cell_type": "markdown",
   "metadata": {},
   "source": [
    "#### Support vector machine parameters\n",
    "- kernel = sigmoid\n",
    "- max_iter = 1000\n",
    "- gamma = auto"
   ]
  },
  {
   "cell_type": "code",
   "execution_count": 40,
   "metadata": {},
   "outputs": [
    {
     "name": "stderr",
     "output_type": "stream",
     "text": [
      "c:\\users\\hoomo\\anaconda3\\envs\\tf2\\lib\\site-packages\\sklearn\\svm\\_base.py:249: ConvergenceWarning: Solver terminated early (max_iter=1000).  Consider pre-processing your data with StandardScaler or MinMaxScaler.\n",
      "  % self.max_iter, ConvergenceWarning)\n"
     ]
    },
    {
     "name": "stdout",
     "output_type": "stream",
     "text": [
      "test_model_accuracy =  0.19097472924187725\n"
     ]
    }
   ],
   "source": [
    "test_model = SVC(kernel='sigmoid',\n",
    "               max_iter=1000,\n",
    "              gamma='auto')\n",
    "\n",
    "test_model.fit(X_train, y_train)\n",
    "accurcy = test_model.score(X_test, y_test)\n",
    "\n",
    "print(\"test_model_accuracy = \" , accurcy) "
   ]
  },
  {
   "cell_type": "markdown",
   "metadata": {},
   "source": [
    "#### Support vector machine parameters\n",
    "- kernel = sigmoid\n",
    "- max_iter = 2000\n",
    "- gamma = auto"
   ]
  },
  {
   "cell_type": "code",
   "execution_count": 43,
   "metadata": {},
   "outputs": [
    {
     "name": "stdout",
     "output_type": "stream",
     "text": [
      "test_model_accuracy =  0.23718411552346572\n"
     ]
    }
   ],
   "source": [
    "test_model = SVC(kernel='sigmoid',\n",
    "                        max_iter=2000,\n",
    "                        gamma='auto')\n",
    "\n",
    "test_model.fit(X_train, y_train)\n",
    "accurcy = test_model.score(X_test, y_test)\n",
    "\n",
    "print(\"test_model_accuracy = \" , accurcy)  "
   ]
  },
  {
   "cell_type": "markdown",
   "metadata": {},
   "source": [
    "####  Support vector machine parameters\n",
    "- kernel = radial basis function(RBF kernel)\n",
    "- max_iter = 2000\n",
    "- gamma = auto"
   ]
  },
  {
   "cell_type": "code",
   "execution_count": 46,
   "metadata": {},
   "outputs": [
    {
     "name": "stderr",
     "output_type": "stream",
     "text": [
      "c:\\users\\hoomo\\anaconda3\\envs\\tf2\\lib\\site-packages\\sklearn\\svm\\_base.py:249: ConvergenceWarning: Solver terminated early (max_iter=2000).  Consider pre-processing your data with StandardScaler or MinMaxScaler.\n",
      "  % self.max_iter, ConvergenceWarning)\n"
     ]
    },
    {
     "name": "stdout",
     "output_type": "stream",
     "text": [
      "test_model_accuracy =  0.6671480144404333\n"
     ]
    }
   ],
   "source": [
    "test_model = SVC(kernel='rbf',\n",
    "                 max_iter=2000,\n",
    "                 gamma='auto')\n",
    "\n",
    "test_model.fit(X_train, y_train)\n",
    "accurcy = test_model.score(X_test, y_test)\n",
    "\n",
    "print(\"test_model_accuracy = \" , accurcy)   "
   ]
  },
  {
   "cell_type": "markdown",
   "metadata": {},
   "source": [
    "####  Support vector machine parameters\n",
    "- kernel = radial basis function(RBF kernel)\n",
    "- max_iter = 3000\n",
    "- gamma = auto"
   ]
  },
  {
   "cell_type": "code",
   "execution_count": 47,
   "metadata": {},
   "outputs": [
    {
     "name": "stderr",
     "output_type": "stream",
     "text": [
      "c:\\users\\hoomo\\anaconda3\\envs\\tf2\\lib\\site-packages\\sklearn\\svm\\_base.py:249: ConvergenceWarning: Solver terminated early (max_iter=3000).  Consider pre-processing your data with StandardScaler or MinMaxScaler.\n",
      "  % self.max_iter, ConvergenceWarning)\n"
     ]
    },
    {
     "name": "stdout",
     "output_type": "stream",
     "text": [
      "test_model_accuracy =  0.6678700361010831\n"
     ]
    }
   ],
   "source": [
    "test_model = SVC(kernel='rbf',\n",
    "                 max_iter=3000,\n",
    "                 gamma='auto')\n",
    " \n",
    "test_model.fit(X_train, y_train)\n",
    "accurcy = test_model.score(X_test, y_test)\n",
    "\n",
    "print(\"test_model_accuracy = \" , accurcy)   "
   ]
  },
  {
   "cell_type": "markdown",
   "metadata": {},
   "source": [
    "####  Support vector machine parameters\n",
    "- kernel = linear\n",
    "- max_iter = 2500\n",
    "- c = 0.1 (how much you want to avoid misclassifying each training)\n",
    "- gamma = auto"
   ]
  },
  {
   "cell_type": "code",
   "execution_count": 49,
   "metadata": {},
   "outputs": [
    {
     "name": "stderr",
     "output_type": "stream",
     "text": [
      "c:\\users\\hoomo\\anaconda3\\envs\\tf2\\lib\\site-packages\\sklearn\\svm\\_base.py:249: ConvergenceWarning: Solver terminated early (max_iter=2500).  Consider pre-processing your data with StandardScaler or MinMaxScaler.\n",
      "  % self.max_iter, ConvergenceWarning)\n"
     ]
    },
    {
     "name": "stdout",
     "output_type": "stream",
     "text": [
      "test_model_accuracy =  0.39097472924187726\n"
     ]
    }
   ],
   "source": [
    "# svc\n",
    "test_model = SVC(kernel='linear',\n",
    "                 max_iter=2500,\n",
    "                 C=0.1,\n",
    "                 gamma='auto')\n",
    " \n",
    "test_model.fit(X_train, y_train)\n",
    "accurcy = test_model.score(X_test, y_test)\n",
    "\n",
    "print(\"test_model_accuracy = \" , accurcy)  "
   ]
  },
  {
   "cell_type": "markdown",
   "metadata": {},
   "source": [
    "#### Support vector machine parameters\n",
    "- kernel = radial basis function(RBF kernel)\n",
    "- max_iter = 10000\n",
    "- c = 10 (how much you want to avoid misclassifying each training)\n",
    "- gamma = auto"
   ]
  },
  {
   "cell_type": "code",
   "execution_count": 50,
   "metadata": {},
   "outputs": [
    {
     "name": "stderr",
     "output_type": "stream",
     "text": [
      "c:\\users\\hoomo\\anaconda3\\envs\\tf2\\lib\\site-packages\\sklearn\\svm\\_base.py:249: ConvergenceWarning: Solver terminated early (max_iter=10000).  Consider pre-processing your data with StandardScaler or MinMaxScaler.\n",
      "  % self.max_iter, ConvergenceWarning)\n"
     ]
    },
    {
     "name": "stdout",
     "output_type": "stream",
     "text": [
      "test_model_accuracy =  0.6501805054151625\n"
     ]
    }
   ],
   "source": [
    "# svc\n",
    "test_model = SVC(kernel='rbf',\n",
    "               max_iter=10000,\n",
    "               C=10,\n",
    "              gamma='auto')\n",
    " \n",
    "test_model.fit(X_train, y_train)\n",
    "accurcy = test_model.score(X_test, y_test)\n",
    "\n",
    "print(\"test_model_accuracy = \" , accurcy)  "
   ]
  },
  {
   "cell_type": "markdown",
   "metadata": {},
   "source": [
    "####  Support vector machine parameters\n",
    "- kernel = poly\n",
    "- max_iter = 10000\n",
    "- c = 10 (how much you want to avoid misclassifying each training)\n",
    "- gamma = auto"
   ]
  },
  {
   "cell_type": "code",
   "execution_count": 51,
   "metadata": {},
   "outputs": [
    {
     "name": "stderr",
     "output_type": "stream",
     "text": [
      "c:\\users\\hoomo\\anaconda3\\envs\\tf2\\lib\\site-packages\\sklearn\\svm\\_base.py:249: ConvergenceWarning: Solver terminated early (max_iter=10000).  Consider pre-processing your data with StandardScaler or MinMaxScaler.\n",
      "  % self.max_iter, ConvergenceWarning)\n"
     ]
    },
    {
     "name": "stdout",
     "output_type": "stream",
     "text": [
      "test_model_accuracy =  0.36064981949458486\n"
     ]
    }
   ],
   "source": [
    "# svc\n",
    "test_model = SVC(kernel='poly',\n",
    "               max_iter=10000,\n",
    "               C=10,\n",
    "              gamma='auto')\n",
    " \n",
    "test_model.fit(X_train, y_train)\n",
    "accurcy = test_model.score(X_test, y_test)\n",
    "\n",
    "print(\"test_model_accuracy = \" , accurcy)  "
   ]
  },
  {
   "cell_type": "markdown",
   "metadata": {},
   "source": [
    "####  Support vector machine parameters\n",
    "- kernel = sigmoid\n",
    "- max_iter = 10000\n",
    "- c = 10 (how much you want to avoid misclassifying each training)\n",
    "- gamma = auto"
   ]
  },
  {
   "cell_type": "code",
   "execution_count": 52,
   "metadata": {},
   "outputs": [
    {
     "name": "stdout",
     "output_type": "stream",
     "text": [
      "test_model_accuracy =  0.23718411552346572\n"
     ]
    }
   ],
   "source": [
    "# svc\n",
    "test_model = SVC(kernel='sigmoid',\n",
    "               max_iter=10000,\n",
    "               C=10,\n",
    "              gamma='auto')\n",
    " \n",
    "test_model.fit(X_train, y_train)\n",
    "accurcy = test_model.score(X_test, y_test)\n",
    "\n",
    "print(\"test_model_accuracy = \" , accurcy)  "
   ]
  }
 ],
 "metadata": {
  "kernelspec": {
   "display_name": "Python 3",
   "language": "python",
   "name": "python3"
  },
  "language_info": {
   "codemirror_mode": {
    "name": "ipython",
    "version": 3
   },
   "file_extension": ".py",
   "mimetype": "text/x-python",
   "name": "python",
   "nbconvert_exporter": "python",
   "pygments_lexer": "ipython3",
   "version": "3.6.10"
  }
 },
 "nbformat": 4,
 "nbformat_minor": 2
}
