{
 "cells": [
  {
   "cell_type": "code",
   "execution_count": 1,
   "metadata": {},
   "outputs": [
    {
     "name": "stdout",
     "output_type": "stream",
     "text": [
      "(11077, 4)\n",
      "(11077, 4)\n"
     ]
    }
   ],
   "source": [
    "import pandas as pd\n",
    "import numpy as np\n",
    "import matplotlib.pyplot as plt\n",
    "\n",
    "acc_name16 = 'new 16 labeled NEW_acelerometro_terra.csv'\n",
    "gir_name16 = 'new 16 labeled NEW_giroscopio_terra.csv'\n",
    "\n",
    "nums = [16,17,20,21]\n",
    "\n",
    "acc_data = []\n",
    "gir_data = []\n",
    "\n",
    "for num in nums:\n",
    "    data = pd.read_csv(\"new \"+str(num)+\" labeled NEW_acelerometro_terra.csv\")\n",
    "    data = data.drop(['Unnamed: 0','Unnamed: 0.1','Time'] ,axis=1)\n",
    "    data = data.values\n",
    "    for rec in data:\n",
    "        if rec[3] != 0:\n",
    "            acc_data.append(np.array(rec))\n",
    "\n",
    "for num in nums:\n",
    "    data = pd.read_csv(\"new \"+str(num)+\" labeled NEW_giroscopio_terra.csv\")\n",
    "    data = data.drop(['Unnamed: 0','Unnamed: 0.1','Time'] ,axis=1)\n",
    "    data = data.values\n",
    "    for rec in data:\n",
    "        if rec[3] != 0:\n",
    "            gir_data.append(np.array(rec))\n",
    "            \n",
    "acc_data = np.array(acc_data)\n",
    "gir_data = np.array(gir_data)\n",
    "\n",
    "print(acc_data.shape)\n",
    "print(gir_data.shape)\n"
   ]
  },
  {
   "cell_type": "code",
   "execution_count": 2,
   "metadata": {},
   "outputs": [
    {
     "name": "stdout",
     "output_type": "stream",
     "text": [
      "(11077, 8)\n"
     ]
    }
   ],
   "source": [
    "data = np.concatenate((acc_data,gir_data),axis=1)\n",
    "print(data.shape)"
   ]
  },
  {
   "cell_type": "code",
   "execution_count": 6,
   "metadata": {},
   "outputs": [
    {
     "data": {
      "text/html": [
       "<div>\n",
       "<style scoped>\n",
       "    .dataframe tbody tr th:only-of-type {\n",
       "        vertical-align: middle;\n",
       "    }\n",
       "\n",
       "    .dataframe tbody tr th {\n",
       "        vertical-align: top;\n",
       "    }\n",
       "\n",
       "    .dataframe thead th {\n",
       "        text-align: right;\n",
       "    }\n",
       "</style>\n",
       "<table border=\"1\" class=\"dataframe\">\n",
       "  <thead>\n",
       "    <tr style=\"text-align: right;\">\n",
       "      <th></th>\n",
       "      <th>ax</th>\n",
       "      <th>ay</th>\n",
       "      <th>az</th>\n",
       "      <th>-</th>\n",
       "      <th>gx</th>\n",
       "      <th>gy</th>\n",
       "      <th>gz</th>\n",
       "      <th>Lebal</th>\n",
       "    </tr>\n",
       "  </thead>\n",
       "  <tbody>\n",
       "    <tr>\n",
       "      <th>0</th>\n",
       "      <td>0.117521</td>\n",
       "      <td>0.840335</td>\n",
       "      <td>9.726693</td>\n",
       "      <td>3.0</td>\n",
       "      <td>-0.013647</td>\n",
       "      <td>0.012760</td>\n",
       "      <td>0.000465</td>\n",
       "      <td>3.0</td>\n",
       "    </tr>\n",
       "    <tr>\n",
       "      <th>1</th>\n",
       "      <td>0.155864</td>\n",
       "      <td>0.908074</td>\n",
       "      <td>9.679671</td>\n",
       "      <td>3.0</td>\n",
       "      <td>0.003143</td>\n",
       "      <td>0.011301</td>\n",
       "      <td>-0.014550</td>\n",
       "      <td>3.0</td>\n",
       "    </tr>\n",
       "    <tr>\n",
       "      <th>2</th>\n",
       "      <td>0.203948</td>\n",
       "      <td>1.110057</td>\n",
       "      <td>9.767217</td>\n",
       "      <td>3.0</td>\n",
       "      <td>0.000066</td>\n",
       "      <td>0.005377</td>\n",
       "      <td>0.006871</td>\n",
       "      <td>3.0</td>\n",
       "    </tr>\n",
       "    <tr>\n",
       "      <th>3</th>\n",
       "      <td>0.240043</td>\n",
       "      <td>1.115287</td>\n",
       "      <td>9.731933</td>\n",
       "      <td>3.0</td>\n",
       "      <td>0.009081</td>\n",
       "      <td>-0.004321</td>\n",
       "      <td>-0.000597</td>\n",
       "      <td>3.0</td>\n",
       "    </tr>\n",
       "    <tr>\n",
       "      <th>4</th>\n",
       "      <td>0.256639</td>\n",
       "      <td>1.016287</td>\n",
       "      <td>9.606055</td>\n",
       "      <td>3.0</td>\n",
       "      <td>-0.017216</td>\n",
       "      <td>-0.000897</td>\n",
       "      <td>0.014706</td>\n",
       "      <td>3.0</td>\n",
       "    </tr>\n",
       "  </tbody>\n",
       "</table>\n",
       "</div>"
      ],
      "text/plain": [
       "         ax        ay        az    -        gx        gy        gz  Lebal\n",
       "0  0.117521  0.840335  9.726693  3.0 -0.013647  0.012760  0.000465    3.0\n",
       "1  0.155864  0.908074  9.679671  3.0  0.003143  0.011301 -0.014550    3.0\n",
       "2  0.203948  1.110057  9.767217  3.0  0.000066  0.005377  0.006871    3.0\n",
       "3  0.240043  1.115287  9.731933  3.0  0.009081 -0.004321 -0.000597    3.0\n",
       "4  0.256639  1.016287  9.606055  3.0 -0.017216 -0.000897  0.014706    3.0"
      ]
     },
     "execution_count": 6,
     "metadata": {},
     "output_type": "execute_result"
    }
   ],
   "source": [
    "df = pd.DataFrame(data,columns = ['ax','ay','az','-','gx','gy','gz','Lebal'])\n",
    "df.head(5)"
   ]
  },
  {
   "cell_type": "code",
   "execution_count": 7,
   "metadata": {},
   "outputs": [
    {
     "data": {
      "text/html": [
       "<div>\n",
       "<style scoped>\n",
       "    .dataframe tbody tr th:only-of-type {\n",
       "        vertical-align: middle;\n",
       "    }\n",
       "\n",
       "    .dataframe tbody tr th {\n",
       "        vertical-align: top;\n",
       "    }\n",
       "\n",
       "    .dataframe thead th {\n",
       "        text-align: right;\n",
       "    }\n",
       "</style>\n",
       "<table border=\"1\" class=\"dataframe\">\n",
       "  <thead>\n",
       "    <tr style=\"text-align: right;\">\n",
       "      <th></th>\n",
       "      <th>ax</th>\n",
       "      <th>ay</th>\n",
       "      <th>az</th>\n",
       "      <th>gx</th>\n",
       "      <th>gy</th>\n",
       "      <th>gz</th>\n",
       "      <th>Lebal</th>\n",
       "    </tr>\n",
       "  </thead>\n",
       "  <tbody>\n",
       "    <tr>\n",
       "      <th>0</th>\n",
       "      <td>0.117521</td>\n",
       "      <td>0.840335</td>\n",
       "      <td>9.726693</td>\n",
       "      <td>-0.013647</td>\n",
       "      <td>0.012760</td>\n",
       "      <td>0.000465</td>\n",
       "      <td>3.0</td>\n",
       "    </tr>\n",
       "    <tr>\n",
       "      <th>1</th>\n",
       "      <td>0.155864</td>\n",
       "      <td>0.908074</td>\n",
       "      <td>9.679671</td>\n",
       "      <td>0.003143</td>\n",
       "      <td>0.011301</td>\n",
       "      <td>-0.014550</td>\n",
       "      <td>3.0</td>\n",
       "    </tr>\n",
       "    <tr>\n",
       "      <th>2</th>\n",
       "      <td>0.203948</td>\n",
       "      <td>1.110057</td>\n",
       "      <td>9.767217</td>\n",
       "      <td>0.000066</td>\n",
       "      <td>0.005377</td>\n",
       "      <td>0.006871</td>\n",
       "      <td>3.0</td>\n",
       "    </tr>\n",
       "    <tr>\n",
       "      <th>3</th>\n",
       "      <td>0.240043</td>\n",
       "      <td>1.115287</td>\n",
       "      <td>9.731933</td>\n",
       "      <td>0.009081</td>\n",
       "      <td>-0.004321</td>\n",
       "      <td>-0.000597</td>\n",
       "      <td>3.0</td>\n",
       "    </tr>\n",
       "    <tr>\n",
       "      <th>4</th>\n",
       "      <td>0.256639</td>\n",
       "      <td>1.016287</td>\n",
       "      <td>9.606055</td>\n",
       "      <td>-0.017216</td>\n",
       "      <td>-0.000897</td>\n",
       "      <td>0.014706</td>\n",
       "      <td>3.0</td>\n",
       "    </tr>\n",
       "  </tbody>\n",
       "</table>\n",
       "</div>"
      ],
      "text/plain": [
       "         ax        ay        az        gx        gy        gz  Lebal\n",
       "0  0.117521  0.840335  9.726693 -0.013647  0.012760  0.000465    3.0\n",
       "1  0.155864  0.908074  9.679671  0.003143  0.011301 -0.014550    3.0\n",
       "2  0.203948  1.110057  9.767217  0.000066  0.005377  0.006871    3.0\n",
       "3  0.240043  1.115287  9.731933  0.009081 -0.004321 -0.000597    3.0\n",
       "4  0.256639  1.016287  9.606055 -0.017216 -0.000897  0.014706    3.0"
      ]
     },
     "execution_count": 7,
     "metadata": {},
     "output_type": "execute_result"
    }
   ],
   "source": [
    "df = df.drop('-',axis=1)\n",
    "df.head(5)"
   ]
  },
  {
   "cell_type": "code",
   "execution_count": 8,
   "metadata": {},
   "outputs": [],
   "source": [
    "df.to_csv('data.csv', index = False)"
   ]
  },
  {
   "cell_type": "code",
   "execution_count": null,
   "metadata": {},
   "outputs": [],
   "source": []
  }
 ],
 "metadata": {
  "kernelspec": {
   "display_name": "Python 3",
   "language": "python",
   "name": "python3"
  },
  "language_info": {
   "codemirror_mode": {
    "name": "ipython",
    "version": 3
   },
   "file_extension": ".py",
   "mimetype": "text/x-python",
   "name": "python",
   "nbconvert_exporter": "python",
   "pygments_lexer": "ipython3",
   "version": "3.6.10"
  }
 },
 "nbformat": 4,
 "nbformat_minor": 4
}
