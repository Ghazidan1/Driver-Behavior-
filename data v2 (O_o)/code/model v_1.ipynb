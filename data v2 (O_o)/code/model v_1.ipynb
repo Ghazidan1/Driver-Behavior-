{
 "cells": [
  {
   "cell_type": "markdown",
   "metadata": {},
   "source": [
    "# this file is the first trained model \n",
    "## with diffrent type of model"
   ]
  },
  {
   "cell_type": "markdown",
   "metadata": {},
   "source": [
    "# start"
   ]
  },
  {
   "cell_type": "markdown",
   "metadata": {},
   "source": [
    "## 1) lood data (just part of the data set (one file) )"
   ]
  },
  {
   "cell_type": "code",
   "execution_count": 1,
   "metadata": {},
   "outputs": [],
   "source": [
    "import pandas as pd\n",
    "import numpy as np\n",
    "import matplotlib.pyplot as plt\n",
    "\n",
    "aceleracao = pd.read_csv(\"../acelerometroTerra16.csv\")\n",
    "giroscopio = pd.read_csv(\"../giroscopioTerra16.csv\")"
   ]
  },
  {
   "cell_type": "code",
   "execution_count": 2,
   "metadata": {},
   "outputs": [
    {
     "data": {
      "text/html": [
       "<div>\n",
       "<style scoped>\n",
       "    .dataframe tbody tr th:only-of-type {\n",
       "        vertical-align: middle;\n",
       "    }\n",
       "\n",
       "    .dataframe tbody tr th {\n",
       "        vertical-align: top;\n",
       "    }\n",
       "\n",
       "    .dataframe thead th {\n",
       "        text-align: right;\n",
       "    }\n",
       "</style>\n",
       "<table border=\"1\" class=\"dataframe\">\n",
       "  <thead>\n",
       "    <tr style=\"text-align: right;\">\n",
       "      <th></th>\n",
       "      <th>Unnamed: 0</th>\n",
       "      <th>ax</th>\n",
       "      <th>ay</th>\n",
       "      <th>az</th>\n",
       "      <th>Time</th>\n",
       "      <th>Lebal</th>\n",
       "    </tr>\n",
       "  </thead>\n",
       "  <tbody>\n",
       "    <tr>\n",
       "      <th>0</th>\n",
       "      <td>0</td>\n",
       "      <td>-0.161602</td>\n",
       "      <td>0.120174</td>\n",
       "      <td>9.596758</td>\n",
       "      <td>0.000000</td>\n",
       "      <td>0</td>\n",
       "    </tr>\n",
       "    <tr>\n",
       "      <th>1</th>\n",
       "      <td>1</td>\n",
       "      <td>-0.122628</td>\n",
       "      <td>0.315638</td>\n",
       "      <td>9.425655</td>\n",
       "      <td>0.009858</td>\n",
       "      <td>0</td>\n",
       "    </tr>\n",
       "    <tr>\n",
       "      <th>2</th>\n",
       "      <td>2</td>\n",
       "      <td>-0.178777</td>\n",
       "      <td>0.330180</td>\n",
       "      <td>9.445955</td>\n",
       "      <td>0.019625</td>\n",
       "      <td>0</td>\n",
       "    </tr>\n",
       "    <tr>\n",
       "      <th>3</th>\n",
       "      <td>3</td>\n",
       "      <td>0.016043</td>\n",
       "      <td>0.038759</td>\n",
       "      <td>9.528445</td>\n",
       "      <td>0.039280</td>\n",
       "      <td>0</td>\n",
       "    </tr>\n",
       "    <tr>\n",
       "      <th>4</th>\n",
       "      <td>4</td>\n",
       "      <td>0.141716</td>\n",
       "      <td>-0.162492</td>\n",
       "      <td>9.756854</td>\n",
       "      <td>0.058935</td>\n",
       "      <td>0</td>\n",
       "    </tr>\n",
       "  </tbody>\n",
       "</table>\n",
       "</div>"
      ],
      "text/plain": [
       "   Unnamed: 0        ax        ay        az      Time  Lebal\n",
       "0           0 -0.161602  0.120174  9.596758  0.000000      0\n",
       "1           1 -0.122628  0.315638  9.425655  0.009858      0\n",
       "2           2 -0.178777  0.330180  9.445955  0.019625      0\n",
       "3           3  0.016043  0.038759  9.528445  0.039280      0\n",
       "4           4  0.141716 -0.162492  9.756854  0.058935      0"
      ]
     },
     "execution_count": 2,
     "metadata": {},
     "output_type": "execute_result"
    }
   ],
   "source": [
    "aceleracao.head(5)"
   ]
  },
  {
   "cell_type": "code",
   "execution_count": 3,
   "metadata": {},
   "outputs": [
    {
     "data": {
      "text/html": [
       "<div>\n",
       "<style scoped>\n",
       "    .dataframe tbody tr th:only-of-type {\n",
       "        vertical-align: middle;\n",
       "    }\n",
       "\n",
       "    .dataframe tbody tr th {\n",
       "        vertical-align: top;\n",
       "    }\n",
       "\n",
       "    .dataframe thead th {\n",
       "        text-align: right;\n",
       "    }\n",
       "</style>\n",
       "<table border=\"1\" class=\"dataframe\">\n",
       "  <thead>\n",
       "    <tr style=\"text-align: right;\">\n",
       "      <th></th>\n",
       "      <th>Unnamed: 0</th>\n",
       "      <th>gx</th>\n",
       "      <th>gy</th>\n",
       "      <th>gz</th>\n",
       "      <th>Time</th>\n",
       "      <th>Lebal</th>\n",
       "    </tr>\n",
       "  </thead>\n",
       "  <tbody>\n",
       "    <tr>\n",
       "      <th>0</th>\n",
       "      <td>0</td>\n",
       "      <td>-0.070372</td>\n",
       "      <td>0.000844</td>\n",
       "      <td>0.029619</td>\n",
       "      <td>0.000000</td>\n",
       "      <td>0</td>\n",
       "    </tr>\n",
       "    <tr>\n",
       "      <th>1</th>\n",
       "      <td>1</td>\n",
       "      <td>-0.058695</td>\n",
       "      <td>0.009130</td>\n",
       "      <td>0.024406</td>\n",
       "      <td>0.010194</td>\n",
       "      <td>0</td>\n",
       "    </tr>\n",
       "    <tr>\n",
       "      <th>2</th>\n",
       "      <td>2</td>\n",
       "      <td>0.006625</td>\n",
       "      <td>-0.002283</td>\n",
       "      <td>-0.015018</td>\n",
       "      <td>0.031894</td>\n",
       "      <td>0</td>\n",
       "    </tr>\n",
       "    <tr>\n",
       "      <th>3</th>\n",
       "      <td>3</td>\n",
       "      <td>0.064933</td>\n",
       "      <td>0.033172</td>\n",
       "      <td>-0.040503</td>\n",
       "      <td>0.049443</td>\n",
       "      <td>0</td>\n",
       "    </tr>\n",
       "    <tr>\n",
       "      <th>4</th>\n",
       "      <td>4</td>\n",
       "      <td>0.039454</td>\n",
       "      <td>-0.013078</td>\n",
       "      <td>-0.007681</td>\n",
       "      <td>0.069525</td>\n",
       "      <td>0</td>\n",
       "    </tr>\n",
       "  </tbody>\n",
       "</table>\n",
       "</div>"
      ],
      "text/plain": [
       "   Unnamed: 0        gx        gy        gz      Time  Lebal\n",
       "0           0 -0.070372  0.000844  0.029619  0.000000      0\n",
       "1           1 -0.058695  0.009130  0.024406  0.010194      0\n",
       "2           2  0.006625 -0.002283 -0.015018  0.031894      0\n",
       "3           3  0.064933  0.033172 -0.040503  0.049443      0\n",
       "4           4  0.039454 -0.013078 -0.007681  0.069525      0"
      ]
     },
     "execution_count": 3,
     "metadata": {},
     "output_type": "execute_result"
    }
   ],
   "source": [
    "giroscopio.head(5)"
   ]
  },
  {
   "cell_type": "code",
   "execution_count": 4,
   "metadata": {},
   "outputs": [],
   "source": [
    "al = aceleracao['Lebal']\n",
    "gl = giroscopio['Lebal']"
   ]
  },
  {
   "cell_type": "markdown",
   "metadata": {},
   "source": [
    "## 2) handel dataset before train"
   ]
  },
  {
   "cell_type": "code",
   "execution_count": 5,
   "metadata": {},
   "outputs": [
    {
     "name": "stdout",
     "output_type": "stream",
     "text": [
      "64645\n",
      "64645\n"
     ]
    }
   ],
   "source": [
    "print (al.size)\n",
    "print (gl.size)"
   ]
  },
  {
   "cell_type": "code",
   "execution_count": 6,
   "metadata": {},
   "outputs": [
    {
     "name": "stderr",
     "output_type": "stream",
     "text": [
      "C:\\Users\\hoomo\\Anaconda3\\lib\\site-packages\\ipykernel_launcher.py:3: SettingWithCopyWarning: \n",
      "A value is trying to be set on a copy of a slice from a DataFrame\n",
      "\n",
      "See the caveats in the documentation: http://pandas.pydata.org/pandas-docs/stable/indexing.html#indexing-view-versus-copy\n",
      "  This is separate from the ipykernel package so we can avoid doing imports until\n",
      "C:\\Users\\hoomo\\Anaconda3\\lib\\site-packages\\ipykernel_launcher.py:4: SettingWithCopyWarning: \n",
      "A value is trying to be set on a copy of a slice from a DataFrame\n",
      "\n",
      "See the caveats in the documentation: http://pandas.pydata.org/pandas-docs/stable/indexing.html#indexing-view-versus-copy\n",
      "  after removing the cwd from sys.path.\n",
      "C:\\Users\\hoomo\\Anaconda3\\lib\\site-packages\\ipykernel_launcher.py:5: SettingWithCopyWarning: \n",
      "A value is trying to be set on a copy of a slice from a DataFrame\n",
      "\n",
      "See the caveats in the documentation: http://pandas.pydata.org/pandas-docs/stable/indexing.html#indexing-view-versus-copy\n",
      "  \"\"\"\n",
      "C:\\Users\\hoomo\\Anaconda3\\lib\\site-packages\\ipykernel_launcher.py:6: SettingWithCopyWarning: \n",
      "A value is trying to be set on a copy of a slice from a DataFrame\n",
      "\n",
      "See the caveats in the documentation: http://pandas.pydata.org/pandas-docs/stable/indexing.html#indexing-view-versus-copy\n",
      "  \n"
     ]
    },
    {
     "name": "stdout",
     "output_type": "stream",
     "text": [
      "332\n",
      "994\n",
      "1529\n",
      "1707\n",
      "12811\n",
      "17762\n",
      "24704\n",
      "25264\n",
      "29899\n",
      "30052\n",
      "38396\n",
      "42822\n",
      "42990\n",
      "49918\n",
      "50081\n",
      "55389\n",
      "55567\n",
      "58058\n",
      "58170\n",
      "61176\n"
     ]
    }
   ],
   "source": [
    "for i in range (0 , al.size):\n",
    "    if al[i] != gl[i]:\n",
    "        aceleracao['Lebal'][i] = al[i-1]\n",
    "        giroscopio['Lebal'][i] = gl[i-1]\n",
    "        al[i] = al[i-1]\n",
    "        gl[i] = gl[i-1]\n",
    "        print(i)"
   ]
  },
  {
   "cell_type": "code",
   "execution_count": 7,
   "metadata": {},
   "outputs": [],
   "source": [
    "for i in range (0 , al.size):\n",
    "    if al[i] != gl[i]:\n",
    "        print('k')"
   ]
  },
  {
   "cell_type": "code",
   "execution_count": 8,
   "metadata": {},
   "outputs": [],
   "source": [
    "for i in range (0 , al.size):\n",
    "    if aceleracao['Lebal'][i] != giroscopio['Lebal'][i]:\n",
    "        print('k')"
   ]
  },
  {
   "cell_type": "code",
   "execution_count": 9,
   "metadata": {},
   "outputs": [],
   "source": [
    "aceleracao = pd.DataFrame(aceleracao)\n",
    "giroscopio = pd.DataFrame(giroscopio)\n",
    "aceleracao = aceleracao.drop(['Lebal'],axis=1)\n",
    "result = pd.concat([aceleracao, giroscopio], axis=1, sort=False)\n"
   ]
  },
  {
   "cell_type": "code",
   "execution_count": 10,
   "metadata": {},
   "outputs": [
    {
     "data": {
      "text/html": [
       "<div>\n",
       "<style scoped>\n",
       "    .dataframe tbody tr th:only-of-type {\n",
       "        vertical-align: middle;\n",
       "    }\n",
       "\n",
       "    .dataframe tbody tr th {\n",
       "        vertical-align: top;\n",
       "    }\n",
       "\n",
       "    .dataframe thead th {\n",
       "        text-align: right;\n",
       "    }\n",
       "</style>\n",
       "<table border=\"1\" class=\"dataframe\">\n",
       "  <thead>\n",
       "    <tr style=\"text-align: right;\">\n",
       "      <th></th>\n",
       "      <th>Unnamed: 0</th>\n",
       "      <th>ax</th>\n",
       "      <th>ay</th>\n",
       "      <th>az</th>\n",
       "      <th>Time</th>\n",
       "      <th>Unnamed: 0</th>\n",
       "      <th>gx</th>\n",
       "      <th>gy</th>\n",
       "      <th>gz</th>\n",
       "      <th>Time</th>\n",
       "      <th>Lebal</th>\n",
       "    </tr>\n",
       "  </thead>\n",
       "  <tbody>\n",
       "    <tr>\n",
       "      <th>0</th>\n",
       "      <td>0</td>\n",
       "      <td>-0.161602</td>\n",
       "      <td>0.120174</td>\n",
       "      <td>9.596758</td>\n",
       "      <td>0.000000</td>\n",
       "      <td>0</td>\n",
       "      <td>-0.070372</td>\n",
       "      <td>0.000844</td>\n",
       "      <td>0.029619</td>\n",
       "      <td>0.000000</td>\n",
       "      <td>0</td>\n",
       "    </tr>\n",
       "    <tr>\n",
       "      <th>1</th>\n",
       "      <td>1</td>\n",
       "      <td>-0.122628</td>\n",
       "      <td>0.315638</td>\n",
       "      <td>9.425655</td>\n",
       "      <td>0.009858</td>\n",
       "      <td>1</td>\n",
       "      <td>-0.058695</td>\n",
       "      <td>0.009130</td>\n",
       "      <td>0.024406</td>\n",
       "      <td>0.010194</td>\n",
       "      <td>0</td>\n",
       "    </tr>\n",
       "    <tr>\n",
       "      <th>2</th>\n",
       "      <td>2</td>\n",
       "      <td>-0.178777</td>\n",
       "      <td>0.330180</td>\n",
       "      <td>9.445955</td>\n",
       "      <td>0.019625</td>\n",
       "      <td>2</td>\n",
       "      <td>0.006625</td>\n",
       "      <td>-0.002283</td>\n",
       "      <td>-0.015018</td>\n",
       "      <td>0.031894</td>\n",
       "      <td>0</td>\n",
       "    </tr>\n",
       "    <tr>\n",
       "      <th>3</th>\n",
       "      <td>3</td>\n",
       "      <td>0.016043</td>\n",
       "      <td>0.038759</td>\n",
       "      <td>9.528445</td>\n",
       "      <td>0.039280</td>\n",
       "      <td>3</td>\n",
       "      <td>0.064933</td>\n",
       "      <td>0.033172</td>\n",
       "      <td>-0.040503</td>\n",
       "      <td>0.049443</td>\n",
       "      <td>0</td>\n",
       "    </tr>\n",
       "    <tr>\n",
       "      <th>4</th>\n",
       "      <td>4</td>\n",
       "      <td>0.141716</td>\n",
       "      <td>-0.162492</td>\n",
       "      <td>9.756854</td>\n",
       "      <td>0.058935</td>\n",
       "      <td>4</td>\n",
       "      <td>0.039454</td>\n",
       "      <td>-0.013078</td>\n",
       "      <td>-0.007681</td>\n",
       "      <td>0.069525</td>\n",
       "      <td>0</td>\n",
       "    </tr>\n",
       "  </tbody>\n",
       "</table>\n",
       "</div>"
      ],
      "text/plain": [
       "   Unnamed: 0        ax        ay        az      Time  Unnamed: 0        gx  \\\n",
       "0           0 -0.161602  0.120174  9.596758  0.000000           0 -0.070372   \n",
       "1           1 -0.122628  0.315638  9.425655  0.009858           1 -0.058695   \n",
       "2           2 -0.178777  0.330180  9.445955  0.019625           2  0.006625   \n",
       "3           3  0.016043  0.038759  9.528445  0.039280           3  0.064933   \n",
       "4           4  0.141716 -0.162492  9.756854  0.058935           4  0.039454   \n",
       "\n",
       "         gy        gz      Time  Lebal  \n",
       "0  0.000844  0.029619  0.000000      0  \n",
       "1  0.009130  0.024406  0.010194      0  \n",
       "2 -0.002283 -0.015018  0.031894      0  \n",
       "3  0.033172 -0.040503  0.049443      0  \n",
       "4 -0.013078 -0.007681  0.069525      0  "
      ]
     },
     "execution_count": 10,
     "metadata": {},
     "output_type": "execute_result"
    }
   ],
   "source": [
    "result.head(5)"
   ]
  },
  {
   "cell_type": "code",
   "execution_count": 11,
   "metadata": {},
   "outputs": [],
   "source": [
    "result = result.drop(['Unnamed: 0','Unnamed: 0','Time'],axis=1)"
   ]
  },
  {
   "cell_type": "code",
   "execution_count": 12,
   "metadata": {},
   "outputs": [
    {
     "data": {
      "text/html": [
       "<div>\n",
       "<style scoped>\n",
       "    .dataframe tbody tr th:only-of-type {\n",
       "        vertical-align: middle;\n",
       "    }\n",
       "\n",
       "    .dataframe tbody tr th {\n",
       "        vertical-align: top;\n",
       "    }\n",
       "\n",
       "    .dataframe thead th {\n",
       "        text-align: right;\n",
       "    }\n",
       "</style>\n",
       "<table border=\"1\" class=\"dataframe\">\n",
       "  <thead>\n",
       "    <tr style=\"text-align: right;\">\n",
       "      <th></th>\n",
       "      <th>ax</th>\n",
       "      <th>ay</th>\n",
       "      <th>az</th>\n",
       "      <th>gx</th>\n",
       "      <th>gy</th>\n",
       "      <th>gz</th>\n",
       "      <th>Lebal</th>\n",
       "    </tr>\n",
       "  </thead>\n",
       "  <tbody>\n",
       "    <tr>\n",
       "      <th>0</th>\n",
       "      <td>-0.161602</td>\n",
       "      <td>0.120174</td>\n",
       "      <td>9.596758</td>\n",
       "      <td>-0.070372</td>\n",
       "      <td>0.000844</td>\n",
       "      <td>0.029619</td>\n",
       "      <td>0</td>\n",
       "    </tr>\n",
       "    <tr>\n",
       "      <th>1</th>\n",
       "      <td>-0.122628</td>\n",
       "      <td>0.315638</td>\n",
       "      <td>9.425655</td>\n",
       "      <td>-0.058695</td>\n",
       "      <td>0.009130</td>\n",
       "      <td>0.024406</td>\n",
       "      <td>0</td>\n",
       "    </tr>\n",
       "    <tr>\n",
       "      <th>2</th>\n",
       "      <td>-0.178777</td>\n",
       "      <td>0.330180</td>\n",
       "      <td>9.445955</td>\n",
       "      <td>0.006625</td>\n",
       "      <td>-0.002283</td>\n",
       "      <td>-0.015018</td>\n",
       "      <td>0</td>\n",
       "    </tr>\n",
       "    <tr>\n",
       "      <th>3</th>\n",
       "      <td>0.016043</td>\n",
       "      <td>0.038759</td>\n",
       "      <td>9.528445</td>\n",
       "      <td>0.064933</td>\n",
       "      <td>0.033172</td>\n",
       "      <td>-0.040503</td>\n",
       "      <td>0</td>\n",
       "    </tr>\n",
       "    <tr>\n",
       "      <th>4</th>\n",
       "      <td>0.141716</td>\n",
       "      <td>-0.162492</td>\n",
       "      <td>9.756854</td>\n",
       "      <td>0.039454</td>\n",
       "      <td>-0.013078</td>\n",
       "      <td>-0.007681</td>\n",
       "      <td>0</td>\n",
       "    </tr>\n",
       "  </tbody>\n",
       "</table>\n",
       "</div>"
      ],
      "text/plain": [
       "         ax        ay        az        gx        gy        gz  Lebal\n",
       "0 -0.161602  0.120174  9.596758 -0.070372  0.000844  0.029619      0\n",
       "1 -0.122628  0.315638  9.425655 -0.058695  0.009130  0.024406      0\n",
       "2 -0.178777  0.330180  9.445955  0.006625 -0.002283 -0.015018      0\n",
       "3  0.016043  0.038759  9.528445  0.064933  0.033172 -0.040503      0\n",
       "4  0.141716 -0.162492  9.756854  0.039454 -0.013078 -0.007681      0"
      ]
     },
     "execution_count": 12,
     "metadata": {},
     "output_type": "execute_result"
    }
   ],
   "source": [
    "result.head(5)"
   ]
  },
  {
   "cell_type": "markdown",
   "metadata": {},
   "source": [
    "## 3) splite data set (X,y)"
   ]
  },
  {
   "cell_type": "code",
   "execution_count": 13,
   "metadata": {},
   "outputs": [],
   "source": [
    "data = result.values\n",
    "X = data[:, 0:6]  # all rows, no label\n",
    "y = data[:, 6]  # all rows, label only\n"
   ]
  },
  {
   "cell_type": "code",
   "execution_count": 14,
   "metadata": {},
   "outputs": [
    {
     "data": {
      "text/html": [
       "<div>\n",
       "<style scoped>\n",
       "    .dataframe tbody tr th:only-of-type {\n",
       "        vertical-align: middle;\n",
       "    }\n",
       "\n",
       "    .dataframe tbody tr th {\n",
       "        vertical-align: top;\n",
       "    }\n",
       "\n",
       "    .dataframe thead th {\n",
       "        text-align: right;\n",
       "    }\n",
       "</style>\n",
       "<table border=\"1\" class=\"dataframe\">\n",
       "  <thead>\n",
       "    <tr style=\"text-align: right;\">\n",
       "      <th></th>\n",
       "      <th>0</th>\n",
       "      <th>1</th>\n",
       "      <th>2</th>\n",
       "      <th>3</th>\n",
       "      <th>4</th>\n",
       "      <th>5</th>\n",
       "    </tr>\n",
       "  </thead>\n",
       "  <tbody>\n",
       "    <tr>\n",
       "      <th>0</th>\n",
       "      <td>-0.161602</td>\n",
       "      <td>0.120174</td>\n",
       "      <td>9.596758</td>\n",
       "      <td>-0.070372</td>\n",
       "      <td>0.000844</td>\n",
       "      <td>0.029619</td>\n",
       "    </tr>\n",
       "    <tr>\n",
       "      <th>1</th>\n",
       "      <td>-0.122628</td>\n",
       "      <td>0.315638</td>\n",
       "      <td>9.425655</td>\n",
       "      <td>-0.058695</td>\n",
       "      <td>0.009130</td>\n",
       "      <td>0.024406</td>\n",
       "    </tr>\n",
       "    <tr>\n",
       "      <th>2</th>\n",
       "      <td>-0.178777</td>\n",
       "      <td>0.330180</td>\n",
       "      <td>9.445955</td>\n",
       "      <td>0.006625</td>\n",
       "      <td>-0.002283</td>\n",
       "      <td>-0.015018</td>\n",
       "    </tr>\n",
       "    <tr>\n",
       "      <th>3</th>\n",
       "      <td>0.016043</td>\n",
       "      <td>0.038759</td>\n",
       "      <td>9.528445</td>\n",
       "      <td>0.064933</td>\n",
       "      <td>0.033172</td>\n",
       "      <td>-0.040503</td>\n",
       "    </tr>\n",
       "    <tr>\n",
       "      <th>4</th>\n",
       "      <td>0.141716</td>\n",
       "      <td>-0.162492</td>\n",
       "      <td>9.756854</td>\n",
       "      <td>0.039454</td>\n",
       "      <td>-0.013078</td>\n",
       "      <td>-0.007681</td>\n",
       "    </tr>\n",
       "  </tbody>\n",
       "</table>\n",
       "</div>"
      ],
      "text/plain": [
       "          0         1         2         3         4         5\n",
       "0 -0.161602  0.120174  9.596758 -0.070372  0.000844  0.029619\n",
       "1 -0.122628  0.315638  9.425655 -0.058695  0.009130  0.024406\n",
       "2 -0.178777  0.330180  9.445955  0.006625 -0.002283 -0.015018\n",
       "3  0.016043  0.038759  9.528445  0.064933  0.033172 -0.040503\n",
       "4  0.141716 -0.162492  9.756854  0.039454 -0.013078 -0.007681"
      ]
     },
     "execution_count": 14,
     "metadata": {},
     "output_type": "execute_result"
    }
   ],
   "source": [
    "pd.DataFrame(X).head(5)"
   ]
  },
  {
   "cell_type": "code",
   "execution_count": 15,
   "metadata": {},
   "outputs": [
    {
     "data": {
      "text/plain": [
       "array([0., 0.])"
      ]
     },
     "execution_count": 15,
     "metadata": {},
     "output_type": "execute_result"
    }
   ],
   "source": [
    "y[0:2]"
   ]
  },
  {
   "cell_type": "markdown",
   "metadata": {},
   "source": [
    "## 4) splite dataset as (X_train, X_test, y_train, y_test)"
   ]
  },
  {
   "cell_type": "code",
   "execution_count": 16,
   "metadata": {},
   "outputs": [],
   "source": [
    "import numpy as np # linear algebra\n",
    "import pandas as pd # data processing, CSV file I/O (e.g. pd.read_csv)\n",
    "\n",
    "from sklearn.model_selection import train_test_split\n",
    "from sklearn.preprocessing import StandardScaler\n",
    "\n",
    "import matplotlib.pyplot as plt\n",
    "\n",
    "from subprocess import check_output\n",
    "from datetime import time"
   ]
  },
  {
   "cell_type": "code",
   "execution_count": 17,
   "metadata": {},
   "outputs": [],
   "source": [
    "X_train, X_test, y_train, y_test = train_test_split(X, y, test_size=0.25, random_state=42)"
   ]
  },
  {
   "cell_type": "markdown",
   "metadata": {},
   "source": [
    "## 5) scale dataset to re range it  "
   ]
  },
  {
   "cell_type": "code",
   "execution_count": 18,
   "metadata": {},
   "outputs": [],
   "source": [
    "scaler = StandardScaler()\n",
    "scaler.fit(X_train)\n",
    "X_train = scaler.transform(X_train)\n",
    "X_test = scaler.transform(X_test)"
   ]
  },
  {
   "cell_type": "markdown",
   "metadata": {},
   "source": [
    "## 6) train the first modle"
   ]
  },
  {
   "cell_type": "code",
   "execution_count": 19,
   "metadata": {},
   "outputs": [
    {
     "name": "stderr",
     "output_type": "stream",
     "text": [
      "C:\\Users\\hoomo\\Anaconda3\\lib\\site-packages\\sklearn\\ensemble\\forest.py:245: FutureWarning: The default value of n_estimators will change from 10 in version 0.20 to 100 in 0.22.\n",
      "  \"10 in version 0.20 to 100 in 0.22.\", FutureWarning)\n"
     ]
    }
   ],
   "source": [
    "from sklearn.ensemble import RandomForestClassifier\n",
    "rfc=RandomForestClassifier()\n",
    "rfc.fit(X_train,y_train)\n",
    "ypred=rfc.predict(X_test)\n",
    "m1accurcy = rfc.score(X_test, y_test)"
   ]
  },
  {
   "cell_type": "markdown",
   "metadata": {},
   "source": [
    "## 7) train the second modle"
   ]
  },
  {
   "cell_type": "code",
   "execution_count": 20,
   "metadata": {},
   "outputs": [],
   "source": [
    "from sklearn.ensemble import RandomForestClassifier\n",
    "rfc2=RandomForestClassifier(n_estimators=100)\n",
    "rfc2.fit(X_train,y_train)\n",
    "ypred2=rfc2.predict(X_test)\n",
    "m2accurcy = rfc2.score(X_test, y_test)"
   ]
  },
  {
   "cell_type": "markdown",
   "metadata": {},
   "source": [
    "## 8) train the third modle"
   ]
  },
  {
   "cell_type": "code",
   "execution_count": 21,
   "metadata": {},
   "outputs": [],
   "source": [
    "# Stochastic Gradient Descent\n",
    "from sklearn.linear_model import SGDClassifier\n",
    "model = SGDClassifier(loss=\"hinge\", penalty=\"l2\")\n",
    "model.fit(X_train, y_train)\n",
    "m3accurcy = model.score(X_test, y_test)"
   ]
  },
  {
   "cell_type": "markdown",
   "metadata": {},
   "source": [
    "## 9) print accuracy of the three modles"
   ]
  },
  {
   "cell_type": "code",
   "execution_count": 22,
   "metadata": {},
   "outputs": [
    {
     "name": "stdout",
     "output_type": "stream",
     "text": [
      "model1_accuracy =  0.9733943818834303\n",
      "model2_accuracy =  0.9745699789629997\n",
      "model3_accuracy =  0.9598440787031308\n"
     ]
    }
   ],
   "source": [
    "print(\"model1_accuracy = \" , m1accurcy)\n",
    "print(\"model2_accuracy = \" , m2accurcy)\n",
    "print(\"model3_accuracy = \" , m3accurcy)"
   ]
  }
 ],
 "metadata": {
  "kernelspec": {
   "display_name": "Python 3",
   "language": "python",
   "name": "python3"
  },
  "language_info": {
   "codemirror_mode": {
    "name": "ipython",
    "version": 3
   },
   "file_extension": ".py",
   "mimetype": "text/x-python",
   "name": "python",
   "nbconvert_exporter": "python",
   "pygments_lexer": "ipython3",
   "version": "3.6.10"
  }
 },
 "nbformat": 4,
 "nbformat_minor": 2
}
